{
 "cells": [
  {
   "cell_type": "code",
   "execution_count": 1,
   "metadata": {},
   "outputs": [],
   "source": [
    "import numpy as np\n",
    "import pandas as pd\n",
    "from sklearn.pipeline import make_pipeline, Pipeline\n",
    "from sklearn.compose import ColumnTransformer, make_column_transformer\n",
    "from sklearn.preprocessing import OneHotEncoder, FunctionTransformer, MinMaxScaler"
   ]
  },
  {
   "cell_type": "code",
   "execution_count": 2,
   "metadata": {},
   "outputs": [],
   "source": [
    "data = pd.read_csv('/Users/james/code/lucasglanville/and_theyre_off_backend/raw_data/horse_racing_raw.csv')"
   ]
  },
  {
   "cell_type": "code",
   "execution_count": 7,
   "metadata": {},
   "outputs": [
    {
     "data": {
      "text/plain": [
       "f_going\n",
       "GD         99424\n",
       "STD        58454\n",
       "GTS        41765\n",
       "SFT        41301\n",
       "GTF        32361\n",
       "STSL       22462\n",
       "YLD        13973\n",
       "HVY        13786\n",
       "GTY        11583\n",
       "YTS         4926\n",
       "HTS         4462\n",
       "FRM          786\n",
       "dtype: int64"
      ]
     },
     "execution_count": 7,
     "metadata": {},
     "output_type": "execute_result"
    }
   ],
   "source": [
    "data[['f_going']].value_counts()"
   ]
  },
  {
   "cell_type": "code",
   "execution_count": 10,
   "metadata": {},
   "outputs": [],
   "source": [
    "def going_coder(x):\n",
    "    if x == 'FRM':\n",
    "        return 1\n",
    "    elif x == 'GTF':\n",
    "        return 2\n",
    "    elif x == 'GD' or x == 'GTY' or x == 'STD':\n",
    "        return 3\n",
    "    elif x == 'YLD' or x == 'YTS' or x == 'STSL' or x == 'GTS':\n",
    "        return 4\n",
    "    elif x == 'SFT':\n",
    "        return 5\n",
    "    elif x == 'HVY' or x == 'HTS':\n",
    "        return 6"
   ]
  },
  {
   "cell_type": "code",
   "execution_count": 16,
   "metadata": {},
   "outputs": [],
   "source": [
    "data['f_going'] = data['f_going'].apply(going_coder)"
   ]
  },
  {
   "cell_type": "code",
   "execution_count": 19,
   "metadata": {},
   "outputs": [
    {
     "data": {
      "text/plain": [
       "f_going\n",
       "3.0        169461\n",
       "4.0         83126\n",
       "5.0         41301\n",
       "2.0         32361\n",
       "6.0         18248\n",
       "1.0           786\n",
       "dtype: int64"
      ]
     },
     "execution_count": 19,
     "metadata": {},
     "output_type": "execute_result"
    }
   ],
   "source": [
    "data[['f_going']].value_counts()"
   ]
  },
  {
   "cell_type": "code",
   "execution_count": null,
   "metadata": {},
   "outputs": [],
   "source": []
  }
 ],
 "metadata": {
  "kernelspec": {
   "display_name": "lewagon",
   "language": "python",
   "name": "python3"
  },
  "language_info": {
   "codemirror_mode": {
    "name": "ipython",
    "version": 3
   },
   "file_extension": ".py",
   "mimetype": "text/x-python",
   "name": "python",
   "nbconvert_exporter": "python",
   "pygments_lexer": "ipython3",
   "version": "3.10.6"
  },
  "orig_nbformat": 4
 },
 "nbformat": 4,
 "nbformat_minor": 2
}
