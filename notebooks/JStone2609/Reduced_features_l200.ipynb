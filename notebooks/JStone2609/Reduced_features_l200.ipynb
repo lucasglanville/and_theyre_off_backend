{
 "cells": [
  {
   "cell_type": "code",
   "execution_count": 1,
   "id": "33515bc9",
   "metadata": {},
   "outputs": [
    {
     "name": "stderr",
     "output_type": "stream",
     "text": [
      "/var/folders/w6/wdkqbmf17b90n_r35p0cb7x00000gn/T/ipykernel_23186/3196192453.py:5: DtypeWarning: Columns (19) have mixed types. Specify dtype option on import or set low_memory=False.\n",
      "  data  = pd.read_csv(\"../raw_data/raw_data_v2.2.csv\")\n"
     ]
    },
    {
     "name": "stdout",
     "output_type": "stream",
     "text": [
      "first 221 rows removed. New shape = (118354, 116)\n"
     ]
    },
    {
     "name": "stderr",
     "output_type": "stream",
     "text": [
      "/Users/joshstone/code/lucasglanville/and_theyre_off_backend/Preprocessing/data_clean.py:26: SettingWithCopyWarning: \n",
      "A value is trying to be set on a copy of a slice from a DataFrame.\n",
      "Try using .loc[row_indexer,col_indexer] = value instead\n",
      "\n",
      "See the caveats in the documentation: https://pandas.pydata.org/pandas-docs/stable/user_guide/indexing.html#returning-a-view-versus-a-copy\n",
      "  data[columns_to_impute] = data[columns_to_impute].apply(impute_row, axis=1)\n"
     ]
    },
    {
     "name": "stdout",
     "output_type": "stream",
     "text": [
      "Cleaned up missing odds. New shape = (118093, 116)\n",
      "Added Josh features. New shape = (118093, 123)\n",
      "Added Oli features 2/4. New shape = (118093, 125)\n",
      "Added Oli features 4/4. New shape = (118093, 127)\n",
      "number of columns:  128\n",
      "✅ DROPPED IRRELEVANT COLUMNS\n",
      "✅ DROPPED ROWS WITH NULL VALUES\n",
      "✅ WHITESPACE STRIPPED FROM 'f_track'\n",
      "✅ ODDS CONVERTED TO PROBABILITY (1/ODDS)\n",
      "✅ WINNERS CODED AS '1', REST '0'\n",
      "✅ 'f_ko' CONVERTED TO DATETIME\n",
      "✅ TRACK CONDITIONS ORDINALLY ENCODED\n",
      "✅ NUMERIC FEATURES MINMAX-SCALED\n",
      "✅ IMPUTED 'no_headgear' for NULLS IN 'f_headgear'\n",
      "✅ IMPUTED MEAN FOR NULLS IN 'f_dob' & 'f_prb_avg'\n",
      "✅ IMPUTED '0' FOR NULLS IN 68 x FEATURES\n",
      "✅ CAT. FEATURES OH-ENCODED (Track, Headgear, Country)\n",
      "number of columns:  88\n",
      "✅ COLUMN TRANSFORMER ASSEMBLED\n",
      "⏳ FIT_TRANSFORMING THE PREPROCESSING PIPE...\n",
      "number of columns:  164\n",
      "✅ DATA PROCESSED WITH SHAPE: (117468, 164)\n",
      "(85895, 164)\n"
     ]
    }
   ],
   "source": [
    "from data_clean import remove_221_rows, dropping_no_betting_data, josh_features, fill_f_pm_01m, class_or_rating_average, oli_features\n",
    "from v2_preprocessor import preprocess_features_v2\n",
    "import pandas as pd\n",
    "\n",
    "data  = pd.read_csv(\"../raw_data/raw_data_v2.2.csv\")\n",
    "\n",
    "data_cleaned = remove_221_rows(data)\n",
    "data_cleaned = dropping_no_betting_data(data_cleaned)\n",
    "data_cleaned = josh_features(data_cleaned)\n",
    "data_cleaned = class_or_rating_average(data_cleaned)\n",
    "data_cleaned = oli_features(data_cleaned)\n",
    "data_cleaned = fill_f_pm_01m(data_cleaned)\n",
    "\n",
    "\n",
    "\n",
    "preprocessed_data = preprocess_features_v2(data_cleaned)\n",
    "\n",
    "preprocessed_data.to_csv(\"../raw_data/data_cleaned_and_preprocessed.csv\", index=False)\n",
    "\n",
    "data = pd.read_csv(\"../raw_data/data_cleaned_and_preprocessed.csv\")\n",
    "data.sort_values(by='f_ko')\n",
    "data = data[(data['f_pm_01m'] <= 25)]\n",
    "data = data.reset_index(drop=True)\n",
    "print(data.shape)"
   ]
  },
  {
   "cell_type": "code",
   "execution_count": 2,
   "id": "1d7caa17",
   "metadata": {},
   "outputs": [
    {
     "name": "stdout",
     "output_type": "stream",
     "text": [
      "(85895, 164)\n",
      "(85895, 6)\n",
      "(85895,)\n",
      "(85895, 7)\n"
     ]
    }
   ],
   "source": [
    "backtest = data[['f_ko','f_id', 'id','f_horse','f_pm_01m', 'linear_target', 'f_place']]\n",
    "\n",
    "# #X = data[['f_runners','or_rating_vs_avg_race', 'stall_position', \n",
    "#           'iv_horse_at', 'iv_trainer_l200r', 'iv_trainer_l50r', 'iv_trainer_l16r', 'iv_trainer_at',\n",
    "#           'iv_jockey_l200r', 'iv_jockey_l50r', 'iv_jockey_l16r', 'iv_jockey_at',\n",
    "#           'ae_horse_l10r', 'ae_horse_l5r' , 'ae_horse_l2r' ,'ae_horse_at',\n",
    "#           'ae_trainer_l200r' , 'ae_trainer_l50r' , 'ae_trainer_l16r' , 'ae_trainer_at',\n",
    "#           'ae_jockey_l200r' , 'ae_jockey_l50r', 'ae_jockey_l16r' , 'ae_jockey_at' , 'f_dob', 'f_prb_avg', 'pred_isp']]\n",
    "\n",
    "\n",
    "\n",
    "X = data[['stall_position', \n",
    "          'iv_trainer_l200r', 'iv_jockey_l200r',\n",
    "          'ae_trainer_l200r' ,'ae_jockey_l200r', 'pred_isp']]\n",
    "\n",
    "\n",
    "\n",
    "\n",
    "\n",
    "\n",
    "\n",
    "y = data[\"f_place\"] #OR 'linear_target'\n",
    "\n",
    "print(data.shape)\n",
    "print(X.shape)\n",
    "print(y.shape)\n",
    "print(backtest.shape)\n",
    "\n",
    "#Train = Year 1\n",
    "#Val = Year 2\n",
    "#Test = Year 3 (6 months)\n"
   ]
  },
  {
   "cell_type": "code",
   "execution_count": 3,
   "id": "1facbc1e",
   "metadata": {},
   "outputs": [],
   "source": [
    "X_train = X.iloc[:33243]\n",
    "X_val = X.iloc[33243:66406]\n",
    "X_test = X.iloc[66406:]\n",
    "y_train = y.iloc[:33243]\n",
    "y_val = y.iloc[33243:66406]\n",
    "y_test = y.iloc[66406:]\n",
    "backtest_train = backtest.iloc[:33243]\n",
    "backtest_val = backtest.iloc[33243:66406]\n",
    "backtest_test = backtest.iloc[66406:]"
   ]
  },
  {
   "cell_type": "code",
   "execution_count": 4,
   "id": "4d28a945",
   "metadata": {},
   "outputs": [
    {
     "data": {
      "text/plain": [
       "(33163, 6)"
      ]
     },
     "execution_count": 4,
     "metadata": {},
     "output_type": "execute_result"
    }
   ],
   "source": [
    "X_val.shape"
   ]
  },
  {
   "cell_type": "code",
   "execution_count": 5,
   "id": "3c3d693b",
   "metadata": {},
   "outputs": [],
   "source": [
    "#buggy data = 2532754    2021-06-20 03:55:00\n",
    "                #29406    20-06-14 18:45:00"
   ]
  },
  {
   "cell_type": "code",
   "execution_count": 6,
   "id": "3d580cd9",
   "metadata": {},
   "outputs": [],
   "source": [
    "# convert labels to a one-hot vector\n",
    "# from tensorflow.keras.utils import to_categorical\n",
    "\n",
    "# train_labels = to_categorical(train_labels)\n",
    "# test_labels = to_categorical(test_labels)\n",
    "\n",
    "# define network architecture\n",
    "from tensorflow.keras.models import Sequential\n",
    "from tensorflow.keras.layers import InputLayer\n",
    "from tensorflow.keras.layers import Dense, Dropout\n",
    "from tensorflow.keras.metrics import Precision, Accuracy, Recall, F1Score\n",
    "from tensorflow.keras.losses import Poisson\n",
    "from tensorflow.keras.optimizers import Adam\n",
    "\n",
    "MLP2 = Sequential()\n",
    "MLP2.add(InputLayer(input_shape=(6, ))) # input layer\n",
    "MLP2.add(Dense(32, activation='relu')) # hidden layer 1\n",
    "MLP2.add(Dense(1, activation='sigmoid')) # output layer\n"
   ]
  },
  {
   "cell_type": "code",
   "execution_count": 7,
   "id": "36e81d85",
   "metadata": {},
   "outputs": [
    {
     "name": "stderr",
     "output_type": "stream",
     "text": [
      "WARNING:absl:At this time, the v2.11+ optimizer `tf.keras.optimizers.Adam` runs slowly on M1/M2 Macs, please use the legacy Keras optimizer instead, located at `tf.keras.optimizers.legacy.Adam`.\n",
      "WARNING:absl:There is a known slowdown when using v2.11+ Keras optimizers on M1/M2 Macs. Falling back to the legacy Keras optimizer, i.e., `tf.keras.optimizers.legacy.Adam`.\n"
     ]
    }
   ],
   "source": [
    "# optimization\n",
    "MLP2.compile(loss='binary_focal_crossentropy',\n",
    "            optimizer=Adam(learning_rate = 0.0001),\n",
    "            metrics=['squared_hinge'])"
   ]
  },
  {
   "cell_type": "code",
   "execution_count": 8,
   "id": "9b45eab9",
   "metadata": {},
   "outputs": [
    {
     "name": "stdout",
     "output_type": "stream",
     "text": [
      "Epoch 1/200\n",
      "1039/1039 [==============================] - 1s 542us/step - loss: 0.1334 - squared_hinge: 1.8125 - val_loss: 0.1063 - val_squared_hinge: 1.6528\n",
      "Epoch 2/200\n",
      "1039/1039 [==============================] - 0s 479us/step - loss: 0.1059 - squared_hinge: 1.6186 - val_loss: 0.1042 - val_squared_hinge: 1.6119\n",
      "Epoch 3/200\n",
      "1039/1039 [==============================] - 0s 476us/step - loss: 0.1045 - squared_hinge: 1.6057 - val_loss: 0.1030 - val_squared_hinge: 1.6044\n",
      "Epoch 4/200\n",
      "1039/1039 [==============================] - 0s 480us/step - loss: 0.1034 - squared_hinge: 1.5997 - val_loss: 0.1021 - val_squared_hinge: 1.6072\n",
      "Epoch 5/200\n",
      "1039/1039 [==============================] - 0s 475us/step - loss: 0.1026 - squared_hinge: 1.5978 - val_loss: 0.1013 - val_squared_hinge: 1.5961\n",
      "Epoch 6/200\n",
      "1039/1039 [==============================] - 1s 503us/step - loss: 0.1019 - squared_hinge: 1.5931 - val_loss: 0.1008 - val_squared_hinge: 1.5954\n",
      "Epoch 7/200\n",
      "1039/1039 [==============================] - 0s 478us/step - loss: 0.1014 - squared_hinge: 1.5905 - val_loss: 0.1004 - val_squared_hinge: 1.5888\n",
      "Epoch 8/200\n",
      "1039/1039 [==============================] - 0s 468us/step - loss: 0.1010 - squared_hinge: 1.5869 - val_loss: 0.1001 - val_squared_hinge: 1.5924\n",
      "Epoch 9/200\n",
      "1039/1039 [==============================] - 0s 470us/step - loss: 0.1008 - squared_hinge: 1.5853 - val_loss: 0.0999 - val_squared_hinge: 1.5918\n",
      "Epoch 10/200\n",
      "1039/1039 [==============================] - 0s 468us/step - loss: 0.1006 - squared_hinge: 1.5843 - val_loss: 0.0997 - val_squared_hinge: 1.5801\n",
      "Epoch 11/200\n",
      "1039/1039 [==============================] - 0s 468us/step - loss: 0.1005 - squared_hinge: 1.5813 - val_loss: 0.0997 - val_squared_hinge: 1.5856\n",
      "Epoch 12/200\n",
      "1039/1039 [==============================] - 0s 476us/step - loss: 0.1005 - squared_hinge: 1.5810 - val_loss: 0.0996 - val_squared_hinge: 1.5798\n",
      "Epoch 13/200\n",
      "1039/1039 [==============================] - 0s 471us/step - loss: 0.1004 - squared_hinge: 1.5806 - val_loss: 0.0996 - val_squared_hinge: 1.5716\n",
      "Epoch 14/200\n",
      "1039/1039 [==============================] - 0s 472us/step - loss: 0.1004 - squared_hinge: 1.5773 - val_loss: 0.0995 - val_squared_hinge: 1.5813\n",
      "Epoch 15/200\n",
      "1039/1039 [==============================] - 0s 474us/step - loss: 0.1004 - squared_hinge: 1.5778 - val_loss: 0.0995 - val_squared_hinge: 1.5806\n",
      "Epoch 16/200\n",
      "1039/1039 [==============================] - 0s 473us/step - loss: 0.1004 - squared_hinge: 1.5785 - val_loss: 0.0995 - val_squared_hinge: 1.5737\n",
      "Epoch 17/200\n",
      "1039/1039 [==============================] - 1s 513us/step - loss: 0.1004 - squared_hinge: 1.5771 - val_loss: 0.0995 - val_squared_hinge: 1.5755\n",
      "Epoch 18/200\n",
      "1039/1039 [==============================] - 0s 473us/step - loss: 0.1004 - squared_hinge: 1.5761 - val_loss: 0.0995 - val_squared_hinge: 1.5807\n",
      "Epoch 19/200\n",
      "1039/1039 [==============================] - 0s 470us/step - loss: 0.1004 - squared_hinge: 1.5774 - val_loss: 0.0995 - val_squared_hinge: 1.5727\n",
      "Epoch 20/200\n",
      "1039/1039 [==============================] - 0s 470us/step - loss: 0.1004 - squared_hinge: 1.5762 - val_loss: 0.0995 - val_squared_hinge: 1.5754\n",
      "Epoch 21/200\n",
      "1039/1039 [==============================] - 0s 470us/step - loss: 0.1003 - squared_hinge: 1.5762 - val_loss: 0.0995 - val_squared_hinge: 1.5757\n",
      "Epoch 22/200\n",
      "1039/1039 [==============================] - 0s 470us/step - loss: 0.1004 - squared_hinge: 1.5767 - val_loss: 0.0995 - val_squared_hinge: 1.5717\n",
      "Epoch 23/200\n",
      "1039/1039 [==============================] - 0s 468us/step - loss: 0.1004 - squared_hinge: 1.5763 - val_loss: 0.0995 - val_squared_hinge: 1.5704\n",
      "Epoch 24/200\n",
      "1039/1039 [==============================] - 0s 479us/step - loss: 0.1004 - squared_hinge: 1.5751 - val_loss: 0.0995 - val_squared_hinge: 1.5785\n",
      "Epoch 25/200\n",
      "1039/1039 [==============================] - 0s 476us/step - loss: 0.1004 - squared_hinge: 1.5762 - val_loss: 0.0995 - val_squared_hinge: 1.5738\n",
      "Epoch 26/200\n",
      "1039/1039 [==============================] - 0s 472us/step - loss: 0.1003 - squared_hinge: 1.5762 - val_loss: 0.0995 - val_squared_hinge: 1.5718\n",
      "Epoch 27/200\n",
      "1039/1039 [==============================] - 0s 470us/step - loss: 0.1003 - squared_hinge: 1.5763 - val_loss: 0.0995 - val_squared_hinge: 1.5693\n",
      "Epoch 28/200\n",
      "1039/1039 [==============================] - 0s 467us/step - loss: 0.1003 - squared_hinge: 1.5748 - val_loss: 0.0995 - val_squared_hinge: 1.5765\n",
      "Epoch 29/200\n",
      "1039/1039 [==============================] - 0s 468us/step - loss: 0.1003 - squared_hinge: 1.5739 - val_loss: 0.0996 - val_squared_hinge: 1.5884\n",
      "Epoch 30/200\n",
      "1039/1039 [==============================] - 0s 468us/step - loss: 0.1003 - squared_hinge: 1.5773 - val_loss: 0.0995 - val_squared_hinge: 1.5801\n",
      "Epoch 31/200\n",
      "1039/1039 [==============================] - 0s 469us/step - loss: 0.1003 - squared_hinge: 1.5757 - val_loss: 0.0995 - val_squared_hinge: 1.5789\n",
      "Epoch 32/200\n",
      "1039/1039 [==============================] - 0s 471us/step - loss: 0.1003 - squared_hinge: 1.5764 - val_loss: 0.0995 - val_squared_hinge: 1.5705\n",
      "Epoch 33/200\n",
      "1039/1039 [==============================] - 0s 472us/step - loss: 0.1003 - squared_hinge: 1.5746 - val_loss: 0.0995 - val_squared_hinge: 1.5793\n"
     ]
    }
   ],
   "source": [
    "from tensorflow.keras.callbacks import EarlyStopping\n",
    "# train (fit)\n",
    "\n",
    "es = EarlyStopping(patience=5, restore_best_weights=True)\n",
    "\n",
    "history = MLP2.fit(X_train, y_train, \n",
    "                  epochs=200, batch_size=32, verbose=1,\n",
    "                  validation_data=(X_val, y_val), callbacks = [es], shuffle = True)"
   ]
  },
  {
   "cell_type": "code",
   "execution_count": 9,
   "id": "30458bb3",
   "metadata": {},
   "outputs": [
    {
     "name": "stdout",
     "output_type": "stream",
     "text": [
      "610/610 [==============================] - 0s 241us/step - loss: 0.0999 - squared_hinge: 1.5769\n"
     ]
    },
    {
     "data": {
      "text/plain": [
       "[0.09985632449388504, 1.576879858970642]"
      ]
     },
     "execution_count": 9,
     "metadata": {},
     "output_type": "execute_result"
    }
   ],
   "source": [
    "# evaluate performance on test data\n",
    "a = MLP2.evaluate(X_test, y_test,\n",
    "                                         verbose=1)\n",
    "a"
   ]
  },
  {
   "cell_type": "code",
   "execution_count": 10,
   "id": "1105c327",
   "metadata": {},
   "outputs": [
    {
     "name": "stdout",
     "output_type": "stream",
     "text": [
      "610/610 [==============================] - 0s 186us/step\n"
     ]
    }
   ],
   "source": [
    "y_pred = MLP2.predict(X_test)"
   ]
  },
  {
   "cell_type": "code",
   "execution_count": 11,
   "id": "0f22f9e2",
   "metadata": {
    "scrolled": true
   },
   "outputs": [
    {
     "data": {
      "text/plain": [
       "array([[0.36287293],\n",
       "       [0.3532714 ],\n",
       "       [0.3439507 ],\n",
       "       ...,\n",
       "       [0.30119476],\n",
       "       [0.2951527 ],\n",
       "       [0.29550558]], dtype=float32)"
      ]
     },
     "execution_count": 11,
     "metadata": {},
     "output_type": "execute_result"
    }
   ],
   "source": [
    "y_pred"
   ]
  },
  {
   "cell_type": "code",
   "execution_count": 12,
   "id": "f540b3ea",
   "metadata": {},
   "outputs": [
    {
     "data": {
      "text/plain": [
       "<Axes: ylabel='Count'>"
      ]
     },
     "execution_count": 12,
     "metadata": {},
     "output_type": "execute_result"
    },
    {
     "data": {
      "image/png": "[encoded data removed]",
      "text/plain": [
       "<Figure size 640x480 with 1 Axes>"
      ]
     },
     "metadata": {},
     "output_type": "display_data"
    }
   ],
   "source": [
    "import seaborn as sns\n",
    "sns.histplot(y_pred, bins = 50, kde=True)"
   ]
  },
  {
   "cell_type": "code",
   "execution_count": 13,
   "id": "e33467fc",
   "metadata": {},
   "outputs": [
    {
     "name": "stderr",
     "output_type": "stream",
     "text": [
      "/var/folders/w6/wdkqbmf17b90n_r35p0cb7x00000gn/T/ipykernel_23186/2727869485.py:1: SettingWithCopyWarning: \n",
      "A value is trying to be set on a copy of a slice from a DataFrame.\n",
      "Try using .loc[row_indexer,col_indexer] = value instead\n",
      "\n",
      "See the caveats in the documentation: https://pandas.pydata.org/pandas-docs/stable/user_guide/indexing.html#returning-a-view-versus-a-copy\n",
      "  backtest_test['model_preds'] = y_pred\n",
      "/var/folders/w6/wdkqbmf17b90n_r35p0cb7x00000gn/T/ipykernel_23186/2727869485.py:2: SettingWithCopyWarning: \n",
      "A value is trying to be set on a copy of a slice from a DataFrame.\n",
      "Try using .loc[row_indexer,col_indexer] = value instead\n",
      "\n",
      "See the caveats in the documentation: https://pandas.pydata.org/pandas-docs/stable/user_guide/indexing.html#returning-a-view-versus-a-copy\n",
      "  backtest_test['odds_preds'] = 1/ backtest_test['f_pm_01m']\n",
      "/var/folders/w6/wdkqbmf17b90n_r35p0cb7x00000gn/T/ipykernel_23186/2727869485.py:3: SettingWithCopyWarning: \n",
      "A value is trying to be set on a copy of a slice from a DataFrame.\n",
      "Try using .loc[row_indexer,col_indexer] = value instead\n",
      "\n",
      "See the caveats in the documentation: https://pandas.pydata.org/pandas-docs/stable/user_guide/indexing.html#returning-a-view-versus-a-copy\n",
      "  backtest_test['model_edge_basic'] = backtest_test['model_preds'] - backtest_test['odds_preds']\n",
      "/var/folders/w6/wdkqbmf17b90n_r35p0cb7x00000gn/T/ipykernel_23186/2727869485.py:4: SettingWithCopyWarning: \n",
      "A value is trying to be set on a copy of a slice from a DataFrame.\n",
      "Try using .loc[row_indexer,col_indexer] = value instead\n",
      "\n",
      "See the caveats in the documentation: https://pandas.pydata.org/pandas-docs/stable/user_guide/indexing.html#returning-a-view-versus-a-copy\n",
      "  backtest_test['model_edge_proportionate'] = backtest_test['model_preds'] / backtest_test['odds_preds']\n"
     ]
    }
   ],
   "source": [
    "backtest_test['model_preds'] = y_pred\n",
    "backtest_test['odds_preds'] = 1/ backtest_test['f_pm_01m']\n",
    "backtest_test['model_edge_basic'] = backtest_test['model_preds'] - backtest_test['odds_preds']\n",
    "backtest_test['model_edge_proportionate'] = backtest_test['model_preds'] / backtest_test['odds_preds']"
   ]
  },
  {
   "cell_type": "code",
   "execution_count": 14,
   "id": "f764a21d",
   "metadata": {},
   "outputs": [
    {
     "name": "stderr",
     "output_type": "stream",
     "text": [
      "/var/folders/w6/wdkqbmf17b90n_r35p0cb7x00000gn/T/ipykernel_23186/502887811.py:6: SettingWithCopyWarning: \n",
      "A value is trying to be set on a copy of a slice from a DataFrame.\n",
      "Try using .loc[row_indexer,col_indexer] = value instead\n",
      "\n",
      "See the caveats in the documentation: https://pandas.pydata.org/pandas-docs/stable/user_guide/indexing.html#returning-a-view-versus-a-copy\n",
      "  backtest_test['race_model_preds'] = backtest_test['f_id'].map(dict_race_preds)\n",
      "/var/folders/w6/wdkqbmf17b90n_r35p0cb7x00000gn/T/ipykernel_23186/502887811.py:7: SettingWithCopyWarning: \n",
      "A value is trying to be set on a copy of a slice from a DataFrame.\n",
      "Try using .loc[row_indexer,col_indexer] = value instead\n",
      "\n",
      "See the caveats in the documentation: https://pandas.pydata.org/pandas-docs/stable/user_guide/indexing.html#returning-a-view-versus-a-copy\n",
      "  backtest_test['race_odds_preds'] = backtest_test['f_id'].map(dict_odds_preds)\n",
      "/var/folders/w6/wdkqbmf17b90n_r35p0cb7x00000gn/T/ipykernel_23186/502887811.py:8: SettingWithCopyWarning: \n",
      "A value is trying to be set on a copy of a slice from a DataFrame.\n",
      "Try using .loc[row_indexer,col_indexer] = value instead\n",
      "\n",
      "See the caveats in the documentation: https://pandas.pydata.org/pandas-docs/stable/user_guide/indexing.html#returning-a-view-versus-a-copy\n",
      "  backtest_test['model_preds_scaled'] = (backtest_test['model_preds'] / backtest_test['race_model_preds']) * backtest_test['race_odds_preds']\n",
      "/var/folders/w6/wdkqbmf17b90n_r35p0cb7x00000gn/T/ipykernel_23186/502887811.py:9: SettingWithCopyWarning: \n",
      "A value is trying to be set on a copy of a slice from a DataFrame.\n",
      "Try using .loc[row_indexer,col_indexer] = value instead\n",
      "\n",
      "See the caveats in the documentation: https://pandas.pydata.org/pandas-docs/stable/user_guide/indexing.html#returning-a-view-versus-a-copy\n",
      "  backtest_test['model_edge_basic_scaled'] = backtest_test['model_preds_scaled'] - backtest_test['odds_preds']\n",
      "/var/folders/w6/wdkqbmf17b90n_r35p0cb7x00000gn/T/ipykernel_23186/502887811.py:10: SettingWithCopyWarning: \n",
      "A value is trying to be set on a copy of a slice from a DataFrame.\n",
      "Try using .loc[row_indexer,col_indexer] = value instead\n",
      "\n",
      "See the caveats in the documentation: https://pandas.pydata.org/pandas-docs/stable/user_guide/indexing.html#returning-a-view-versus-a-copy\n",
      "  backtest_test['model_edge_prop_scaled'] = backtest_test['model_preds_scaled'] / backtest_test['odds_preds']\n"
     ]
    }
   ],
   "source": [
    "#backtest_test = backtest_test.drop(columns=['f_ko'])\n",
    "model_preds_race = backtest_test.groupby('f_id').sum().reset_index()\n",
    "model_preds_race2 = model_preds_race[['f_id', 'model_preds', 'odds_preds']]\n",
    "dict_odds_preds = model_preds_race2.set_index('f_id')['odds_preds'].to_dict()\n",
    "dict_race_preds = model_preds_race2.set_index('f_id')['model_preds'].to_dict()\n",
    "backtest_test['race_model_preds'] = backtest_test['f_id'].map(dict_race_preds)\n",
    "backtest_test['race_odds_preds'] = backtest_test['f_id'].map(dict_odds_preds)\n",
    "backtest_test['model_preds_scaled'] = (backtest_test['model_preds'] / backtest_test['race_model_preds']) * backtest_test['race_odds_preds']\n",
    "backtest_test['model_edge_basic_scaled'] = backtest_test['model_preds_scaled'] - backtest_test['odds_preds']\n",
    "backtest_test['model_edge_prop_scaled'] = backtest_test['model_preds_scaled'] / backtest_test['odds_preds']"
   ]
  },
  {
   "cell_type": "code",
   "execution_count": 15,
   "id": "7f5594a4",
   "metadata": {},
   "outputs": [
    {
     "name": "stderr",
     "output_type": "stream",
     "text": [
      "/var/folders/w6/wdkqbmf17b90n_r35p0cb7x00000gn/T/ipykernel_23186/1810220086.py:14: SettingWithCopyWarning: \n",
      "A value is trying to be set on a copy of a slice from a DataFrame.\n",
      "Try using .loc[row_indexer,col_indexer] = value instead\n",
      "\n",
      "See the caveats in the documentation: https://pandas.pydata.org/pandas-docs/stable/user_guide/indexing.html#returning-a-view-versus-a-copy\n",
      "  dfall['cumulative_profit'] = dfall['linear_target'].cumsum()\n",
      "/var/folders/w6/wdkqbmf17b90n_r35p0cb7x00000gn/T/ipykernel_23186/1810220086.py:17: SettingWithCopyWarning: \n",
      "A value is trying to be set on a copy of a slice from a DataFrame.\n",
      "Try using .loc[row_indexer,col_indexer] = value instead\n",
      "\n",
      "See the caveats in the documentation: https://pandas.pydata.org/pandas-docs/stable/user_guide/indexing.html#returning-a-view-versus-a-copy\n",
      "  df0['cumulative_profit'] = df0['linear_target'].cumsum()\n",
      "/var/folders/w6/wdkqbmf17b90n_r35p0cb7x00000gn/T/ipykernel_23186/1810220086.py:20: SettingWithCopyWarning: \n",
      "A value is trying to be set on a copy of a slice from a DataFrame.\n",
      "Try using .loc[row_indexer,col_indexer] = value instead\n",
      "\n",
      "See the caveats in the documentation: https://pandas.pydata.org/pandas-docs/stable/user_guide/indexing.html#returning-a-view-versus-a-copy\n",
      "  df5['cumulative_profit'] = df5['linear_target'].cumsum()\n",
      "/var/folders/w6/wdkqbmf17b90n_r35p0cb7x00000gn/T/ipykernel_23186/1810220086.py:23: SettingWithCopyWarning: \n",
      "A value is trying to be set on a copy of a slice from a DataFrame.\n",
      "Try using .loc[row_indexer,col_indexer] = value instead\n",
      "\n",
      "See the caveats in the documentation: https://pandas.pydata.org/pandas-docs/stable/user_guide/indexing.html#returning-a-view-versus-a-copy\n",
      "  df10['cumulative_profit'] = df10['linear_target'].cumsum()\n",
      "/var/folders/w6/wdkqbmf17b90n_r35p0cb7x00000gn/T/ipykernel_23186/1810220086.py:26: SettingWithCopyWarning: \n",
      "A value is trying to be set on a copy of a slice from a DataFrame.\n",
      "Try using .loc[row_indexer,col_indexer] = value instead\n",
      "\n",
      "See the caveats in the documentation: https://pandas.pydata.org/pandas-docs/stable/user_guide/indexing.html#returning-a-view-versus-a-copy\n",
      "  df15['cumulative_profit'] = df15['linear_target'].cumsum()\n",
      "/var/folders/w6/wdkqbmf17b90n_r35p0cb7x00000gn/T/ipykernel_23186/1810220086.py:29: SettingWithCopyWarning: \n",
      "A value is trying to be set on a copy of a slice from a DataFrame.\n",
      "Try using .loc[row_indexer,col_indexer] = value instead\n",
      "\n",
      "See the caveats in the documentation: https://pandas.pydata.org/pandas-docs/stable/user_guide/indexing.html#returning-a-view-versus-a-copy\n",
      "  df20['cumulative_profit'] = df20['linear_target'].cumsum()\n",
      "/var/folders/w6/wdkqbmf17b90n_r35p0cb7x00000gn/T/ipykernel_23186/1810220086.py:32: SettingWithCopyWarning: \n",
      "A value is trying to be set on a copy of a slice from a DataFrame.\n",
      "Try using .loc[row_indexer,col_indexer] = value instead\n",
      "\n",
      "See the caveats in the documentation: https://pandas.pydata.org/pandas-docs/stable/user_guide/indexing.html#returning-a-view-versus-a-copy\n",
      "  df30['cumulative_profit'] = df30['linear_target'].cumsum()\n"
     ]
    }
   ],
   "source": [
    "# Create dataframes of horses above specific proba_difference thresholds\n",
    "\n",
    "all_bets = backtest_test\n",
    "above0 = backtest_test[backtest_test['model_edge_basic_scaled'] >= 0]\n",
    "above5 = backtest_test[backtest_test['model_edge_basic_scaled'] >= 0.025]\n",
    "above10 = backtest_test[backtest_test['model_edge_basic_scaled'] >= 0.05]\n",
    "above15 = backtest_test[backtest_test['model_edge_basic_scaled'] >= 0.075]\n",
    "above20 = backtest_test[backtest_test['model_edge_basic_scaled'] >= 0.10]\n",
    "above30 = backtest_test[backtest_test['model_edge_basic_scaled'] >= 0.20]\n",
    "\n",
    "# Calculate evolutions of profits for each threshold\n",
    "\n",
    "dfall = all_bets\n",
    "dfall['cumulative_profit'] = dfall['linear_target'].cumsum()\n",
    "\n",
    "df0 = above0\n",
    "df0['cumulative_profit'] = df0['linear_target'].cumsum()\n",
    "\n",
    "df5 = above5\n",
    "df5['cumulative_profit'] = df5['linear_target'].cumsum()\n",
    "\n",
    "df10 = above10\n",
    "df10['cumulative_profit'] = df10['linear_target'].cumsum()\n",
    "\n",
    "df15 = above15\n",
    "df15['cumulative_profit'] = df15['linear_target'].cumsum()\n",
    "\n",
    "df20 = above20\n",
    "df20['cumulative_profit'] = df20['linear_target'].cumsum()\n",
    "\n",
    "df30 = above30\n",
    "df30['cumulative_profit'] = df30['linear_target'].cumsum()"
   ]
  },
  {
   "cell_type": "code",
   "execution_count": 16,
   "id": "3e4eff44",
   "metadata": {},
   "outputs": [
    {
     "name": "stderr",
     "output_type": "stream",
     "text": [
      "/var/folders/w6/wdkqbmf17b90n_r35p0cb7x00000gn/T/ipykernel_23186/3654561524.py:14: SettingWithCopyWarning: \n",
      "A value is trying to be set on a copy of a slice from a DataFrame.\n",
      "Try using .loc[row_indexer,col_indexer] = value instead\n",
      "\n",
      "See the caveats in the documentation: https://pandas.pydata.org/pandas-docs/stable/user_guide/indexing.html#returning-a-view-versus-a-copy\n",
      "  dfall['cumulative_profit'] = dfall['linear_target'].cumsum()\n",
      "/var/folders/w6/wdkqbmf17b90n_r35p0cb7x00000gn/T/ipykernel_23186/3654561524.py:17: SettingWithCopyWarning: \n",
      "A value is trying to be set on a copy of a slice from a DataFrame.\n",
      "Try using .loc[row_indexer,col_indexer] = value instead\n",
      "\n",
      "See the caveats in the documentation: https://pandas.pydata.org/pandas-docs/stable/user_guide/indexing.html#returning-a-view-versus-a-copy\n",
      "  df0b['cumulative_profit'] = df0b['linear_target'].cumsum()\n",
      "/var/folders/w6/wdkqbmf17b90n_r35p0cb7x00000gn/T/ipykernel_23186/3654561524.py:20: SettingWithCopyWarning: \n",
      "A value is trying to be set on a copy of a slice from a DataFrame.\n",
      "Try using .loc[row_indexer,col_indexer] = value instead\n",
      "\n",
      "See the caveats in the documentation: https://pandas.pydata.org/pandas-docs/stable/user_guide/indexing.html#returning-a-view-versus-a-copy\n",
      "  df5b['cumulative_profit'] = df5b['linear_target'].cumsum()\n",
      "/var/folders/w6/wdkqbmf17b90n_r35p0cb7x00000gn/T/ipykernel_23186/3654561524.py:23: SettingWithCopyWarning: \n",
      "A value is trying to be set on a copy of a slice from a DataFrame.\n",
      "Try using .loc[row_indexer,col_indexer] = value instead\n",
      "\n",
      "See the caveats in the documentation: https://pandas.pydata.org/pandas-docs/stable/user_guide/indexing.html#returning-a-view-versus-a-copy\n",
      "  df10b['cumulative_profit'] = df10b['linear_target'].cumsum()\n",
      "/var/folders/w6/wdkqbmf17b90n_r35p0cb7x00000gn/T/ipykernel_23186/3654561524.py:26: SettingWithCopyWarning: \n",
      "A value is trying to be set on a copy of a slice from a DataFrame.\n",
      "Try using .loc[row_indexer,col_indexer] = value instead\n",
      "\n",
      "See the caveats in the documentation: https://pandas.pydata.org/pandas-docs/stable/user_guide/indexing.html#returning-a-view-versus-a-copy\n",
      "  df15b['cumulative_profit'] = df15b['linear_target'].cumsum()\n",
      "/var/folders/w6/wdkqbmf17b90n_r35p0cb7x00000gn/T/ipykernel_23186/3654561524.py:29: SettingWithCopyWarning: \n",
      "A value is trying to be set on a copy of a slice from a DataFrame.\n",
      "Try using .loc[row_indexer,col_indexer] = value instead\n",
      "\n",
      "See the caveats in the documentation: https://pandas.pydata.org/pandas-docs/stable/user_guide/indexing.html#returning-a-view-versus-a-copy\n",
      "  df20b['cumulative_profit'] = df20b['linear_target'].cumsum()\n",
      "/var/folders/w6/wdkqbmf17b90n_r35p0cb7x00000gn/T/ipykernel_23186/3654561524.py:32: SettingWithCopyWarning: \n",
      "A value is trying to be set on a copy of a slice from a DataFrame.\n",
      "Try using .loc[row_indexer,col_indexer] = value instead\n",
      "\n",
      "See the caveats in the documentation: https://pandas.pydata.org/pandas-docs/stable/user_guide/indexing.html#returning-a-view-versus-a-copy\n",
      "  df30b['cumulative_profit'] = df30b['linear_target'].cumsum()\n"
     ]
    }
   ],
   "source": [
    "# Create dataframes of horses above specific proba_difference thresholds\n",
    "\n",
    "all_bets = backtest_test\n",
    "above0b = backtest_test[backtest_test['model_edge_basic'] >= 0]\n",
    "above5b = backtest_test[backtest_test['model_edge_basic'] >= 0.05]\n",
    "above10b = backtest_test[backtest_test['model_edge_basic'] >= 0.1]\n",
    "above15b = backtest_test[backtest_test['model_edge_basic'] >= 0.15]\n",
    "above20b = backtest_test[backtest_test['model_edge_basic'] >= 0.20]\n",
    "above30b = backtest_test[backtest_test['model_edge_basic'] >= 0.30]\n",
    "\n",
    "# Calculate evolutions of profits for each threshold\n",
    "\n",
    "dfall = all_bets\n",
    "dfall['cumulative_profit'] = dfall['linear_target'].cumsum()\n",
    "\n",
    "df0b = above0b\n",
    "df0b['cumulative_profit'] = df0b['linear_target'].cumsum()\n",
    "\n",
    "df5b = above5b\n",
    "df5b['cumulative_profit'] = df5b['linear_target'].cumsum()\n",
    "\n",
    "df10b = above10b\n",
    "df10b['cumulative_profit'] = df10b['linear_target'].cumsum()\n",
    "\n",
    "df15b = above15b\n",
    "df15b['cumulative_profit'] = df15b['linear_target'].cumsum()\n",
    "\n",
    "df20b = above20b\n",
    "df20b['cumulative_profit'] = df20b['linear_target'].cumsum()\n",
    "\n",
    "df30b = above30b\n",
    "df30b['cumulative_profit'] = df30b['linear_target'].cumsum()"
   ]
  },
  {
   "cell_type": "code",
   "execution_count": 17,
   "id": "a76d2bd4",
   "metadata": {},
   "outputs": [
    {
     "data": {
      "image/png": "[encoded data removed]",
      "text/plain": [
       "<Figure size 1000x600 with 1 Axes>"
      ]
     },
     "metadata": {},
     "output_type": "display_data"
    }
   ],
   "source": [
    "import matplotlib.pyplot as plt\n",
    "# Plot\n",
    "plt.figure(figsize=(10,6))\n",
    "#plt.plot(range(1, len(dfall) + 1), dfall['cumulative_profit'], label='all bets')\n",
    "#plt.plot(range(1, len(df0) + 1), df0['cumulative_profit'], label='0 threshold')\n",
    "plt.plot(range(1, len(df5) + 1), df5['cumulative_profit'], label='2.5 threshold')\n",
    "plt.plot(range(1, len(df10) + 1), df10['cumulative_profit'], label='5 threshold')\n",
    "plt.plot(range(1, len(df15) + 1), df15['cumulative_profit'], label='7.5 threshold')\n",
    "plt.plot(range(1, len(df20) + 1), df20['cumulative_profit'], label='10 threshold')\n",
    "plt.plot(range(1, len(df30) + 1), df30['cumulative_profit'], label='20 threshold')\n",
    "#plt.plot(range(1, len(df5b) + 1), df5b['cumulative_profit'], label='5 threshold unscaled')\n",
    "#plt.plot(range(1, len(df10b) + 1), df10b['cumulative_profit'], label='10 threshold unscaled')\n",
    "#plt.plot(range(1, len(df15b) + 1), df15b['cumulative_profit'], label='15 threshold unscaled')\n",
    "#plt.plot(range(1, len(df20b) + 1), df20b['cumulative_profit'], label='20 threshold unscaled')\n",
    "#plt.plot(range(1, len(df30b) + 1), df30b['cumulative_profit'], label='30 threshold unscaled')\n",
    "\n",
    "plt.title(\"xxx\")\n",
    "plt.xlabel(\"number of bets\")\n",
    "plt.ylabel(\"profit (£)\")\n",
    "plt.legend()\n",
    "plt.grid(True)\n",
    "plt.tight_layout()\n",
    "plt.show()"
   ]
  },
  {
   "cell_type": "code",
   "execution_count": null,
   "id": "ba5e6645",
   "metadata": {},
   "outputs": [],
   "source": [
    "# åplt.hist(backtest_test['model_edge_proportionate'])"
   ]
  },
  {
   "cell_type": "code",
   "execution_count": null,
   "id": "20e87f13",
   "metadata": {},
   "outputs": [],
   "source": [
    "# # Create dataframes of horses above specific proba_difference thresholds\n",
    "\n",
    "# all_bets = backtest_test\n",
    "# above0c = backtest_test[backtest_test['model_edge_proportionate'] >= 1]\n",
    "# above5c = backtest_test[backtest_test['model_edge_proportionate'] >= 1.125]\n",
    "# above10c = backtest_test[backtest_test['model_edge_proportionate'] >= 1.25]\n",
    "# above15c = backtest_test[backtest_test['model_edge_proportionate'] >= 1.375]\n",
    "# above20c = backtest_test[backtest_test['model_edge_proportionate'] >= 1.5]\n",
    "# above30c = backtest_test[backtest_test['model_edge_proportionate'] >= 1.75]\n",
    "\n",
    "# # Calculate evolutions of profits for each threshold\n",
    "\n",
    "# dfall = all_bets\n",
    "# dfall['cumulative_profit'] = dfall['linear_target'].cumsum()\n",
    "\n",
    "# df0c = above0c\n",
    "# df0c['cumulative_profit'] = df0c['linear_target'].cumsum()\n",
    "\n",
    "# df5c = above5c\n",
    "# df5c['cumulative_profit'] = df5c['linear_target'].cumsum()\n",
    "\n",
    "# df10c = above10c\n",
    "# df10c['cumulative_profit'] = df10c['linear_target'].cumsum()\n",
    "\n",
    "# df15c = above15c\n",
    "# df15c['cumulative_profit'] = df15c['linear_target'].cumsum()\n",
    "\n",
    "# df20c = above20c\n",
    "# df20c['cumulative_profit'] = df20c['linear_target'].cumsum()\n",
    "\n",
    "# df30c = above30c\n",
    "# df30c['cumulative_profit'] = df30c['linear_target'].cumsum()"
   ]
  },
  {
   "cell_type": "code",
   "execution_count": null,
   "id": "b79d8e75",
   "metadata": {},
   "outputs": [],
   "source": [
    "# # Create dataframes of horses above specific proba_difference thresholds\n",
    "\n",
    "# all_bets = backtest_test\n",
    "# above0d = backtest_test[backtest_test['model_edge_prop_scaled'] >= 1]\n",
    "# above5d = backtest_test[backtest_test['model_edge_prop_scaled'] >= 1.05]\n",
    "# above10d = backtest_test[backtest_test['model_edge_prop_scaled'] >= 1.1]\n",
    "# above15d = backtest_test[backtest_test['model_edge_prop_scaled'] >= 1.15]\n",
    "# above20d = backtest_test[backtest_test['model_edge_prop_scaled'] >= 1.2]\n",
    "# above30d = backtest_test[backtest_test['model_edge_prop_scaled'] >= 1.25]\n",
    "\n",
    "# # Calculate evolutions of profits for each threshold\n",
    "\n",
    "# dfall = all_bets\n",
    "# dfall['cumulative_profit'] = dfall['linear_target'].cumsum()\n",
    "\n",
    "# df0d = above0d\n",
    "# df0d['cumulative_profit'] = df0c['linear_target'].cumsum()\n",
    "\n",
    "# df5d = above5d\n",
    "# df5d['cumulative_profit'] = df5c['linear_target'].cumsum()\n",
    "\n",
    "# df10d = above10d\n",
    "# df10d['cumulative_profit'] = df10c['linear_target'].cumsum()\n",
    "\n",
    "# df15d = above15d\n",
    "# df15d['cumulative_profit'] = df15c['linear_target'].cumsum()\n",
    "\n",
    "# df20d = above20d\n",
    "# df20d['cumulative_profit'] = df20c['linear_target'].cumsum()\n",
    "\n",
    "# df30d = above30d\n",
    "# df30d['cumulative_profit'] = df30c['linear_target'].cumsum()"
   ]
  },
  {
   "cell_type": "code",
   "execution_count": null,
   "id": "e92931cb",
   "metadata": {
    "scrolled": true
   },
   "outputs": [],
   "source": [
    "# import matplotlib.pyplot as plt\n",
    "# # Plot\n",
    "# plt.figure(figsize=(10,6))\n",
    "# #plt.plot(range(1, len(dfall) + 1), dfall['cumulative_profit'], label='all bets')\n",
    "# #plt.plot(range(1, len(df0d) + 1), df0d['cumulative_profit'], label='1 threshold')\n",
    "# #plt.plot(range(1, len(df5d) + 1), df5d['cumulative_profit'], label='1.125 threshold')\n",
    "# plt.plot(range(1, len(df10d) + 1), df10d['cumulative_profit'], label='1.25 threshold')\n",
    "# plt.plot(range(1, len(df15d) + 1), df15d['cumulative_profit'], label='1.375 threshold')\n",
    "# plt.plot(range(1, len(df20d) + 1), df20d['cumulative_profit'], label='1.5 threshold')\n",
    "# plt.plot(range(1, len(df30d) + 1), df30d['cumulative_profit'], label='1.75 threshold')\n",
    "# #plt.plot(range(1, len(df5c) + 1), df5c['cumulative_profit'], label='1.05 threshold unscaled')\n",
    "# #plt.plot(range(1, len(df10c) + 1), df10c['cumulative_profit'], label='1.1 threshold unscaled')\n",
    "# #plt.plot(range(1, len(df15c) + 1), df15c['cumulative_profit'], label='1.15 threshold unscaled')\n",
    "# #plt.plot(range(1, len(df20c) + 1), df20c['cumulative_profit'], label='1.2 threshold unscaled')\n",
    "# #plt.plot(range(1, len(df30c) + 1), df30c['cumulative_profit'], label='1.25 threshold unscaled')\n",
    "\n",
    "# plt.title(\"xxx\")\n",
    "# plt.xlabel(\"number of bets\")\n",
    "# plt.ylabel(\"profit (£)\")\n",
    "# plt.legend()\n",
    "# plt.grid(True)\n",
    "# plt.tight_layout()\n",
    "# plt.show()"
   ]
  },
  {
   "cell_type": "code",
   "execution_count": null,
   "id": "06d6f4d4",
   "metadata": {},
   "outputs": [],
   "source": []
  }
 ],
 "metadata": {
  "kernelspec": {
   "display_name": "Python 3 (ipykernel)",
   "language": "python",
   "name": "python3"
  },
  "language_info": {
   "codemirror_mode": {
    "name": "ipython",
    "version": 3
   },
   "file_extension": ".py",
   "mimetype": "text/x-python",
   "name": "python",
   "nbconvert_exporter": "python",
   "pygments_lexer": "ipython3",
   "version": "3.11.4"
  },
  "toc": {
   "base_numbering": 1,
   "nav_menu": {},
   "number_sections": true,
   "sideBar": true,
   "skip_h1_title": false,
   "title_cell": "Table of Contents",
   "title_sidebar": "Contents",
   "toc_cell": false,
   "toc_position": {},
   "toc_section_display": true,
   "toc_window_display": false
  }
 },
 "nbformat": 4,
 "nbformat_minor": 5
}
