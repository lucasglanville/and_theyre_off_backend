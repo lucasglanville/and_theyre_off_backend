{
 "cells": [
  {
   "cell_type": "code",
   "execution_count": 1,
   "id": "53707ef3",
   "metadata": {},
   "outputs": [],
   "source": [
    "from Preprocessing.data_clean import get_data, dropping_no_betting_data\n",
    "from sklearn.preprocessing import MinMaxScaler\n",
    "from sklearn import set_config\n",
    "from sklearn.impute import SimpleImputer\n",
    "from tensorflow.keras.models import Sequential\n",
    "from tensorflow.keras.layers import InputLayer, Dense, Dropout\n",
    "from keras.utils import get_custom_objects\n",
    "import pandas as pd\n",
    "import numpy as np\n",
    "import pickle\n",
    "import warnings\n",
    "\n",
    "warnings.filterwarnings('ignore')"
   ]
  },
  {
   "cell_type": "code",
   "execution_count": 2,
   "id": "cbe96521",
   "metadata": {},
   "outputs": [
    {
     "name": "stdout",
     "output_type": "stream",
     "text": [
      "data acquired with shape (120675, 116)\n",
      "data loaded\n",
      "Cleaned up missing odds. New shape = (120414, 116)\n"
     ]
    }
   ],
   "source": [
    "\n",
    "\"\"\"1)  Getting the data and first round of preprocessing\"\"\"\n",
    "###receiving all columns of data for user selected rows (by track and time)\n",
    "\n",
    "#Get the data from the bucket\n",
    "data = get_data(\"../../../raw_data/hr_data_0409_221rem.csv\") ### CHANGE THIS PATH to get data from the bucket\n",
    "print(\"data loaded\")\n",
    "#Fill in the missing odds\n",
    "data = dropping_no_betting_data(data)\n",
    "#Drop stall_position NAs\n",
    "data = data[data['stall_position'].notna()]\n",
    "#Remove horses with odds over 50 at 5m before the race\n",
    "data = data[(data['f_pm_05m'] <= 50)]\n",
    "#Reset index\n",
    "data = data.reset_index(drop=True)"
   ]
  },
  {
   "cell_type": "code",
   "execution_count": 3,
   "id": "67b6294a",
   "metadata": {},
   "outputs": [],
   "source": [
    "\"\"\"2)  Filling the null L16 columns with 0s\"\"\"\n",
    "\n",
    "X_preproc = data[[\n",
    "          'iv_trainer_l16r', 'iv_jockey_l16r',\n",
    "          'ae_trainer_l16r' ,'ae_jockey_l16r']]\n",
    "X_preproc = X_preproc.fillna(0)\n"
   ]
  },
  {
   "cell_type": "code",
   "execution_count": 4,
   "id": "151a4ac7",
   "metadata": {},
   "outputs": [],
   "source": [
    "\"\"\"3)  Scaling the numerical values and defining X\"\"\"\n",
    "\n",
    "#Adding f_runners and stall_position to X_preproc pre-scaling\n",
    "X_preproc['f_runners'] = data['f_runners']\n",
    "X_preproc['stall_position'] = data['stall_position']\n",
    "\n",
    "\n",
    "#Loading scaler values and scaling 5 features\n",
    "set_config(transform_output = \"pandas\")\n",
    "with open('../../../Models/weights-JStone2609/scaler_updated2.pkl', 'rb') as f: # CHANGE THIS PATH to get the saved scalar\n",
    "    loaded_scaler = pickle.load(f)\n",
    "X = loaded_scaler.transform(X_preproc)\n",
    "\n",
    "#Adding final 2 features that don't need scaling\n",
    "X['pred_isp_prob'] = 1 / data['pred_isp']\n",
    "\n",
    "#Matching the column order to the order of the original saved weights\n",
    "X = X[['stall_position', 'iv_trainer_l16r', 'iv_jockey_l16r', 'ae_trainer_l16r', 'ae_jockey_l16r', 'pred_isp_prob', 'f_runners']]"
   ]
  },
  {
   "cell_type": "code",
   "execution_count": 5,
   "id": "a840e1f3",
   "metadata": {},
   "outputs": [],
   "source": [
    "\"\"\"5) Defining backtest and changing commision to 2%\"\"\"\n",
    "\n",
    "# Define a function to create a new profit column with 2% commision\n",
    "def fill_01m_profit(data):\n",
    "    def fill_nan(row):\n",
    "        if row['f_place'] == 0:\n",
    "            return -1\n",
    "        elif row['f_place'] == 1:\n",
    "            return (row['f_pm_01m'] - 1) * 0.98\n",
    "        else:\n",
    "            return row['f_pm_01m_p_back']\n",
    "\n",
    "# Apply the lambda function to create 01m_profit column\n",
    "    data['01m_profit'] = data.apply(fill_nan, axis=1)\n",
    "    return data\n",
    "\n",
    "data = fill_01m_profit(data)\n",
    "\n",
    "backtest = data[['f_ko', 'f_track', 'f_id', 'id','f_horse','f_pm_01m', '01m_profit', 'f_place']]"
   ]
  },
  {
   "cell_type": "code",
   "execution_count": 6,
   "id": "7868686f",
   "metadata": {},
   "outputs": [],
   "source": [
    "\"\"\"6)  Model Architecture\"\"\"\n",
    "\n",
    "NN = Sequential()\n",
    "NN.add(InputLayer(input_shape=(7, ))) # input layer\n",
    "NN.add(Dense(32, activation='relu')) # hidden layer 1\n",
    "NN.add(Dense(2, activation='softmax')) # output layer"
   ]
  },
  {
   "cell_type": "code",
   "execution_count": 7,
   "id": "53846ad0",
   "metadata": {},
   "outputs": [
    {
     "data": {
      "text/plain": [
       "<tensorflow.python.checkpoint.checkpoint.CheckpointLoadStatus at 0x28c289450>"
      ]
     },
     "execution_count": 7,
     "metadata": {},
     "output_type": "execute_result"
    }
   ],
   "source": [
    "\n",
    "\"\"\"7)  Loading Weights\"\"\"\n",
    "\n",
    "NN.load_weights(\"../../../Models/weights-JStone2609/custom_scorer0.05_7input_l16_05mfilter_01mplace\") ##CHANGE PATH TO LOAD MODEL WEIGHTS"
   ]
  },
  {
   "cell_type": "code",
   "execution_count": 8,
   "id": "eb361c84",
   "metadata": {},
   "outputs": [],
   "source": [
    "X_test = X.iloc[70000:]"
   ]
  },
  {
   "cell_type": "code",
   "execution_count": 9,
   "id": "24266f3c",
   "metadata": {},
   "outputs": [],
   "source": [
    "backtest_test = backtest.iloc[70000:]"
   ]
  },
  {
   "cell_type": "code",
   "execution_count": 10,
   "id": "d9c78770",
   "metadata": {},
   "outputs": [
    {
     "name": "stdout",
     "output_type": "stream",
     "text": [
      "1140/1140 [==============================] - 0s 213us/step\n"
     ]
    }
   ],
   "source": [
    "y_pred = NN.predict(X_test)"
   ]
  },
  {
   "cell_type": "code",
   "execution_count": 11,
   "id": "63475dbf",
   "metadata": {
    "scrolled": true
   },
   "outputs": [
    {
     "data": {
      "text/html": [
       "<div>\n",
       "<style scoped>\n",
       "    .dataframe tbody tr th:only-of-type {\n",
       "        vertical-align: middle;\n",
       "    }\n",
       "\n",
       "    .dataframe tbody tr th {\n",
       "        vertical-align: top;\n",
       "    }\n",
       "\n",
       "    .dataframe thead th {\n",
       "        text-align: right;\n",
       "    }\n",
       "</style>\n",
       "<table border=\"1\" class=\"dataframe\">\n",
       "  <thead>\n",
       "    <tr style=\"text-align: right;\">\n",
       "      <th></th>\n",
       "      <th>f_ko</th>\n",
       "      <th>f_track</th>\n",
       "      <th>f_horse</th>\n",
       "      <th>f_pm_01m</th>\n",
       "      <th>01m_profit</th>\n",
       "      <th>model_preds</th>\n",
       "      <th>bet</th>\n",
       "    </tr>\n",
       "  </thead>\n",
       "  <tbody>\n",
       "    <tr>\n",
       "      <th>99801</th>\n",
       "      <td>24/07/2023 19:40</td>\n",
       "      <td>BALLINROBE</td>\n",
       "      <td>Beer With The Boys</td>\n",
       "      <td>46.0</td>\n",
       "      <td>-1.000</td>\n",
       "      <td>1.0</td>\n",
       "      <td>BET</td>\n",
       "    </tr>\n",
       "    <tr>\n",
       "      <th>94941</th>\n",
       "      <td>24/06/2023 17:05</td>\n",
       "      <td>DOWN ROYAL</td>\n",
       "      <td>Universally</td>\n",
       "      <td>70.0</td>\n",
       "      <td>-1.000</td>\n",
       "      <td>1.0</td>\n",
       "      <td>BET</td>\n",
       "    </tr>\n",
       "    <tr>\n",
       "      <th>104497</th>\n",
       "      <td>22/08/2023 20:15</td>\n",
       "      <td>ROSCOMMON</td>\n",
       "      <td>Blackstone Cliff</td>\n",
       "      <td>13.0</td>\n",
       "      <td>-1.000</td>\n",
       "      <td>1.0</td>\n",
       "      <td>BET</td>\n",
       "    </tr>\n",
       "    <tr>\n",
       "      <th>72424</th>\n",
       "      <td>26/10/2022 16:35</td>\n",
       "      <td>CURRAGH</td>\n",
       "      <td>Shur Lookit</td>\n",
       "      <td>42.0</td>\n",
       "      <td>-1.000</td>\n",
       "      <td>1.0</td>\n",
       "      <td>BET</td>\n",
       "    </tr>\n",
       "    <tr>\n",
       "      <th>72425</th>\n",
       "      <td>26/10/2022 16:35</td>\n",
       "      <td>CURRAGH</td>\n",
       "      <td>Flier</td>\n",
       "      <td>38.0</td>\n",
       "      <td>-1.000</td>\n",
       "      <td>1.0</td>\n",
       "      <td>BET</td>\n",
       "    </tr>\n",
       "    <tr>\n",
       "      <th>...</th>\n",
       "      <td>...</td>\n",
       "      <td>...</td>\n",
       "      <td>...</td>\n",
       "      <td>...</td>\n",
       "      <td>...</td>\n",
       "      <td>...</td>\n",
       "      <td>...</td>\n",
       "    </tr>\n",
       "    <tr>\n",
       "      <th>78064</th>\n",
       "      <td>21/01/2023 14:47</td>\n",
       "      <td>LINGFIELD</td>\n",
       "      <td>Makinmedoit</td>\n",
       "      <td>10.0</td>\n",
       "      <td>-1.000</td>\n",
       "      <td>0.0</td>\n",
       "      <td>NO BET</td>\n",
       "    </tr>\n",
       "    <tr>\n",
       "      <th>78065</th>\n",
       "      <td>21/01/2023 14:47</td>\n",
       "      <td>LINGFIELD</td>\n",
       "      <td>Tequilamockingbird</td>\n",
       "      <td>15.5</td>\n",
       "      <td>-1.000</td>\n",
       "      <td>0.0</td>\n",
       "      <td>NO BET</td>\n",
       "    </tr>\n",
       "    <tr>\n",
       "      <th>89998</th>\n",
       "      <td>26/05/2023 19:30</td>\n",
       "      <td>CURRAGH</td>\n",
       "      <td>Rahmi</td>\n",
       "      <td>25.0</td>\n",
       "      <td>23.520</td>\n",
       "      <td>0.0</td>\n",
       "      <td>NO BET</td>\n",
       "    </tr>\n",
       "    <tr>\n",
       "      <th>89997</th>\n",
       "      <td>26/05/2023 19:30</td>\n",
       "      <td>CURRAGH</td>\n",
       "      <td>Earls</td>\n",
       "      <td>28.0</td>\n",
       "      <td>-1.000</td>\n",
       "      <td>0.0</td>\n",
       "      <td>NO BET</td>\n",
       "    </tr>\n",
       "    <tr>\n",
       "      <th>88230</th>\n",
       "      <td>16/05/2023 14:40</td>\n",
       "      <td>CHEPSTOW</td>\n",
       "      <td>Connies Rose</td>\n",
       "      <td>6.6</td>\n",
       "      <td>5.488</td>\n",
       "      <td>0.0</td>\n",
       "      <td>NO BET</td>\n",
       "    </tr>\n",
       "  </tbody>\n",
       "</table>\n",
       "<p>36460 rows × 7 columns</p>\n",
       "</div>"
      ],
      "text/plain": [
       "                    f_ko     f_track             f_horse  f_pm_01m  \\\n",
       "99801   24/07/2023 19:40  BALLINROBE  Beer With The Boys      46.0   \n",
       "94941   24/06/2023 17:05  DOWN ROYAL         Universally      70.0   \n",
       "104497  22/08/2023 20:15   ROSCOMMON    Blackstone Cliff      13.0   \n",
       "72424   26/10/2022 16:35     CURRAGH         Shur Lookit      42.0   \n",
       "72425   26/10/2022 16:35     CURRAGH               Flier      38.0   \n",
       "...                  ...         ...                 ...       ...   \n",
       "78064   21/01/2023 14:47   LINGFIELD         Makinmedoit      10.0   \n",
       "78065   21/01/2023 14:47   LINGFIELD  Tequilamockingbird      15.5   \n",
       "89998   26/05/2023 19:30     CURRAGH               Rahmi      25.0   \n",
       "89997   26/05/2023 19:30     CURRAGH               Earls      28.0   \n",
       "88230   16/05/2023 14:40    CHEPSTOW        Connies Rose       6.6   \n",
       "\n",
       "        01m_profit  model_preds     bet  \n",
       "99801       -1.000          1.0     BET  \n",
       "94941       -1.000          1.0     BET  \n",
       "104497      -1.000          1.0     BET  \n",
       "72424       -1.000          1.0     BET  \n",
       "72425       -1.000          1.0     BET  \n",
       "...            ...          ...     ...  \n",
       "78064       -1.000          0.0  NO BET  \n",
       "78065       -1.000          0.0  NO BET  \n",
       "89998       23.520          0.0  NO BET  \n",
       "89997       -1.000          0.0  NO BET  \n",
       "88230        5.488          0.0  NO BET  \n",
       "\n",
       "[36460 rows x 7 columns]"
      ]
     },
     "execution_count": 11,
     "metadata": {},
     "output_type": "execute_result"
    }
   ],
   "source": [
    "\"\"\"9) Creating backtest table\"\"\"\n",
    "\n",
    "backtest_test['model_preds'] = y_pred[:, 0:1]\n",
    "backtest_test['model_preds'] = round(backtest_test['model_preds'],2)\n",
    "backtest_test = backtest_test.sort_values(['model_preds'], ascending = False)\n",
    "backtest_live = backtest_test.drop(columns=['f_id', 'id', 'f_place'])\n",
    "def bet_or_nobet(x):\n",
    "        if x >= 0.5:\n",
    "            return \"BET\"\n",
    "        else:\n",
    "            return \"NO BET\"\n",
    "backtest_live['bet'] = backtest_live['model_preds'].apply(bet_or_nobet)\n",
    "\n",
    "backtest_live"
   ]
  },
  {
   "cell_type": "code",
   "execution_count": 16,
   "id": "a249561f",
   "metadata": {},
   "outputs": [],
   "source": [
    "bets50 = backtest_live[backtest_live['model_preds'] >= 0.5]"
   ]
  },
  {
   "cell_type": "code",
   "execution_count": 19,
   "id": "34ed1bcd",
   "metadata": {},
   "outputs": [],
   "source": [
    "bets50.to_csv(\"bets50.csv\")"
   ]
  },
  {
   "cell_type": "code",
   "execution_count": null,
   "id": "6e289e62",
   "metadata": {},
   "outputs": [],
   "source": [
    "# import matplotlib.pyplot as plt\n",
    "# def calculate_cumulative_profit(df, threshold):\n",
    "#     df = backtest_live[backtest_live['model_preds'] >= threshold]\n",
    "#     return df['01m_profit'].cumsum()\n",
    "# thresholds = [0.5, 0.9]\n",
    "\n",
    "# for threshold in thresholds:\n",
    "#     plt.plot(calculate_cumulative_profit(backtest_live, threshold), label=f\"Threshold {threshold}\")\n",
    "# plt.title(\"Cumulative Profits based on Model's Predictions\")\n",
    "# plt.legend()\n",
    "# plt.show()"
   ]
  },
  {
   "cell_type": "code",
   "execution_count": null,
   "id": "dea44c70",
   "metadata": {},
   "outputs": [],
   "source": [
    "plt.figure(figsize=(10,6))\n",
    "\n",
    "def calculate_cumulative_profit_over_time(backtest_live, threshold):\n",
    "    df = backtest_live[backtest_live['model_preds'] >= threshold].sort_values(by='f_ko') # Filter based on model prediction threshold\n",
    "    df['cumulative_profit'] = backtest_live['01m_profit'].cumsum() # Sum the profits\n",
    "    return df[['f_ko', 'cumulative_profit']]\n",
    "\n",
    "# Plot profits for each threshold\n",
    "thresholds = [0.5, 0.9]\n",
    "for threshold in thresholds:\n",
    "    result = calculate_cumulative_profit_over_time(backtest_live, threshold)\n",
    "    plt.plot(result['f_ko'], result['cumulative_profit'], label=f\"Threshold {threshold}\")\n",
    "\n",
    "plt.title(\"Cumulative Profits Over Time based on Model's Predictions\")\n",
    "plt.legend()\n",
    "plt.xlabel(\"Time\")\n",
    "plt.ylabel(\"Cumulative Profit\")\n",
    "plt.grid(True)\n",
    "plt.tight_layout()\n",
    "plt.show()"
   ]
  },
  {
   "cell_type": "code",
   "execution_count": null,
   "id": "f69ce748",
   "metadata": {},
   "outputs": [],
   "source": []
  }
 ],
 "metadata": {
  "kernelspec": {
   "display_name": "Python 3 (ipykernel)",
   "language": "python",
   "name": "python3"
  },
  "language_info": {
   "codemirror_mode": {
    "name": "ipython",
    "version": 3
   },
   "file_extension": ".py",
   "mimetype": "text/x-python",
   "name": "python",
   "nbconvert_exporter": "python",
   "pygments_lexer": "ipython3",
   "version": "3.11.4"
  },
  "toc": {
   "base_numbering": 1,
   "nav_menu": {},
   "number_sections": true,
   "sideBar": true,
   "skip_h1_title": false,
   "title_cell": "Table of Contents",
   "title_sidebar": "Contents",
   "toc_cell": false,
   "toc_position": {},
   "toc_section_display": true,
   "toc_window_display": false
  }
 },
 "nbformat": 4,
 "nbformat_minor": 5
}
