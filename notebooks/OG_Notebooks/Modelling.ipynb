{
 "cells": [
  {
   "cell_type": "code",
   "execution_count": 1,
   "id": "29f9d264",
   "metadata": {},
   "outputs": [],
   "source": [
    "import warnings\n",
    "\n",
    "# Turn off all warnings (not recommended unless you're sure)\n",
    "warnings.filterwarnings('ignore')"
   ]
  },
  {
   "cell_type": "code",
   "execution_count": 2,
   "id": "a3d172aa",
   "metadata": {},
   "outputs": [
    {
     "name": "stderr",
     "output_type": "stream",
     "text": [
      "2023-08-31 17:12:53.659748: I tensorflow/core/platform/cpu_feature_guard.cc:193] This TensorFlow binary is optimized with oneAPI Deep Neural Network Library (oneDNN) to use the following CPU instructions in performance-critical operations:  AVX2 FMA\n",
      "To enable them in other operations, rebuild TensorFlow with the appropriate compiler flags.\n"
     ]
    }
   ],
   "source": [
    "import numpy as np\n",
    "import tensorflow as tf\n",
    "import pandas as pd\n",
    "from tensorflow.keras.models import Sequential\n",
    "from tensorflow.keras.layers import Dense, Dropout\n",
    "from tensorflow.keras.optimizers import Adam\n",
    "from tensorflow.keras.callbacks import EarlyStopping\n",
    "from sklearn.model_selection import train_test_split\n",
    "from sklearn.metrics import accuracy_score\n",
    "from sklearn.preprocessing import StandardScaler\n",
    "from tensorflow.keras.regularizers import l1, l2\n",
    "from tensorflow.keras.metrics import Precision, Recall\n",
    "\n",
    "from sklearn.decomposition import PCA\n",
    "import matplotlib.pyplot as plt\n"
   ]
  },
  {
   "cell_type": "code",
   "execution_count": 3,
   "id": "38e4f235",
   "metadata": {},
   "outputs": [],
   "source": [
    "data = pd.read_csv(\"raw_data/data_clean_and_preprocessed_v2.csv\")"
   ]
  },
  {
   "cell_type": "code",
   "execution_count": 4,
   "id": "a2fd38f4",
   "metadata": {
    "scrolled": true
   },
   "outputs": [],
   "source": [
    "data = data.sort_values(by='f_ko')"
   ]
  },
  {
   "cell_type": "code",
   "execution_count": 5,
   "id": "ca99bdbf",
   "metadata": {},
   "outputs": [],
   "source": [
    "data=data.query(\"f_pm_01m < 15 \")"
   ]
  },
  {
   "cell_type": "code",
   "execution_count": 6,
   "id": "0e825154",
   "metadata": {},
   "outputs": [],
   "source": [
    "data = data.reset_index(drop=True)"
   ]
  },
  {
   "cell_type": "code",
   "execution_count": 7,
   "id": "9ecf3c01",
   "metadata": {},
   "outputs": [
    {
     "data": {
      "text/plain": [
       "(64329, 164)"
      ]
     },
     "execution_count": 7,
     "metadata": {},
     "output_type": "execute_result"
    }
   ],
   "source": [
    "data.shape"
   ]
  },
  {
   "cell_type": "code",
   "execution_count": 8,
   "id": "1e557a9e",
   "metadata": {},
   "outputs": [],
   "source": [
    "# X_train = train.iloc[:24882]\n",
    "# X_val = X.iloc[24882:49544]\n",
    "# X_test = X.iloc[49544:]\n",
    "# y_train = y.iloc[:24882]\n",
    "# y_val = y.iloc[24882:49544]\n",
    "# y_test = y.iloc[49544:]\n",
    "# backtest_train = backtest.iloc[:24882]\n",
    "# backtest_val = backtest.iloc[24882:49544]\n",
    "# backtest_test = backtest.iloc[49544:]"
   ]
  },
  {
   "cell_type": "code",
   "execution_count": 9,
   "id": "a49d75a0",
   "metadata": {},
   "outputs": [
    {
     "data": {
      "text/plain": [
       "(24291, 14924, 25114, 24291, 14924, 25114)"
      ]
     },
     "execution_count": 9,
     "metadata": {},
     "output_type": "execute_result"
    }
   ],
   "source": [
    "# Split the data chronologically to avoid look-ahead bias:\n",
    "test_start_date = '2022-08-20 18:45:00'  # max_date - 1 yr\n",
    "val_start_date = '2022-02-20 18:45:00'  # max_date - 1.5 yrs\n",
    "# Split the data into test and train\n",
    "train = data[data['f_ko'] <= val_start_date]\n",
    "val = data[(data['f_ko'] > val_start_date) & (data['f_ko'] <= test_start_date)]\n",
    "test = data[data['f_ko'] > test_start_date]\n",
    "# Split the data into X and y\n",
    "X_train = train.drop(columns=[\"f_place\", \"f_pm_15m\", \"f_pm_05m\", \"f_pm_01m\", \"f_pm_15m_p_back\", \"f_id\", \"f_ko\"])\n",
    "X_val = val.drop(columns = [\"f_place\", \"f_pm_15m\", \"f_pm_05m\", \"f_pm_01m\", \"f_pm_15m_p_back\", \"f_id\", \"f_ko\"])\n",
    "X_test = test.drop(columns = [\"f_place\", \"f_pm_15m\", \"f_pm_05m\", \"f_pm_01m\", \"f_pm_15m_p_back\", \"f_id\", \"f_ko\"])\n",
    "y_train = train[\"f_place\"]\n",
    "y_val = val[\"f_place\"]\n",
    "y_test = test[\"f_place\"]\n",
    "len(X_train), len(X_val), len(X_test), len(y_train), len(y_val), len(y_test)"
   ]
  },
  {
   "cell_type": "code",
   "execution_count": 10,
   "id": "9fe51f16",
   "metadata": {},
   "outputs": [
    {
     "data": {
      "text/html": [
       "<div>\n",
       "<style scoped>\n",
       "    .dataframe tbody tr th:only-of-type {\n",
       "        vertical-align: middle;\n",
       "    }\n",
       "\n",
       "    .dataframe tbody tr th {\n",
       "        vertical-align: top;\n",
       "    }\n",
       "\n",
       "    .dataframe thead th {\n",
       "        text-align: right;\n",
       "    }\n",
       "</style>\n",
       "<table border=\"1\" class=\"dataframe\">\n",
       "  <thead>\n",
       "    <tr style=\"text-align: right;\">\n",
       "      <th></th>\n",
       "      <th>f_going</th>\n",
       "      <th>average_or_rating_class</th>\n",
       "      <th>above_below_official_rating_class</th>\n",
       "      <th>PreviousPosition</th>\n",
       "      <th>PredictedRank</th>\n",
       "      <th>f_distance</th>\n",
       "      <th>f_class</th>\n",
       "      <th>f_age</th>\n",
       "      <th>f_pace</th>\n",
       "      <th>f_weight</th>\n",
       "      <th>...</th>\n",
       "      <th>f_headgear_TC</th>\n",
       "      <th>f_headgear_TV</th>\n",
       "      <th>f_headgear_V</th>\n",
       "      <th>f_headgear_VC</th>\n",
       "      <th>f_headgear_no_headgear</th>\n",
       "      <th>country_GB</th>\n",
       "      <th>country_IRE</th>\n",
       "      <th>f_dob</th>\n",
       "      <th>f_prb_avg</th>\n",
       "      <th>pred_isp</th>\n",
       "    </tr>\n",
       "  </thead>\n",
       "  <tbody>\n",
       "    <tr>\n",
       "      <th>24291</th>\n",
       "      <td>0.4</td>\n",
       "      <td>0.212308</td>\n",
       "      <td>0.615482</td>\n",
       "      <td>0.161290</td>\n",
       "      <td>0.225806</td>\n",
       "      <td>0.0</td>\n",
       "      <td>0.833333</td>\n",
       "      <td>0.333333</td>\n",
       "      <td>0.8</td>\n",
       "      <td>0.328125</td>\n",
       "      <td>...</td>\n",
       "      <td>0.0</td>\n",
       "      <td>0.0</td>\n",
       "      <td>0.0</td>\n",
       "      <td>0.0</td>\n",
       "      <td>0.0</td>\n",
       "      <td>1.0</td>\n",
       "      <td>0.0</td>\n",
       "      <td>0.47</td>\n",
       "      <td>0.41</td>\n",
       "      <td>0.076923</td>\n",
       "    </tr>\n",
       "    <tr>\n",
       "      <th>24292</th>\n",
       "      <td>0.4</td>\n",
       "      <td>0.212308</td>\n",
       "      <td>0.561261</td>\n",
       "      <td>0.064516</td>\n",
       "      <td>0.064516</td>\n",
       "      <td>0.0</td>\n",
       "      <td>0.833333</td>\n",
       "      <td>0.583333</td>\n",
       "      <td>0.9</td>\n",
       "      <td>0.218750</td>\n",
       "      <td>...</td>\n",
       "      <td>0.0</td>\n",
       "      <td>0.0</td>\n",
       "      <td>1.0</td>\n",
       "      <td>0.0</td>\n",
       "      <td>0.0</td>\n",
       "      <td>1.0</td>\n",
       "      <td>0.0</td>\n",
       "      <td>0.42</td>\n",
       "      <td>0.47</td>\n",
       "      <td>0.166667</td>\n",
       "    </tr>\n",
       "    <tr>\n",
       "      <th>24293</th>\n",
       "      <td>0.4</td>\n",
       "      <td>0.212308</td>\n",
       "      <td>0.662926</td>\n",
       "      <td>0.129032</td>\n",
       "      <td>0.032258</td>\n",
       "      <td>0.0</td>\n",
       "      <td>0.833333</td>\n",
       "      <td>0.166667</td>\n",
       "      <td>0.5</td>\n",
       "      <td>0.453125</td>\n",
       "      <td>...</td>\n",
       "      <td>0.0</td>\n",
       "      <td>0.0</td>\n",
       "      <td>0.0</td>\n",
       "      <td>0.0</td>\n",
       "      <td>1.0</td>\n",
       "      <td>1.0</td>\n",
       "      <td>0.0</td>\n",
       "      <td>0.40</td>\n",
       "      <td>0.38</td>\n",
       "      <td>0.200000</td>\n",
       "    </tr>\n",
       "    <tr>\n",
       "      <th>24294</th>\n",
       "      <td>0.4</td>\n",
       "      <td>0.212308</td>\n",
       "      <td>0.622260</td>\n",
       "      <td>0.225806</td>\n",
       "      <td>0.000000</td>\n",
       "      <td>0.0</td>\n",
       "      <td>0.833333</td>\n",
       "      <td>0.416667</td>\n",
       "      <td>0.4</td>\n",
       "      <td>0.343750</td>\n",
       "      <td>...</td>\n",
       "      <td>0.0</td>\n",
       "      <td>0.0</td>\n",
       "      <td>0.0</td>\n",
       "      <td>0.0</td>\n",
       "      <td>1.0</td>\n",
       "      <td>1.0</td>\n",
       "      <td>0.0</td>\n",
       "      <td>0.35</td>\n",
       "      <td>0.49</td>\n",
       "      <td>0.285714</td>\n",
       "    </tr>\n",
       "    <tr>\n",
       "      <th>24295</th>\n",
       "      <td>0.4</td>\n",
       "      <td>0.212308</td>\n",
       "      <td>0.683259</td>\n",
       "      <td>0.161290</td>\n",
       "      <td>0.096774</td>\n",
       "      <td>0.0</td>\n",
       "      <td>0.833333</td>\n",
       "      <td>0.166667</td>\n",
       "      <td>0.4</td>\n",
       "      <td>0.468750</td>\n",
       "      <td>...</td>\n",
       "      <td>0.0</td>\n",
       "      <td>0.0</td>\n",
       "      <td>0.0</td>\n",
       "      <td>0.0</td>\n",
       "      <td>1.0</td>\n",
       "      <td>1.0</td>\n",
       "      <td>0.0</td>\n",
       "      <td>0.40</td>\n",
       "      <td>0.49</td>\n",
       "      <td>0.166667</td>\n",
       "    </tr>\n",
       "    <tr>\n",
       "      <th>...</th>\n",
       "      <td>...</td>\n",
       "      <td>...</td>\n",
       "      <td>...</td>\n",
       "      <td>...</td>\n",
       "      <td>...</td>\n",
       "      <td>...</td>\n",
       "      <td>...</td>\n",
       "      <td>...</td>\n",
       "      <td>...</td>\n",
       "      <td>...</td>\n",
       "      <td>...</td>\n",
       "      <td>...</td>\n",
       "      <td>...</td>\n",
       "      <td>...</td>\n",
       "      <td>...</td>\n",
       "      <td>...</td>\n",
       "      <td>...</td>\n",
       "      <td>...</td>\n",
       "      <td>...</td>\n",
       "      <td>...</td>\n",
       "      <td>...</td>\n",
       "    </tr>\n",
       "    <tr>\n",
       "      <th>39210</th>\n",
       "      <td>0.4</td>\n",
       "      <td>0.672879</td>\n",
       "      <td>0.582158</td>\n",
       "      <td>0.129032</td>\n",
       "      <td>0.225806</td>\n",
       "      <td>0.0</td>\n",
       "      <td>0.333333</td>\n",
       "      <td>0.416667</td>\n",
       "      <td>0.5</td>\n",
       "      <td>0.250000</td>\n",
       "      <td>...</td>\n",
       "      <td>0.0</td>\n",
       "      <td>0.0</td>\n",
       "      <td>0.0</td>\n",
       "      <td>0.0</td>\n",
       "      <td>0.0</td>\n",
       "      <td>1.0</td>\n",
       "      <td>0.0</td>\n",
       "      <td>0.47</td>\n",
       "      <td>0.48</td>\n",
       "      <td>0.066667</td>\n",
       "    </tr>\n",
       "    <tr>\n",
       "      <th>39211</th>\n",
       "      <td>0.4</td>\n",
       "      <td>0.672879</td>\n",
       "      <td>0.588935</td>\n",
       "      <td>0.032258</td>\n",
       "      <td>0.096774</td>\n",
       "      <td>0.0</td>\n",
       "      <td>0.333333</td>\n",
       "      <td>0.166667</td>\n",
       "      <td>0.9</td>\n",
       "      <td>0.281250</td>\n",
       "      <td>...</td>\n",
       "      <td>0.0</td>\n",
       "      <td>0.0</td>\n",
       "      <td>0.0</td>\n",
       "      <td>0.0</td>\n",
       "      <td>0.0</td>\n",
       "      <td>1.0</td>\n",
       "      <td>0.0</td>\n",
       "      <td>0.57</td>\n",
       "      <td>0.64</td>\n",
       "      <td>0.153846</td>\n",
       "    </tr>\n",
       "    <tr>\n",
       "      <th>39212</th>\n",
       "      <td>0.4</td>\n",
       "      <td>0.672879</td>\n",
       "      <td>0.629601</td>\n",
       "      <td>0.064516</td>\n",
       "      <td>0.064516</td>\n",
       "      <td>0.0</td>\n",
       "      <td>0.333333</td>\n",
       "      <td>0.166667</td>\n",
       "      <td>0.9</td>\n",
       "      <td>0.375000</td>\n",
       "      <td>...</td>\n",
       "      <td>0.0</td>\n",
       "      <td>0.0</td>\n",
       "      <td>0.0</td>\n",
       "      <td>0.0</td>\n",
       "      <td>0.0</td>\n",
       "      <td>1.0</td>\n",
       "      <td>0.0</td>\n",
       "      <td>0.41</td>\n",
       "      <td>0.53</td>\n",
       "      <td>0.166667</td>\n",
       "    </tr>\n",
       "    <tr>\n",
       "      <th>39213</th>\n",
       "      <td>0.4</td>\n",
       "      <td>0.672879</td>\n",
       "      <td>0.636379</td>\n",
       "      <td>0.064516</td>\n",
       "      <td>0.032258</td>\n",
       "      <td>0.0</td>\n",
       "      <td>0.333333</td>\n",
       "      <td>0.166667</td>\n",
       "      <td>0.7</td>\n",
       "      <td>0.406250</td>\n",
       "      <td>...</td>\n",
       "      <td>0.0</td>\n",
       "      <td>0.0</td>\n",
       "      <td>0.0</td>\n",
       "      <td>0.0</td>\n",
       "      <td>0.0</td>\n",
       "      <td>1.0</td>\n",
       "      <td>0.0</td>\n",
       "      <td>0.36</td>\n",
       "      <td>0.63</td>\n",
       "      <td>0.222222</td>\n",
       "    </tr>\n",
       "    <tr>\n",
       "      <th>39214</th>\n",
       "      <td>0.4</td>\n",
       "      <td>0.672879</td>\n",
       "      <td>0.649934</td>\n",
       "      <td>0.032258</td>\n",
       "      <td>0.000000</td>\n",
       "      <td>0.0</td>\n",
       "      <td>0.333333</td>\n",
       "      <td>0.083333</td>\n",
       "      <td>0.9</td>\n",
       "      <td>0.406250</td>\n",
       "      <td>...</td>\n",
       "      <td>0.0</td>\n",
       "      <td>0.0</td>\n",
       "      <td>0.0</td>\n",
       "      <td>0.0</td>\n",
       "      <td>0.0</td>\n",
       "      <td>1.0</td>\n",
       "      <td>0.0</td>\n",
       "      <td>0.50</td>\n",
       "      <td>0.66</td>\n",
       "      <td>0.230947</td>\n",
       "    </tr>\n",
       "  </tbody>\n",
       "</table>\n",
       "<p>14924 rows × 157 columns</p>\n",
       "</div>"
      ],
      "text/plain": [
       "       f_going  average_or_rating_class  above_below_official_rating_class  \\\n",
       "24291      0.4                 0.212308                           0.615482   \n",
       "24292      0.4                 0.212308                           0.561261   \n",
       "24293      0.4                 0.212308                           0.662926   \n",
       "24294      0.4                 0.212308                           0.622260   \n",
       "24295      0.4                 0.212308                           0.683259   \n",
       "...        ...                      ...                                ...   \n",
       "39210      0.4                 0.672879                           0.582158   \n",
       "39211      0.4                 0.672879                           0.588935   \n",
       "39212      0.4                 0.672879                           0.629601   \n",
       "39213      0.4                 0.672879                           0.636379   \n",
       "39214      0.4                 0.672879                           0.649934   \n",
       "\n",
       "       PreviousPosition  PredictedRank  f_distance   f_class     f_age  \\\n",
       "24291          0.161290       0.225806         0.0  0.833333  0.333333   \n",
       "24292          0.064516       0.064516         0.0  0.833333  0.583333   \n",
       "24293          0.129032       0.032258         0.0  0.833333  0.166667   \n",
       "24294          0.225806       0.000000         0.0  0.833333  0.416667   \n",
       "24295          0.161290       0.096774         0.0  0.833333  0.166667   \n",
       "...                 ...            ...         ...       ...       ...   \n",
       "39210          0.129032       0.225806         0.0  0.333333  0.416667   \n",
       "39211          0.032258       0.096774         0.0  0.333333  0.166667   \n",
       "39212          0.064516       0.064516         0.0  0.333333  0.166667   \n",
       "39213          0.064516       0.032258         0.0  0.333333  0.166667   \n",
       "39214          0.032258       0.000000         0.0  0.333333  0.083333   \n",
       "\n",
       "       f_pace  f_weight  ...  f_headgear_TC  f_headgear_TV  f_headgear_V  \\\n",
       "24291     0.8  0.328125  ...            0.0            0.0           0.0   \n",
       "24292     0.9  0.218750  ...            0.0            0.0           1.0   \n",
       "24293     0.5  0.453125  ...            0.0            0.0           0.0   \n",
       "24294     0.4  0.343750  ...            0.0            0.0           0.0   \n",
       "24295     0.4  0.468750  ...            0.0            0.0           0.0   \n",
       "...       ...       ...  ...            ...            ...           ...   \n",
       "39210     0.5  0.250000  ...            0.0            0.0           0.0   \n",
       "39211     0.9  0.281250  ...            0.0            0.0           0.0   \n",
       "39212     0.9  0.375000  ...            0.0            0.0           0.0   \n",
       "39213     0.7  0.406250  ...            0.0            0.0           0.0   \n",
       "39214     0.9  0.406250  ...            0.0            0.0           0.0   \n",
       "\n",
       "       f_headgear_VC  f_headgear_no_headgear  country_GB  country_IRE  f_dob  \\\n",
       "24291            0.0                     0.0         1.0          0.0   0.47   \n",
       "24292            0.0                     0.0         1.0          0.0   0.42   \n",
       "24293            0.0                     1.0         1.0          0.0   0.40   \n",
       "24294            0.0                     1.0         1.0          0.0   0.35   \n",
       "24295            0.0                     1.0         1.0          0.0   0.40   \n",
       "...              ...                     ...         ...          ...    ...   \n",
       "39210            0.0                     0.0         1.0          0.0   0.47   \n",
       "39211            0.0                     0.0         1.0          0.0   0.57   \n",
       "39212            0.0                     0.0         1.0          0.0   0.41   \n",
       "39213            0.0                     0.0         1.0          0.0   0.36   \n",
       "39214            0.0                     0.0         1.0          0.0   0.50   \n",
       "\n",
       "       f_prb_avg  pred_isp  \n",
       "24291       0.41  0.076923  \n",
       "24292       0.47  0.166667  \n",
       "24293       0.38  0.200000  \n",
       "24294       0.49  0.285714  \n",
       "24295       0.49  0.166667  \n",
       "...          ...       ...  \n",
       "39210       0.48  0.066667  \n",
       "39211       0.64  0.153846  \n",
       "39212       0.53  0.166667  \n",
       "39213       0.63  0.222222  \n",
       "39214       0.66  0.230947  \n",
       "\n",
       "[14924 rows x 157 columns]"
      ]
     },
     "execution_count": 10,
     "metadata": {},
     "output_type": "execute_result"
    }
   ],
   "source": [
    "X_val"
   ]
  },
  {
   "cell_type": "code",
   "execution_count": 11,
   "id": "e444e24a",
   "metadata": {},
   "outputs": [],
   "source": [
    "backtesting= data[data['f_ko'] > test_start_date]"
   ]
  },
  {
   "cell_type": "code",
   "execution_count": 12,
   "id": "299edc30",
   "metadata": {},
   "outputs": [],
   "source": [
    "# X_train=X.iloc[:73753]\n",
    "# X_val=X.iloc[73753:91432]\n",
    "# X_test=X.iloc[91432:]\n",
    "# y_train=y.iloc[:73753]\n",
    "# y_val=y.iloc[73753:91432]\n",
    "# y_test=y.iloc[91432:]"
   ]
  },
  {
   "cell_type": "code",
   "execution_count": 13,
   "id": "8087218e",
   "metadata": {},
   "outputs": [],
   "source": [
    "# pca = PCA()\n",
    "\n",
    "# # Fit PCA on your data\n",
    "# pca.fit(X_train)\n",
    "\n",
    "# # Get explained variance ratio\n",
    "# explained_variance_ratio = pca.explained_variance_ratio_\n",
    "\n",
    "# # Calculate cumulative explained variance\n",
    "# cumulative_variance = np.cumsum(explained_variance_ratio)\n",
    "\n",
    "# # Plot explained variance ratio\n",
    "# plt.figure(figsize=(10, 6))\n",
    "# plt.plot(range(1, len(cumulative_variance) + 1), cumulative_variance, marker='o')\n",
    "# plt.title('Cumulative Explained Variance')\n",
    "# plt.xlabel('Number of Components')\n",
    "# plt.ylabel('Cumulative Explained Variance')\n",
    "# plt.grid(True)\n",
    "# plt.show()"
   ]
  },
  {
   "cell_type": "code",
   "execution_count": 14,
   "id": "8297596a",
   "metadata": {},
   "outputs": [],
   "source": [
    "pca = PCA(n_components=70)"
   ]
  },
  {
   "cell_type": "code",
   "execution_count": 15,
   "id": "36cfc1ed",
   "metadata": {},
   "outputs": [],
   "source": [
    "X_train_pca = pca.fit_transform(X_train)"
   ]
  },
  {
   "cell_type": "code",
   "execution_count": 16,
   "id": "fc18a9c1",
   "metadata": {},
   "outputs": [],
   "source": [
    "X_val_pca = pca.transform(X_val)"
   ]
  },
  {
   "cell_type": "code",
   "execution_count": 17,
   "id": "7e66562e",
   "metadata": {},
   "outputs": [],
   "source": [
    "X_test_pca = pca.transform(X_test)"
   ]
  },
  {
   "cell_type": "code",
   "execution_count": 18,
   "id": "0ea300cf",
   "metadata": {},
   "outputs": [],
   "source": [
    "# def custom_loss(implied_probabilities, bet_amount, threshold=0.06):\n",
    "#     def loss(y_true, y_pred):\n",
    "#         # Calculate the potential profit/loss for each prediction\n",
    "#         bet_placed = y_pred > (implied_probabilities + threshold)\n",
    "#         profit_loss = tf.where(y_true == 1, tf.where(bet_placed, (implied_probabilities-1) * bet_amount * y_pred, 0)\n",
    "#                                , tf.where(bet_placed,bet_amount * y_pred, 0))\n",
    "\n",
    "#         # Calculate the binary cross-entropy loss\n",
    "#         binary_crossentropy = tf.keras.losses.BinaryCrossentropy(from_logits=False)(y_true, y_pred)\n",
    "\n",
    "#         # Combine all loss components\n",
    "#         custom_loss_value = tf.reduce_mean(binary_crossentropy + profit_loss)\n",
    "\n",
    "#         return custom_loss_value\n",
    "#     return loss"
   ]
  },
  {
   "cell_type": "code",
   "execution_count": 19,
   "id": "3112bd34",
   "metadata": {},
   "outputs": [
    {
     "name": "stderr",
     "output_type": "stream",
     "text": [
      "2023-08-31 17:13:04.375450: I tensorflow/core/platform/cpu_feature_guard.cc:193] This TensorFlow binary is optimized with oneAPI Deep Neural Network Library (oneDNN) to use the following CPU instructions in performance-critical operations:  AVX2 FMA\n",
      "To enable them in other operations, rebuild TensorFlow with the appropriate compiler flags.\n"
     ]
    }
   ],
   "source": [
    "\n",
    "def build_model(input_dim):\n",
    "    model = Sequential()\n",
    "\n",
    "    # Input layer\n",
    "    model.add(Dense(64, input_dim=input_dim, activation='relu'))\n",
    "    model.add(Dropout(0.15))\n",
    "\n",
    "    # Hidden layers\n",
    "    model.add(Dense(128, activation='relu'))\n",
    "    model.add(Dropout(0.01))\n",
    "\n",
    "    model.add(Dense(64, activation='relu'))\n",
    "    \n",
    "    model.add(Dense(32, activation='relu'))\n",
    "    model.add(Dropout(0.1))\n",
    "    \n",
    "    # Output layer\n",
    "    model.add(Dense(1, activation='sigmoid'))\n",
    "\n",
    "    return model\n",
    "\n",
    "model = build_model(X_train_pca.shape[1])\n"
   ]
  },
  {
   "cell_type": "code",
   "execution_count": 20,
   "id": "c2a3333d",
   "metadata": {},
   "outputs": [],
   "source": [
    "\n",
    "# Compile the model\n",
    "model.compile(optimizer=Adam(learning_rate=0.00005), loss=\"binary_crossentropy\", metrics=[Precision()])"
   ]
  },
  {
   "cell_type": "code",
   "execution_count": 21,
   "id": "f825e75b",
   "metadata": {},
   "outputs": [],
   "source": [
    "\n",
    "# Define callbacks (optional)\n",
    "early_stopping = EarlyStopping(patience=20, restore_best_weights=True)\n"
   ]
  },
  {
   "cell_type": "code",
   "execution_count": 22,
   "id": "b150b713",
   "metadata": {},
   "outputs": [
    {
     "name": "stdout",
     "output_type": "stream",
     "text": [
      "Epoch 1/1000\n",
      "1519/1519 [==============================] - 4s 2ms/step - loss: 0.4815 - precision: 0.1404 - val_loss: 0.4472 - val_precision: 0.0000e+00\n",
      "Epoch 2/1000\n",
      "1519/1519 [==============================] - 2s 2ms/step - loss: 0.4441 - precision: 0.0000e+00 - val_loss: 0.4447 - val_precision: 0.0000e+00\n",
      "Epoch 3/1000\n",
      "1519/1519 [==============================] - 2s 2ms/step - loss: 0.4416 - precision: 0.0000e+00 - val_loss: 0.4436 - val_precision: 0.0000e+00\n",
      "Epoch 4/1000\n",
      "1519/1519 [==============================] - 2s 2ms/step - loss: 0.4406 - precision: 0.0000e+00 - val_loss: 0.4428 - val_precision: 0.0000e+00\n",
      "Epoch 5/1000\n",
      "1519/1519 [==============================] - 2s 2ms/step - loss: 0.4392 - precision: 0.0000e+00 - val_loss: 0.4423 - val_precision: 0.0000e+00\n",
      "Epoch 6/1000\n",
      "1519/1519 [==============================] - 2s 2ms/step - loss: 0.4376 - precision: 0.0000e+00 - val_loss: 0.4416 - val_precision: 0.0000e+00\n",
      "Epoch 7/1000\n",
      "1519/1519 [==============================] - 3s 2ms/step - loss: 0.4368 - precision: 0.0000e+00 - val_loss: 0.4413 - val_precision: 0.0000e+00\n",
      "Epoch 8/1000\n",
      "1519/1519 [==============================] - 3s 2ms/step - loss: 0.4369 - precision: 0.0000e+00 - val_loss: 0.4414 - val_precision: 0.0000e+00\n",
      "Epoch 9/1000\n",
      "1519/1519 [==============================] - 3s 2ms/step - loss: 0.4361 - precision: 0.0000e+00 - val_loss: 0.4408 - val_precision: 0.0000e+00\n",
      "Epoch 10/1000\n",
      "1519/1519 [==============================] - 2s 2ms/step - loss: 0.4353 - precision: 0.0000e+00 - val_loss: 0.4405 - val_precision: 0.0000e+00\n",
      "Epoch 11/1000\n",
      "1519/1519 [==============================] - 2s 2ms/step - loss: 0.4353 - precision: 0.0000e+00 - val_loss: 0.4402 - val_precision: 0.0000e+00\n",
      "Epoch 12/1000\n",
      "1519/1519 [==============================] - 2s 2ms/step - loss: 0.4344 - precision: 0.0000e+00 - val_loss: 0.4401 - val_precision: 0.0000e+00\n",
      "Epoch 13/1000\n",
      "1519/1519 [==============================] - 2s 2ms/step - loss: 0.4337 - precision: 0.0000e+00 - val_loss: 0.4400 - val_precision: 0.0000e+00\n",
      "Epoch 14/1000\n",
      "1519/1519 [==============================] - 2s 2ms/step - loss: 0.4336 - precision: 0.0000e+00 - val_loss: 0.4401 - val_precision: 0.0000e+00\n",
      "Epoch 15/1000\n",
      "1519/1519 [==============================] - 2s 2ms/step - loss: 0.4336 - precision: 0.0000e+00 - val_loss: 0.4399 - val_precision: 0.0000e+00\n",
      "Epoch 16/1000\n",
      "1519/1519 [==============================] - 2s 2ms/step - loss: 0.4330 - precision: 0.0000e+00 - val_loss: 0.4407 - val_precision: 0.0000e+00\n",
      "Epoch 17/1000\n",
      "1519/1519 [==============================] - 2s 2ms/step - loss: 0.4322 - precision: 0.0000e+00 - val_loss: 0.4401 - val_precision: 0.0000e+00\n",
      "Epoch 18/1000\n",
      "1519/1519 [==============================] - 2s 2ms/step - loss: 0.4315 - precision: 0.0000e+00 - val_loss: 0.4399 - val_precision: 0.0000e+00\n",
      "Epoch 19/1000\n",
      "1519/1519 [==============================] - 2s 2ms/step - loss: 0.4313 - precision: 0.0000e+00 - val_loss: 0.4399 - val_precision: 0.0000e+00\n",
      "Epoch 20/1000\n",
      "1519/1519 [==============================] - 2s 2ms/step - loss: 0.4307 - precision: 0.0000e+00 - val_loss: 0.4403 - val_precision: 0.0000e+00\n",
      "Epoch 21/1000\n",
      "1519/1519 [==============================] - 2s 2ms/step - loss: 0.4308 - precision: 0.0000e+00 - val_loss: 0.4400 - val_precision: 0.0000e+00\n",
      "Epoch 22/1000\n",
      "1519/1519 [==============================] - 3s 2ms/step - loss: 0.4296 - precision: 0.0000e+00 - val_loss: 0.4402 - val_precision: 0.0000e+00\n",
      "Epoch 23/1000\n",
      "1519/1519 [==============================] - 2s 2ms/step - loss: 0.4295 - precision: 0.0000e+00 - val_loss: 0.4405 - val_precision: 0.0000e+00\n",
      "Epoch 24/1000\n",
      "1519/1519 [==============================] - 2s 2ms/step - loss: 0.4285 - precision: 0.0000e+00 - val_loss: 0.4402 - val_precision: 0.0000e+00\n",
      "Epoch 25/1000\n",
      "1519/1519 [==============================] - 2s 2ms/step - loss: 0.4286 - precision: 0.0000e+00 - val_loss: 0.4401 - val_precision: 0.0000e+00\n",
      "Epoch 26/1000\n",
      "1519/1519 [==============================] - 2s 2ms/step - loss: 0.4285 - precision: 0.0000e+00 - val_loss: 0.4398 - val_precision: 0.0000e+00\n",
      "Epoch 27/1000\n",
      "1519/1519 [==============================] - 2s 2ms/step - loss: 0.4270 - precision: 0.0000e+00 - val_loss: 0.4405 - val_precision: 0.0000e+00\n",
      "Epoch 28/1000\n",
      "1519/1519 [==============================] - 2s 2ms/step - loss: 0.4281 - precision: 0.0000e+00 - val_loss: 0.4406 - val_precision: 0.0000e+00\n",
      "Epoch 29/1000\n",
      "1519/1519 [==============================] - 2s 2ms/step - loss: 0.4268 - precision: 0.0000e+00 - val_loss: 0.4405 - val_precision: 0.0000e+00\n",
      "Epoch 30/1000\n",
      "1519/1519 [==============================] - 3s 2ms/step - loss: 0.4266 - precision: 0.0000e+00 - val_loss: 0.4404 - val_precision: 0.0000e+00\n",
      "Epoch 31/1000\n",
      "1519/1519 [==============================] - 2s 2ms/step - loss: 0.4267 - precision: 0.0000e+00 - val_loss: 0.4405 - val_precision: 0.0000e+00\n",
      "Epoch 32/1000\n",
      "1519/1519 [==============================] - 3s 2ms/step - loss: 0.4271 - precision: 0.0000e+00 - val_loss: 0.4405 - val_precision: 0.0000e+00\n",
      "Epoch 33/1000\n",
      "1519/1519 [==============================] - 2s 2ms/step - loss: 0.4255 - precision: 0.0000e+00 - val_loss: 0.4408 - val_precision: 0.0000e+00\n",
      "Epoch 34/1000\n",
      "1519/1519 [==============================] - 3s 2ms/step - loss: 0.4252 - precision: 0.0000e+00 - val_loss: 0.4409 - val_precision: 0.0000e+00\n",
      "Epoch 35/1000\n",
      "1519/1519 [==============================] - 2s 2ms/step - loss: 0.4252 - precision: 0.0000e+00 - val_loss: 0.4412 - val_precision: 0.0000e+00\n",
      "Epoch 36/1000\n",
      "1519/1519 [==============================] - 2s 2ms/step - loss: 0.4237 - precision: 1.0000 - val_loss: 0.4414 - val_precision: 0.0000e+00\n",
      "Epoch 37/1000\n",
      "1519/1519 [==============================] - 2s 2ms/step - loss: 0.4234 - precision: 1.0000 - val_loss: 0.4413 - val_precision: 0.0000e+00\n",
      "Epoch 38/1000\n",
      "1519/1519 [==============================] - 2s 2ms/step - loss: 0.4221 - precision: 0.7143 - val_loss: 0.4421 - val_precision: 0.0000e+00\n",
      "Epoch 39/1000\n",
      "1519/1519 [==============================] - 2s 2ms/step - loss: 0.4222 - precision: 0.3750 - val_loss: 0.4426 - val_precision: 0.0000e+00\n",
      "Epoch 40/1000\n",
      "1519/1519 [==============================] - 2s 2ms/step - loss: 0.4230 - precision: 0.7857 - val_loss: 0.4421 - val_precision: 0.0000e+00\n",
      "Epoch 41/1000\n",
      "1519/1519 [==============================] - 2s 2ms/step - loss: 0.4227 - precision: 0.6667 - val_loss: 0.4427 - val_precision: 0.0000e+00\n",
      "Epoch 42/1000\n",
      "1519/1519 [==============================] - 2s 2ms/step - loss: 0.4211 - precision: 0.7895 - val_loss: 0.4428 - val_precision: 0.0000e+00\n",
      "Epoch 43/1000\n",
      "1519/1519 [==============================] - 3s 2ms/step - loss: 0.4210 - precision: 0.6818 - val_loss: 0.4429 - val_precision: 0.0000e+00\n",
      "Epoch 44/1000\n",
      "1519/1519 [==============================] - 2s 2ms/step - loss: 0.4200 - precision: 0.6897 - val_loss: 0.4435 - val_precision: 1.0000\n",
      "Epoch 45/1000\n",
      "1519/1519 [==============================] - 3s 2ms/step - loss: 0.4194 - precision: 0.6750 - val_loss: 0.4440 - val_precision: 0.6667\n",
      "Epoch 46/1000\n",
      "1519/1519 [==============================] - 2s 2ms/step - loss: 0.4189 - precision: 0.6944 - val_loss: 0.4433 - val_precision: 0.6000\n"
     ]
    }
   ],
   "source": [
    "\n",
    "# Train the model\n",
    "history = model.fit(X_train_pca, y_train, batch_size=16, epochs=1000, validation_data=(X_val_pca, y_val), callbacks=[early_stopping])\n"
   ]
  },
  {
   "cell_type": "code",
   "execution_count": 23,
   "id": "efaec012",
   "metadata": {},
   "outputs": [
    {
     "name": "stdout",
     "output_type": "stream",
     "text": [
      "785/785 [==============================] - 1s 714us/step\n"
     ]
    }
   ],
   "source": [
    "y_pred = model.predict(X_test_pca)"
   ]
  },
  {
   "cell_type": "code",
   "execution_count": 24,
   "id": "86715701",
   "metadata": {},
   "outputs": [],
   "source": [
    "import seaborn as sns\n",
    "import matplotlib.pyplot as plt"
   ]
  },
  {
   "cell_type": "code",
   "execution_count": 25,
   "id": "e665d80c",
   "metadata": {},
   "outputs": [
    {
     "data": {
      "image/png": "[encoded data removed]",
      "text/plain": [
       "<Figure size 640x480 with 1 Axes>"
      ]
     },
     "metadata": {},
     "output_type": "display_data"
    }
   ],
   "source": [
    "sns.histplot(y_pred, bins=50, kde=True);  # Adjust the number of bins as needed\n"
   ]
  },
  {
   "cell_type": "code",
   "execution_count": 26,
   "id": "f98c82a8",
   "metadata": {
    "scrolled": true
   },
   "outputs": [],
   "source": [
    "backtesting[\"y_pred\"]=y_pred"
   ]
  },
  {
   "cell_type": "code",
   "execution_count": 27,
   "id": "a995b08f",
   "metadata": {},
   "outputs": [],
   "source": [
    "backtesting[\"probabilities\"]=1/backtesting[\"f_pm_15m\"]"
   ]
  },
  {
   "cell_type": "code",
   "execution_count": 28,
   "id": "a747e7ae",
   "metadata": {},
   "outputs": [],
   "source": [
    "backtesting[\"diff\"] = backtesting[\"y_pred\"] - backtesting[\"probabilities\"]"
   ]
  },
  {
   "cell_type": "code",
   "execution_count": 29,
   "id": "832a62e9",
   "metadata": {},
   "outputs": [
    {
     "data": {
      "text/plain": [
       "0.008655008201704464"
      ]
     },
     "execution_count": 29,
     "metadata": {},
     "output_type": "execute_result"
    }
   ],
   "source": [
    "backtesting[\"diff\"].mean()"
   ]
  },
  {
   "cell_type": "code",
   "execution_count": 30,
   "id": "593301ad",
   "metadata": {},
   "outputs": [
    {
     "data": {
      "image/png": "[encoded data removed]",
      "text/plain": [
       "<Figure size 640x480 with 1 Axes>"
      ]
     },
     "metadata": {},
     "output_type": "display_data"
    }
   ],
   "source": [
    "sns.histplot(backtesting[\"diff\"], bins=20, kde=True); "
   ]
  },
  {
   "cell_type": "code",
   "execution_count": 31,
   "id": "f3f957d3",
   "metadata": {},
   "outputs": [],
   "source": [
    "backtesting[\"bet_0.1\"] = backtesting.apply(lambda row: 1 if row['y_pred'] - row['probabilities'] > 0.1 else 0, axis=1)"
   ]
  },
  {
   "cell_type": "code",
   "execution_count": 32,
   "id": "05d0db29",
   "metadata": {},
   "outputs": [],
   "source": [
    "backtesting[\"bet_0.05\"] = backtesting.apply(lambda row: 1 if row['y_pred'] - row['probabilities'] > 0.05 else 0, axis=1)"
   ]
  },
  {
   "cell_type": "code",
   "execution_count": 33,
   "id": "d28481b6",
   "metadata": {},
   "outputs": [],
   "source": [
    "backtesting[\"bet_0.15\"] = backtesting.apply(lambda row: 1 if row['y_pred'] - row['probabilities'] > 0.15 else 0, axis=1)"
   ]
  },
  {
   "cell_type": "code",
   "execution_count": 34,
   "id": "232d5351",
   "metadata": {},
   "outputs": [
    {
     "data": {
      "text/plain": [
       "0    18092\n",
       "1     7022\n",
       "Name: bet_0.05, dtype: int64"
      ]
     },
     "execution_count": 34,
     "metadata": {},
     "output_type": "execute_result"
    }
   ],
   "source": [
    "backtesting[\"bet_0.05\"].value_counts()"
   ]
  },
  {
   "cell_type": "code",
   "execution_count": 35,
   "id": "5d9edc6f",
   "metadata": {},
   "outputs": [
    {
     "data": {
      "text/plain": [
       "0    23550\n",
       "1     1564\n",
       "Name: bet_0.1, dtype: int64"
      ]
     },
     "execution_count": 35,
     "metadata": {},
     "output_type": "execute_result"
    }
   ],
   "source": [
    "backtesting[\"bet_0.1\"].value_counts()"
   ]
  },
  {
   "cell_type": "code",
   "execution_count": 36,
   "id": "883a44da",
   "metadata": {},
   "outputs": [
    {
     "data": {
      "text/plain": [
       "0    24947\n",
       "1      167\n",
       "Name: bet_0.15, dtype: int64"
      ]
     },
     "execution_count": 36,
     "metadata": {},
     "output_type": "execute_result"
    }
   ],
   "source": [
    "backtesting['bet_0.15'].value_counts()"
   ]
  },
  {
   "cell_type": "code",
   "execution_count": 37,
   "id": "359bd857",
   "metadata": {},
   "outputs": [],
   "source": [
    "backtesting['bets_placed_0.15'] = backtesting['bet_0.15'].cumsum()\n",
    "backtesting['bets_placed_0.1'] = backtesting[\"bet_0.1\"].cumsum()\n",
    "backtesting['bets_placed_0.05'] = backtesting['bet_0.05'].cumsum()"
   ]
  },
  {
   "cell_type": "code",
   "execution_count": 38,
   "id": "717f69b5",
   "metadata": {},
   "outputs": [],
   "source": [
    "backtesting['profit_0.05']=backtesting['bet_0.05'] * backtesting[\"f_pm_15m_p_back\"]\n",
    "backtesting['profit_0.1']=backtesting['bet_0.1'] * backtesting[\"f_pm_15m_p_back\"]\n",
    "backtesting['profit_0.15']=backtesting['bet_0.15'] * backtesting[\"f_pm_15m_p_back\"]"
   ]
  },
  {
   "cell_type": "code",
   "execution_count": 39,
   "id": "174012e8",
   "metadata": {},
   "outputs": [
    {
     "data": {
      "image/png": "[encoded data removed]",
      "text/plain": [
       "<Figure size 1000x600 with 1 Axes>"
      ]
     },
     "metadata": {},
     "output_type": "display_data"
    }
   ],
   "source": [
    "plt.figure(figsize=(10, 6))  # Set the figure size (width, height)\n",
    "plt.plot(backtesting['bets_placed_0.05'], backtesting['profit_0.05'].cumsum(), linestyle='-', color='b', label='5% threshold')\n",
    "plt.plot(backtesting['bets_placed_0.1'], backtesting['profit_0.1'].cumsum(), linestyle='-', color='r', label='10% threshold')\n",
    "plt.plot(backtesting['bets_placed_0.15'], backtesting['profit_0.15'].cumsum(), linestyle='-', color='g', label='15% threshold')\n",
    "plt.title('Profit Over Time')\n",
    "plt.xlabel('Time')\n",
    "plt.ylabel('Profit')\n",
    "plt.grid(True)\n",
    "\n",
    "# tick_interval = pd.DateOffset(days=30)  \n",
    "# start_date = backtesting['f_ko'].min()\n",
    "# end_date = backtesting['f_ko'].max()\n",
    "# x_ticks = pd.date_range(start=start_date, end=end_date, freq=tick_interval)\n",
    "# plt.xticks(x_ticks, x_ticks.strftime('%b %d')) \n",
    "\n",
    "# plt.xticks(rotation=45)  \n",
    "\n",
    "\n",
    "plt.legend()\n",
    "plt.show()"
   ]
  },
  {
   "cell_type": "code",
   "execution_count": 40,
   "id": "f17ef9b9",
   "metadata": {},
   "outputs": [
    {
     "data": {
      "text/plain": [
       "39215     -0.00\n",
       "39216      0.00\n",
       "39217      0.00\n",
       "39218     -1.00\n",
       "39219     -1.00\n",
       "          ...  \n",
       "64324    302.94\n",
       "64325    302.94\n",
       "64326    302.94\n",
       "64327    301.94\n",
       "64328    301.94\n",
       "Name: profit_0.05, Length: 25114, dtype: float64"
      ]
     },
     "execution_count": 40,
     "metadata": {},
     "output_type": "execute_result"
    }
   ],
   "source": [
    "backtesting['profit_0.05'].cumsum()"
   ]
  },
  {
   "cell_type": "code",
   "execution_count": 41,
   "id": "81d97c99",
   "metadata": {},
   "outputs": [
    {
     "data": {
      "text/plain": [
       "39215     -0.0\n",
       "39216      0.0\n",
       "39217      0.0\n",
       "39218      0.0\n",
       "39219      0.0\n",
       "         ...  \n",
       "64324    272.2\n",
       "64325    272.2\n",
       "64326    272.2\n",
       "64327    272.2\n",
       "64328    272.2\n",
       "Name: profit_0.1, Length: 25114, dtype: float64"
      ]
     },
     "execution_count": 41,
     "metadata": {},
     "output_type": "execute_result"
    }
   ],
   "source": [
    "backtesting['profit_0.1'].cumsum()"
   ]
  },
  {
   "cell_type": "code",
   "execution_count": 42,
   "id": "c5b98fa4",
   "metadata": {},
   "outputs": [
    {
     "data": {
      "text/plain": [
       "39215   -0.00\n",
       "39216    0.00\n",
       "39217    0.00\n",
       "39218    0.00\n",
       "39219    0.00\n",
       "         ... \n",
       "64324    1.97\n",
       "64325    1.97\n",
       "64326    1.97\n",
       "64327    1.97\n",
       "64328    1.97\n",
       "Name: profit_0.15, Length: 25114, dtype: float64"
      ]
     },
     "execution_count": 42,
     "metadata": {},
     "output_type": "execute_result"
    }
   ],
   "source": [
    "backtesting['profit_0.15'].cumsum()"
   ]
  },
  {
   "cell_type": "code",
   "execution_count": 43,
   "id": "c5ffa74b",
   "metadata": {},
   "outputs": [],
   "source": [
    "# model.save_weights(\"model_001\")"
   ]
  },
  {
   "cell_type": "code",
   "execution_count": null,
   "id": "3266d52e",
   "metadata": {},
   "outputs": [],
   "source": []
  },
  {
   "cell_type": "code",
   "execution_count": 44,
   "id": "63420648",
   "metadata": {},
   "outputs": [],
   "source": [
    "# pd.set_option('display.max_columns', None)"
   ]
  },
  {
   "cell_type": "code",
   "execution_count": null,
   "id": "2c3a5c78",
   "metadata": {},
   "outputs": [],
   "source": []
  },
  {
   "cell_type": "code",
   "execution_count": 45,
   "id": "211f355c",
   "metadata": {},
   "outputs": [],
   "source": [
    "# X_test['f_ko'] = X_test['f_ko'].astype(int) // 10**9"
   ]
  },
  {
   "cell_type": "code",
   "execution_count": 46,
   "id": "12c72693",
   "metadata": {},
   "outputs": [],
   "source": [
    "# X_train['f_ko'] = pd.to_datetime(X_train['f_ko'])"
   ]
  },
  {
   "cell_type": "code",
   "execution_count": 47,
   "id": "a57f4f10",
   "metadata": {},
   "outputs": [],
   "source": [
    "# X_test['f_ko']"
   ]
  },
  {
   "cell_type": "code",
   "execution_count": 48,
   "id": "3bd8f0e8",
   "metadata": {},
   "outputs": [],
   "source": [
    "# scaler = StandardScaler()"
   ]
  },
  {
   "cell_type": "code",
   "execution_count": 49,
   "id": "23c5a4b2",
   "metadata": {},
   "outputs": [],
   "source": [
    "# X_test['f_ko'] = scaler.fit_transform(X_test[['f_ko']])"
   ]
  },
  {
   "cell_type": "code",
   "execution_count": 50,
   "id": "a821d9b5",
   "metadata": {},
   "outputs": [],
   "source": [
    "# X_test['f_ko']"
   ]
  },
  {
   "cell_type": "code",
   "execution_count": 51,
   "id": "f67be082",
   "metadata": {},
   "outputs": [
    {
     "data": {
      "image/png": "[encoded data removed]",
      "text/plain": [
       "<Figure size 640x480 with 1 Axes>"
      ]
     },
     "metadata": {},
     "output_type": "display_data"
    }
   ],
   "source": [
    "plt.plot(history.history['loss'])\n",
    "plt.plot(history.history[\"val_loss\"])\n",
    "\n",
    "plt.show()\n",
    "    "
   ]
  },
  {
   "cell_type": "code",
   "execution_count": null,
   "id": "b7bf7bc3",
   "metadata": {},
   "outputs": [],
   "source": []
  }
 ],
 "metadata": {
  "kernelspec": {
   "display_name": "Python 3 (ipykernel)",
   "language": "python",
   "name": "python3"
  },
  "language_info": {
   "codemirror_mode": {
    "name": "ipython",
    "version": 3
   },
   "file_extension": ".py",
   "mimetype": "text/x-python",
   "name": "python",
   "nbconvert_exporter": "python",
   "pygments_lexer": "ipython3",
   "version": "3.10.6"
  },
  "toc": {
   "base_numbering": 1,
   "nav_menu": {},
   "number_sections": true,
   "sideBar": true,
   "skip_h1_title": false,
   "title_cell": "Table of Contents",
   "title_sidebar": "Contents",
   "toc_cell": false,
   "toc_position": {},
   "toc_section_display": true,
   "toc_window_display": false
  }
 },
 "nbformat": 4,
 "nbformat_minor": 5
}
