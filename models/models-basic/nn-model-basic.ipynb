{
 "cells": [
  {
   "cell_type": "code",
   "execution_count": 1,
   "metadata": {},
   "outputs": [
    {
     "name": "stderr",
     "output_type": "stream",
     "text": [
      "2023-08-30 09:30:30.109417: I tensorflow/core/platform/cpu_feature_guard.cc:193] This TensorFlow binary is optimized with oneAPI Deep Neural Network Library (oneDNN) to use the following CPU instructions in performance-critical operations:  AVX2 FMA\n",
      "To enable them in other operations, rebuild TensorFlow with the appropriate compiler flags.\n",
      "2023-08-30 09:30:30.222656: W tensorflow/stream_executor/platform/default/dso_loader.cc:64] Could not load dynamic library 'libcudart.so.11.0'; dlerror: libcudart.so.11.0: cannot open shared object file: No such file or directory\n",
      "2023-08-30 09:30:30.222669: I tensorflow/stream_executor/cuda/cudart_stub.cc:29] Ignore above cudart dlerror if you do not have a GPU set up on your machine.\n",
      "2023-08-30 09:30:30.247130: E tensorflow/stream_executor/cuda/cuda_blas.cc:2981] Unable to register cuBLAS factory: Attempting to register factory for plugin cuBLAS when one has already been registered\n",
      "2023-08-30 09:30:30.879866: W tensorflow/stream_executor/platform/default/dso_loader.cc:64] Could not load dynamic library 'libnvinfer.so.7'; dlerror: libnvinfer.so.7: cannot open shared object file: No such file or directory\n",
      "2023-08-30 09:30:30.879979: W tensorflow/stream_executor/platform/default/dso_loader.cc:64] Could not load dynamic library 'libnvinfer_plugin.so.7'; dlerror: libnvinfer_plugin.so.7: cannot open shared object file: No such file or directory\n",
      "2023-08-30 09:30:30.879986: W tensorflow/compiler/tf2tensorrt/utils/py_utils.cc:38] TF-TRT Warning: Cannot dlopen some TensorRT libraries. If you would like to use Nvidia GPU with TensorRT, please make sure the missing libraries mentioned above are installed properly.\n"
     ]
    }
   ],
   "source": [
    "import pandas as pd\n",
    "import numpy as np\n",
    "from sklearn.ensemble import RandomForestClassifier\n",
    "from sklearn.model_selection import train_test_split\n",
    "\n",
    "import seaborn as sns\n",
    "\n",
    "from tensorflow import keras\n",
    "from keras import Model, Sequential, layers, regularizers, optimizers, metrics\n",
    "from keras.callbacks import EarlyStopping\n",
    "\n",
    "from Preprocessing.preprocessor_encoder import *\n"
   ]
  },
  {
   "cell_type": "markdown",
   "metadata": {},
   "source": [
    "####\n",
    "Model types\n",
    "\n",
    "-rf\n",
    "-sequential densew\n",
    "-classification \n",
    "\n",
    "activation\n",
    "-ReLu \n",
    "-Softmax\n"
   ]
  },
  {
   "cell_type": "code",
   "execution_count": 2,
   "metadata": {},
   "outputs": [
    {
     "data": {
      "text/html": [
       "<div>\n",
       "<style scoped>\n",
       "    .dataframe tbody tr th:only-of-type {\n",
       "        vertical-align: middle;\n",
       "    }\n",
       "\n",
       "    .dataframe tbody tr th {\n",
       "        vertical-align: top;\n",
       "    }\n",
       "\n",
       "    .dataframe thead th {\n",
       "        text-align: right;\n",
       "    }\n",
       "</style>\n",
       "<table border=\"1\" class=\"dataframe\">\n",
       "  <thead>\n",
       "    <tr style=\"text-align: right;\">\n",
       "      <th></th>\n",
       "      <th>id</th>\n",
       "      <th>f_id</th>\n",
       "      <th>f_ko</th>\n",
       "      <th>f_track</th>\n",
       "      <th>f_going</th>\n",
       "      <th>f_racetype</th>\n",
       "      <th>f_horse</th>\n",
       "      <th>f_jockey</th>\n",
       "      <th>f_trainer</th>\n",
       "      <th>f_distance</th>\n",
       "      <th>...</th>\n",
       "      <th>f_pm_05m</th>\n",
       "      <th>f_pm_03m</th>\n",
       "      <th>f_pm_02m</th>\n",
       "      <th>f_pm_01m</th>\n",
       "      <th>f_bsp_p_back</th>\n",
       "      <th>f_bsp_p_lay</th>\n",
       "      <th>f_pm_01m_p_back</th>\n",
       "      <th>f_pm_01m_p_lay</th>\n",
       "      <th>f_pm_15m_p_back</th>\n",
       "      <th>f_pm_15m_p_lay</th>\n",
       "    </tr>\n",
       "  </thead>\n",
       "  <tbody>\n",
       "    <tr>\n",
       "      <th>0</th>\n",
       "      <td>16916847000316</td>\n",
       "      <td>16916847000002</td>\n",
       "      <td>2023-08-10 17:25:00</td>\n",
       "      <td>YARMOUTH</td>\n",
       "      <td>GD</td>\n",
       "      <td>Other Handicap</td>\n",
       "      <td>Porfin</td>\n",
       "      <td>Molly Presland</td>\n",
       "      <td>Phil McEntee</td>\n",
       "      <td>7.0</td>\n",
       "      <td>...</td>\n",
       "      <td>9.00</td>\n",
       "      <td>10.00</td>\n",
       "      <td>9.80</td>\n",
       "      <td>7.60</td>\n",
       "      <td>-1.00</td>\n",
       "      <td>0.95</td>\n",
       "      <td>-1.00</td>\n",
       "      <td>0.95</td>\n",
       "      <td>-1.00</td>\n",
       "      <td>0.95</td>\n",
       "    </tr>\n",
       "    <tr>\n",
       "      <th>1</th>\n",
       "      <td>16916953800243</td>\n",
       "      <td>16916953800013</td>\n",
       "      <td>2023-08-10 20:23:00</td>\n",
       "      <td>SALISBURY</td>\n",
       "      <td>GD</td>\n",
       "      <td>Other Handicap</td>\n",
       "      <td>Manxman</td>\n",
       "      <td>Robert Havlin</td>\n",
       "      <td>Simon &amp; Ed Crisford</td>\n",
       "      <td>14.0</td>\n",
       "      <td>...</td>\n",
       "      <td>2.02</td>\n",
       "      <td>1.96</td>\n",
       "      <td>2.04</td>\n",
       "      <td>2.00</td>\n",
       "      <td>0.96</td>\n",
       "      <td>-1.01</td>\n",
       "      <td>0.95</td>\n",
       "      <td>-1.02</td>\n",
       "      <td>1.06</td>\n",
       "      <td>-1.14</td>\n",
       "    </tr>\n",
       "    <tr>\n",
       "      <th>2</th>\n",
       "      <td>16916829000067</td>\n",
       "      <td>16916829000014</td>\n",
       "      <td>2023-08-10 16:55:00</td>\n",
       "      <td>YARMOUTH</td>\n",
       "      <td>GD</td>\n",
       "      <td>Other Handicap</td>\n",
       "      <td>Bryce</td>\n",
       "      <td>Faye McManoman</td>\n",
       "      <td>Nigel Tinkler</td>\n",
       "      <td>6.0</td>\n",
       "      <td>...</td>\n",
       "      <td>4.60</td>\n",
       "      <td>4.70</td>\n",
       "      <td>4.40</td>\n",
       "      <td>3.35</td>\n",
       "      <td>-1.00</td>\n",
       "      <td>0.95</td>\n",
       "      <td>-1.00</td>\n",
       "      <td>0.95</td>\n",
       "      <td>-1.00</td>\n",
       "      <td>0.95</td>\n",
       "    </tr>\n",
       "  </tbody>\n",
       "</table>\n",
       "<p>3 rows × 36 columns</p>\n",
       "</div>"
      ],
      "text/plain": [
       "               id            f_id                 f_ko    f_track f_going  \\\n",
       "0  16916847000316  16916847000002  2023-08-10 17:25:00   YARMOUTH      GD   \n",
       "1  16916953800243  16916953800013  2023-08-10 20:23:00  SALISBURY      GD   \n",
       "2  16916829000067  16916829000014  2023-08-10 16:55:00   YARMOUTH      GD   \n",
       "\n",
       "       f_racetype  f_horse        f_jockey            f_trainer  f_distance  \\\n",
       "0  Other Handicap   Porfin  Molly Presland         Phil McEntee         7.0   \n",
       "1  Other Handicap  Manxman   Robert Havlin  Simon & Ed Crisford        14.0   \n",
       "2  Other Handicap    Bryce  Faye McManoman        Nigel Tinkler         6.0   \n",
       "\n",
       "   ...  f_pm_05m  f_pm_03m  f_pm_02m  f_pm_01m  f_bsp_p_back  f_bsp_p_lay  \\\n",
       "0  ...      9.00     10.00      9.80      7.60         -1.00         0.95   \n",
       "1  ...      2.02      1.96      2.04      2.00          0.96        -1.01   \n",
       "2  ...      4.60      4.70      4.40      3.35         -1.00         0.95   \n",
       "\n",
       "   f_pm_01m_p_back  f_pm_01m_p_lay  f_pm_15m_p_back  f_pm_15m_p_lay  \n",
       "0            -1.00            0.95            -1.00            0.95  \n",
       "1             0.95           -1.02             1.06           -1.14  \n",
       "2            -1.00            0.95            -1.00            0.95  \n",
       "\n",
       "[3 rows x 36 columns]"
      ]
     },
     "execution_count": 2,
     "metadata": {},
     "output_type": "execute_result"
    }
   ],
   "source": [
    "df = pd.read_csv(\"../raw_data/horse_racing_raw.csv\")\n",
    "df.head(3)"
   ]
  },
  {
   "cell_type": "code",
   "execution_count": 3,
   "metadata": {},
   "outputs": [
    {
     "name": "stderr",
     "output_type": "stream",
     "text": [
      "/home/conno/code/lucasglanville/and_theyre_off_backend/Preprocessing/preprocessor_encoder.py:14: SettingWithCopyWarning: \n",
      "A value is trying to be set on a copy of a slice from a DataFrame.\n",
      "Try using .loc[row_indexer,col_indexer] = value instead\n",
      "\n",
      "See the caveats in the documentation: https://pandas.pydata.org/pandas-docs/stable/user_guide/indexing.html#returning-a-view-versus-a-copy\n",
      "  X['pred_isp'] = X['pred_isp'].apply(odds_to_prob)\n",
      "/home/conno/code/lucasglanville/and_theyre_off_backend/Preprocessing/preprocessor_encoder.py:15: SettingWithCopyWarning: \n",
      "A value is trying to be set on a copy of a slice from a DataFrame.\n",
      "Try using .loc[row_indexer,col_indexer] = value instead\n",
      "\n",
      "See the caveats in the documentation: https://pandas.pydata.org/pandas-docs/stable/user_guide/indexing.html#returning-a-view-versus-a-copy\n",
      "  X['f_pm_01m'] = X['f_pm_01m'].apply(odds_to_prob)\n",
      "/home/conno/code/lucasglanville/and_theyre_off_backend/Preprocessing/preprocessor_encoder.py:24: SettingWithCopyWarning: \n",
      "A value is trying to be set on a copy of a slice from a DataFrame.\n",
      "Try using .loc[row_indexer,col_indexer] = value instead\n",
      "\n",
      "See the caveats in the documentation: https://pandas.pydata.org/pandas-docs/stable/user_guide/indexing.html#returning-a-view-versus-a-copy\n",
      "  X['f_place'] = X['f_place'].apply(winner)\n",
      "/home/conno/code/lucasglanville/and_theyre_off_backend/Preprocessing/preprocessor_encoder.py:28: SettingWithCopyWarning: \n",
      "A value is trying to be set on a copy of a slice from a DataFrame.\n",
      "Try using .loc[row_indexer,col_indexer] = value instead\n",
      "\n",
      "See the caveats in the documentation: https://pandas.pydata.org/pandas-docs/stable/user_guide/indexing.html#returning-a-view-versus-a-copy\n",
      "  X['f_ko'] = X['f_ko'].astype('datetime64[ns]')\n",
      "/home/conno/code/lucasglanville/and_theyre_off_backend/Preprocessing/preprocessor_encoder.py:46: SettingWithCopyWarning: \n",
      "A value is trying to be set on a copy of a slice from a DataFrame.\n",
      "Try using .loc[row_indexer,col_indexer] = value instead\n",
      "\n",
      "See the caveats in the documentation: https://pandas.pydata.org/pandas-docs/stable/user_guide/indexing.html#returning-a-view-versus-a-copy\n",
      "  X['f_going'] = X['f_going'].apply(f_going_coder)\n",
      "/home/conno/code/lucasglanville/and_theyre_off_backend/Preprocessing/preprocessor_encoder.py:50: SettingWithCopyWarning: \n",
      "A value is trying to be set on a copy of a slice from a DataFrame\n",
      "\n",
      "See the caveats in the documentation: https://pandas.pydata.org/pandas-docs/stable/user_guide/indexing.html#returning-a-view-versus-a-copy\n",
      "  X.dropna(axis = 0,\n"
     ]
    },
    {
     "name": "stdout",
     "output_type": "stream",
     "text": [
      "✅ ODDS CONVERTED TO PROBABILITY (1/ODDS)\n",
      "✅ WINNERS CODED AS '1'\n",
      "✅ 'f_ko' CONVERTED TO DATETIME\n",
      "✅ TRACK CONDITIONS ORDINALLY ENCODED\n",
      "✅ DROPPED ROWS WITH NULL VALUES\n",
      "✅ NUMERIC FEATURES MINMAX-SCALED\n",
      "✅ CAT. FEATURES OH-ENCODED (Track, Jockey, Trainer, Racetype)\n",
      "✅ COLUMN TRANSFORMER ASSEMBLED\n",
      "⏳ FIT_TRANSFORMING FEATURES...\n",
      "✅ X_PROCESSED WITH SHAPE: (49977, 2942)\n"
     ]
    }
   ],
   "source": [
    "df_clean = preprocess_features(df.head(50000))\n"
   ]
  },
  {
   "cell_type": "code",
   "execution_count": 9,
   "metadata": {},
   "outputs": [
    {
     "ename": "AttributeError",
     "evalue": "'DataFrame' object has no attribute 'f_ko'",
     "output_type": "error",
     "traceback": [
      "\u001b[0;31m---------------------------------------------------------------------------\u001b[0m",
      "\u001b[0;31mAttributeError\u001b[0m                            Traceback (most recent call last)",
      "\u001b[0;32m/tmp/ipykernel_5808/3605225042.py\u001b[0m in \u001b[0;36m?\u001b[0;34m()\u001b[0m\n\u001b[0;32m----> 1\u001b[0;31m \u001b[0mdf_clean\u001b[0m\u001b[0;34m.\u001b[0m\u001b[0mf_ko\u001b[0m\u001b[0;34m\u001b[0m\u001b[0;34m\u001b[0m\u001b[0m\n\u001b[0m",
      "\u001b[0;32m~/.pyenv/versions/3.10.6/envs/and_theyre_off_backend/lib/python3.10/site-packages/pandas/core/generic.py\u001b[0m in \u001b[0;36m?\u001b[0;34m(self, name)\u001b[0m\n\u001b[1;32m   5898\u001b[0m             \u001b[0;32mand\u001b[0m \u001b[0mname\u001b[0m \u001b[0;32mnot\u001b[0m \u001b[0;32min\u001b[0m \u001b[0mself\u001b[0m\u001b[0;34m.\u001b[0m\u001b[0m_accessors\u001b[0m\u001b[0;34m\u001b[0m\u001b[0;34m\u001b[0m\u001b[0m\n\u001b[1;32m   5899\u001b[0m             \u001b[0;32mand\u001b[0m \u001b[0mself\u001b[0m\u001b[0;34m.\u001b[0m\u001b[0m_info_axis\u001b[0m\u001b[0;34m.\u001b[0m\u001b[0m_can_hold_identifiers_and_holds_name\u001b[0m\u001b[0;34m(\u001b[0m\u001b[0mname\u001b[0m\u001b[0;34m)\u001b[0m\u001b[0;34m\u001b[0m\u001b[0;34m\u001b[0m\u001b[0m\n\u001b[1;32m   5900\u001b[0m         ):\n\u001b[1;32m   5901\u001b[0m             \u001b[0;32mreturn\u001b[0m \u001b[0mself\u001b[0m\u001b[0;34m[\u001b[0m\u001b[0mname\u001b[0m\u001b[0;34m]\u001b[0m\u001b[0;34m\u001b[0m\u001b[0;34m\u001b[0m\u001b[0m\n\u001b[0;32m-> 5902\u001b[0;31m         \u001b[0;32mreturn\u001b[0m \u001b[0mobject\u001b[0m\u001b[0;34m.\u001b[0m\u001b[0m__getattribute__\u001b[0m\u001b[0;34m(\u001b[0m\u001b[0mself\u001b[0m\u001b[0;34m,\u001b[0m \u001b[0mname\u001b[0m\u001b[0;34m)\u001b[0m\u001b[0;34m\u001b[0m\u001b[0;34m\u001b[0m\u001b[0m\n\u001b[0m",
      "\u001b[0;31mAttributeError\u001b[0m: 'DataFrame' object has no attribute 'f_ko'"
     ]
    }
   ],
   "source": [
    "df_clean = df_clean.select_dtypes(exclude=['object'])"
   ]
  },
  {
   "cell_type": "code",
   "execution_count": null,
   "metadata": {},
   "outputs": [],
   "source": [
    "val_start_date = '2022-02-20 18:45:00'\n",
    "val_end_date = '2022-08-20 18:45:00'\n",
    "\n",
    "train = df_clean[df_clean['f_ko'] <= val_start_date]\n",
    "val = df_clean[(df_clean['f_ko'] > val_start_date) & (df_clean['f_ko'] <= val_end_date)]\n",
    "test = df_clean[df_clean['f_ko'] > val_end_date]"
   ]
  },
  {
   "cell_type": "code",
   "execution_count": null,
   "metadata": {},
   "outputs": [],
   "source": [
    "X_train = train.drop(['f_score', 'f_ko'])\n",
    "y_train = train.f_score\n",
    "\n",
    "X_val = val.drop(['f_score', 'f_ko'])\n",
    "y_val = val.f_score\n",
    "\n",
    "X_test = test.drop(['f_score', 'f_ko'])\n",
    "y_test = test.f_score"
   ]
  },
  {
   "cell_type": "code",
   "execution_count": null,
   "metadata": {},
   "outputs": [],
   "source": [
    "X_train.info()"
   ]
  },
  {
   "cell_type": "code",
   "execution_count": null,
   "metadata": {},
   "outputs": [],
   "source": [
    "def initialize_model():\n",
    "\n",
    "  model = Sequential()\n",
    "\n",
    "  model.add(layers.Dense(100, input_dim=X_train.shape[-1], activation='relu'))\n",
    "  model.add(layers.Dense(60, activation='relu'))\n",
    "  model.add(layers.Dropout(0.2))\n",
    "  model.add(layers.Dense(25, activation='relu'))\n",
    "  model.add(layers.Dense(1, activation='sigmoid'))\n",
    "\n",
    "  ###Compile###\n",
    "  model.compile(loss='binary_crossentropy',\n",
    "              optimizer='adam',\n",
    "              metrics=['accuracy'])\n",
    "  return model\n",
    "\n",
    "\n",
    "model = initialize_model()\n",
    "model.summary()"
   ]
  },
  {
   "cell_type": "code",
   "execution_count": null,
   "metadata": {},
   "outputs": [],
   "source": [
    "es = EarlyStopping(\n",
    "        patience=10,\n",
    "        restore_best_weights=True,\n",
    "        verbose=1\n",
    "    )\n",
    "\n",
    "history = model.fit(\n",
    "        X_train,\n",
    "        y_train,\n",
    "        epochs=500,\n",
    "        batch_size=32,\n",
    "        validation_data=(X_val,y_val),\n",
    "        callbacks=[es],\n",
    "        verbose=1\n",
    "    )"
   ]
  },
  {
   "cell_type": "code",
   "execution_count": null,
   "metadata": {},
   "outputs": [],
   "source": []
  },
  {
   "cell_type": "code",
   "execution_count": null,
   "metadata": {},
   "outputs": [],
   "source": [
    "from sklearn.metrics import classification_report\n",
    "\n",
    "y_pred = model.predict(X_test, batch_size=64, verbose=1)\n",
    "y_pred_bool = np.argmax(y_pred, axis=1)\n",
    "print(y_pred_bool)\n",
    "\n",
    "print(classification_report(y_test, y_pred_bool))\n"
   ]
  },
  {
   "cell_type": "code",
   "execution_count": null,
   "metadata": {},
   "outputs": [],
   "source": [
    "pd.set_option('display.float_format', lambda x: '%.3f' % x)\n"
   ]
  },
  {
   "cell_type": "code",
   "execution_count": null,
   "metadata": {},
   "outputs": [],
   "source": [
    "len(y_pred[:,0])"
   ]
  },
  {
   "cell_type": "code",
   "execution_count": null,
   "metadata": {},
   "outputs": [],
   "source": [
    "X_test[-2:]"
   ]
  },
  {
   "cell_type": "code",
   "execution_count": null,
   "metadata": {},
   "outputs": [],
   "source": [
    "pd.DataFrame([y_test.reset_index(drop=True), y_pred[:,0]])"
   ]
  },
  {
   "cell_type": "code",
   "execution_count": null,
   "metadata": {},
   "outputs": [],
   "source": [
    "plt.scatter(pd.Series(y_pred[:,0]).value_counts(),pd.Series(y_pred[:,0]).value_counts().index )"
   ]
  },
  {
   "cell_type": "code",
   "execution_count": null,
   "metadata": {},
   "outputs": [],
   "source": [
    "y_pred_bool = np.argmax(y_pred, axis=1)\n",
    "y_pred_bool"
   ]
  }
 ],
 "metadata": {
  "kernelspec": {
   "display_name": "and_theyre_off_backend",
   "language": "python",
   "name": "python3"
  },
  "language_info": {
   "codemirror_mode": {
    "name": "ipython",
    "version": 3
   },
   "file_extension": ".py",
   "mimetype": "text/x-python",
   "name": "python",
   "nbconvert_exporter": "python",
   "pygments_lexer": "ipython3",
   "version": "3.10.6"
  },
  "orig_nbformat": 4
 },
 "nbformat": 4,
 "nbformat_minor": 2
}
