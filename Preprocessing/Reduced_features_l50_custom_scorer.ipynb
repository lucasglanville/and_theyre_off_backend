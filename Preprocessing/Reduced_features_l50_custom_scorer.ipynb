{
 "cells": [
  {
   "cell_type": "code",
   "execution_count": 1,
   "id": "33515bc9",
   "metadata": {},
   "outputs": [
    {
     "name": "stderr",
     "output_type": "stream",
     "text": [
      "/var/folders/w6/wdkqbmf17b90n_r35p0cb7x00000gn/T/ipykernel_25042/340431169.py:5: DtypeWarning: Columns (19) have mixed types. Specify dtype option on import or set low_memory=False.\n",
      "  data  = pd.read_csv(\"../raw_data/raw_data_v2.2.csv\")\n"
     ]
    },
    {
     "name": "stdout",
     "output_type": "stream",
     "text": [
      "first 221 rows removed. New shape = (118354, 116)\n"
     ]
    },
    {
     "name": "stderr",
     "output_type": "stream",
     "text": [
      "/Users/joshstone/code/lucasglanville/and_theyre_off_backend/Preprocessing/data_clean.py:26: SettingWithCopyWarning: \n",
      "A value is trying to be set on a copy of a slice from a DataFrame.\n",
      "Try using .loc[row_indexer,col_indexer] = value instead\n",
      "\n",
      "See the caveats in the documentation: https://pandas.pydata.org/pandas-docs/stable/user_guide/indexing.html#returning-a-view-versus-a-copy\n",
      "  data[columns_to_impute] = data[columns_to_impute].apply(impute_row, axis=1)\n"
     ]
    },
    {
     "name": "stdout",
     "output_type": "stream",
     "text": [
      "Cleaned up missing odds. New shape = (118093, 116)\n",
      "Added Josh features. New shape = (118093, 123)\n",
      "Added Oli features 2/4. New shape = (118093, 125)\n",
      "Added Oli features 4/4. New shape = (118093, 127)\n",
      "number of columns:  128\n",
      "✅ DROPPED IRRELEVANT COLUMNS\n",
      "✅ DROPPED ROWS WITH NULL VALUES\n",
      "✅ WHITESPACE STRIPPED FROM 'f_track'\n",
      "✅ WINNERS CODED AS '1', REST '0'\n",
      "✅ 'f_ko' CONVERTED TO DATETIME\n",
      "✅ TRACK CONDITIONS ORDINALLY ENCODED\n",
      "✅ NUMERIC FEATURES MINMAX-SCALED\n",
      "✅ IMPUTED 'no_headgear' for NULLS IN 'f_headgear'\n",
      "✅ IMPUTED MEAN FOR NULLS IN 'f_dob' & 'f_prb_avg'\n",
      "✅ IMPUTED '0' FOR NULLS IN 68 x FEATURES\n",
      "✅ CAT. FEATURES OH-ENCODED (Track, Headgear, Country)\n",
      "number of columns:  88\n",
      "✅ COLUMN TRANSFORMER ASSEMBLED\n",
      "⏳ FIT_TRANSFORMING THE PREPROCESSING PIPE...\n",
      "number of columns:  164\n",
      "✅ DATA PROCESSED WITH SHAPE: (117468, 164)\n"
     ]
    }
   ],
   "source": [
    "from data_clean import remove_221_rows, dropping_no_betting_data, josh_features, fill_f_pm_01m, class_or_rating_average, oli_features\n",
    "from v2_preprocessor import preprocess_features_v2\n",
    "import pandas as pd\n",
    "\n",
    "data  = pd.read_csv(\"../raw_data/raw_data_v2.2.csv\")\n",
    "\n",
    "data_cleaned = remove_221_rows(data)\n",
    "data_cleaned = dropping_no_betting_data(data_cleaned)\n",
    "data_cleaned = josh_features(data_cleaned)\n",
    "data_cleaned = class_or_rating_average(data_cleaned)\n",
    "data_cleaned = oli_features(data_cleaned)\n",
    "data_cleaned = fill_f_pm_01m(data_cleaned)\n",
    "\n",
    "\n",
    "\n",
    "preprocessed_data = preprocess_features_v2(data_cleaned)\n",
    "\n",
    "preprocessed_data.to_csv(\"../raw_data/data_cleaned_and_preprocessed.csv\", index=False)\n",
    "\n",
    "data = pd.read_csv(\"../raw_data/data_cleaned_and_preprocessed.csv\")\n",
    "data.sort_values(by='f_ko')\n",
    "data = data.reset_index(drop=True)"
   ]
  },
  {
   "cell_type": "code",
   "execution_count": 2,
   "id": "533157a4",
   "metadata": {},
   "outputs": [],
   "source": [
    "data = data[(data['f_pm_01m'] <= 50)]"
   ]
  },
  {
   "cell_type": "code",
   "execution_count": 3,
   "id": "b7e4dc30",
   "metadata": {},
   "outputs": [],
   "source": [
    "data = data.reset_index(drop=True)"
   ]
  },
  {
   "cell_type": "code",
   "execution_count": 4,
   "id": "1d7caa17",
   "metadata": {},
   "outputs": [
    {
     "data": {
      "text/plain": [
       "(102875, 164)"
      ]
     },
     "execution_count": 4,
     "metadata": {},
     "output_type": "execute_result"
    }
   ],
   "source": [
    "data.shape"
   ]
  },
  {
   "cell_type": "code",
   "execution_count": 5,
   "id": "fde0fa61",
   "metadata": {},
   "outputs": [],
   "source": [
    "backtest = data[['f_ko','f_id', 'id','f_horse','f_pm_01m', 'linear_target', 'f_place']]\n",
    "\n",
    "\n",
    "\n",
    "\n",
    "data['pred_isp_prob'] = ['pred_isp']\n",
    "data['linear_target_prob'] = 1 / data['linear_target']"
   ]
  },
  {
   "cell_type": "code",
   "execution_count": 6,
   "id": "3783439b",
   "metadata": {},
   "outputs": [
    {
     "data": {
      "text/html": [
       "<div>\n",
       "<style scoped>\n",
       "    .dataframe tbody tr th:only-of-type {\n",
       "        vertical-align: middle;\n",
       "    }\n",
       "\n",
       "    .dataframe tbody tr th {\n",
       "        vertical-align: top;\n",
       "    }\n",
       "\n",
       "    .dataframe thead th {\n",
       "        text-align: right;\n",
       "    }\n",
       "</style>\n",
       "<table border=\"1\" class=\"dataframe\">\n",
       "  <thead>\n",
       "    <tr style=\"text-align: right;\">\n",
       "      <th></th>\n",
       "      <th>f_going</th>\n",
       "      <th>average_or_rating_class</th>\n",
       "      <th>above_below_official_rating_class</th>\n",
       "      <th>PreviousPosition</th>\n",
       "      <th>PredictedRank</th>\n",
       "      <th>f_distance</th>\n",
       "      <th>f_class</th>\n",
       "      <th>f_age</th>\n",
       "      <th>f_pace</th>\n",
       "      <th>f_weight</th>\n",
       "      <th>...</th>\n",
       "      <th>f_id</th>\n",
       "      <th>f_ko</th>\n",
       "      <th>f_horse</th>\n",
       "      <th>pred_isp</th>\n",
       "      <th>f_place</th>\n",
       "      <th>f_pm_01m</th>\n",
       "      <th>f_pm_01m_p_back</th>\n",
       "      <th>linear_target</th>\n",
       "      <th>pred_isp_prob</th>\n",
       "      <th>linear_target_prob</th>\n",
       "    </tr>\n",
       "  </thead>\n",
       "  <tbody>\n",
       "    <tr>\n",
       "      <th>0</th>\n",
       "      <td>0.4</td>\n",
       "      <td>0.836105</td>\n",
       "      <td>0.643877</td>\n",
       "      <td>0.0</td>\n",
       "      <td>0.000000</td>\n",
       "      <td>0.0</td>\n",
       "      <td>0.166667</td>\n",
       "      <td>0.25</td>\n",
       "      <td>0.7</td>\n",
       "      <td>0.21875</td>\n",
       "      <td>...</td>\n",
       "      <td>16149939000030</td>\n",
       "      <td>2021-03-06 01:25:00</td>\n",
       "      <td>Tone The Barone</td>\n",
       "      <td>2.5</td>\n",
       "      <td>0</td>\n",
       "      <td>2.28</td>\n",
       "      <td>-1.0</td>\n",
       "      <td>-1.0</td>\n",
       "      <td>0.400000</td>\n",
       "      <td>-1.0</td>\n",
       "    </tr>\n",
       "    <tr>\n",
       "      <th>1</th>\n",
       "      <td>0.4</td>\n",
       "      <td>0.836105</td>\n",
       "      <td>0.691321</td>\n",
       "      <td>0.0</td>\n",
       "      <td>0.032258</td>\n",
       "      <td>0.0</td>\n",
       "      <td>0.166667</td>\n",
       "      <td>0.50</td>\n",
       "      <td>0.5</td>\n",
       "      <td>0.34375</td>\n",
       "      <td>...</td>\n",
       "      <td>16149939000030</td>\n",
       "      <td>2021-03-06 01:25:00</td>\n",
       "      <td>Blue De Vega</td>\n",
       "      <td>4.5</td>\n",
       "      <td>0</td>\n",
       "      <td>10.00</td>\n",
       "      <td>-1.0</td>\n",
       "      <td>-1.0</td>\n",
       "      <td>0.222222</td>\n",
       "      <td>-1.0</td>\n",
       "    </tr>\n",
       "  </tbody>\n",
       "</table>\n",
       "<p>2 rows × 166 columns</p>\n",
       "</div>"
      ],
      "text/plain": [
       "   f_going  average_or_rating_class  above_below_official_rating_class  \\\n",
       "0      0.4                 0.836105                           0.643877   \n",
       "1      0.4                 0.836105                           0.691321   \n",
       "\n",
       "   PreviousPosition  PredictedRank  f_distance   f_class  f_age  f_pace  \\\n",
       "0               0.0       0.000000         0.0  0.166667   0.25     0.7   \n",
       "1               0.0       0.032258         0.0  0.166667   0.50     0.5   \n",
       "\n",
       "   f_weight  ...            f_id                 f_ko          f_horse  \\\n",
       "0   0.21875  ...  16149939000030  2021-03-06 01:25:00  Tone The Barone   \n",
       "1   0.34375  ...  16149939000030  2021-03-06 01:25:00     Blue De Vega   \n",
       "\n",
       "   pred_isp  f_place  f_pm_01m  f_pm_01m_p_back  linear_target  pred_isp_prob  \\\n",
       "0       2.5        0      2.28             -1.0           -1.0       0.400000   \n",
       "1       4.5        0     10.00             -1.0           -1.0       0.222222   \n",
       "\n",
       "   linear_target_prob  \n",
       "0                -1.0  \n",
       "1                -1.0  \n",
       "\n",
       "[2 rows x 166 columns]"
      ]
     },
     "execution_count": 6,
     "metadata": {},
     "output_type": "execute_result"
    }
   ],
   "source": [
    "data.head(2)"
   ]
  },
  {
   "cell_type": "code",
   "execution_count": 7,
   "id": "ae2c86c3",
   "metadata": {},
   "outputs": [
    {
     "name": "stdout",
     "output_type": "stream",
     "text": [
      "(102875, 166)\n",
      "(102875, 7)\n",
      "(102875, 2)\n",
      "(102875, 7)\n",
      "   stall_position  iv_trainer_l16r  iv_jockey_l16r  ae_trainer_l16r  \\\n",
      "0        0.148019              0.0             0.5              0.0   \n",
      "1        0.480479              0.0             0.0              0.0   \n",
      "\n",
      "   ae_jockey_l16r  pred_isp_prob  f_runners  \n",
      "0        0.014276       0.400000    0.15625  \n",
      "1        0.000000       0.222222    0.15625  \n",
      "   f_place  pred_isp\n",
      "0        0       2.5\n",
      "1        0       4.5\n"
     ]
    }
   ],
   "source": [
    "\n",
    "X = data[['stall_position', \n",
    "          'iv_trainer_l16r', 'iv_jockey_l16r',\n",
    "          'ae_trainer_l16r' ,'ae_jockey_l16r', 'pred_isp_prob', 'f_runners']]\n",
    "\n",
    "# X = data[['f_runners','or_rating_vs_avg_race', 'stall_position', \n",
    "#           'iv_horse_at', 'iv_trainer_l200r', 'iv_trainer_l50r', 'iv_trainer_l16r', 'iv_trainer_at',\n",
    "#           'iv_jockey_l200r', 'iv_jockey_l50r', 'iv_jockey_l16r', 'iv_jockey_at',\n",
    "#           'ae_horse_l10r', 'ae_horse_l5r' , 'ae_horse_l2r' ,'ae_horse_at',\n",
    "#           'ae_trainer_l200r' , 'ae_trainer_l50r' , 'ae_trainer_l16r' , 'ae_trainer_at',\n",
    "#           'ae_jockey_l200r' , 'ae_jockey_l50r', 'ae_jockey_l16r' , 'ae_jockey_at' , 'pred_isp']]\n",
    "\n",
    "#'f_dob', 'f_prb_avg',\n",
    "\n",
    "\n",
    "\n",
    "\n",
    "\n",
    "y = data[[\"f_place\",\"pred_isp\"]] #OR 'linear_target'\n",
    "\n",
    "print(data.shape)\n",
    "print(X.shape)\n",
    "print(y.shape)\n",
    "print(backtest.shape)\n",
    "\n",
    "#Train = Year 1\n",
    "#Val = Year 2\n",
    "#Test = Year 3 (6 months)\n",
    "\n",
    "print(X.head(2))\n",
    "print(y.head(2))"
   ]
  },
  {
   "cell_type": "code",
   "execution_count": 8,
   "id": "1facbc1e",
   "metadata": {},
   "outputs": [],
   "source": [
    "X_train = X.iloc[:40000]\n",
    "X_val = X.iloc[40000:70000]\n",
    "X_test = X.iloc[70000:]\n",
    "y_train = y.iloc[:40000]\n",
    "y_val = y.iloc[40000:70000]\n",
    "y_test = y.iloc[70000:]\n",
    "backtest_train = backtest.iloc[:40000]\n",
    "backtest_val = backtest.iloc[40000:70000]\n",
    "backtest_test = backtest.iloc[70000:]"
   ]
  },
  {
   "cell_type": "code",
   "execution_count": 9,
   "id": "4d28a945",
   "metadata": {},
   "outputs": [
    {
     "data": {
      "text/plain": [
       "(30000, 7)"
      ]
     },
     "execution_count": 9,
     "metadata": {},
     "output_type": "execute_result"
    }
   ],
   "source": [
    "X_val.shape"
   ]
  },
  {
   "cell_type": "code",
   "execution_count": 10,
   "id": "3c3d693b",
   "metadata": {},
   "outputs": [],
   "source": [
    "#buggy data = 2532754    2021-06-20 03:55:00\n",
    "                #29406    20-06-14 18:45:00"
   ]
  },
  {
   "cell_type": "code",
   "execution_count": 11,
   "id": "b39b0a56",
   "metadata": {},
   "outputs": [
    {
     "data": {
      "text/plain": [
       "(40000, 2)"
      ]
     },
     "execution_count": 11,
     "metadata": {},
     "output_type": "execute_result"
    }
   ],
   "source": [
    "y_train.shape"
   ]
  },
  {
   "cell_type": "code",
   "execution_count": 12,
   "id": "f5f3a789",
   "metadata": {},
   "outputs": [
    {
     "data": {
      "text/plain": [
       "(32875, 2)"
      ]
     },
     "execution_count": 12,
     "metadata": {},
     "output_type": "execute_result"
    }
   ],
   "source": [
    "y_test.shape"
   ]
  },
  {
   "cell_type": "code",
   "execution_count": 13,
   "id": "fdd4c19d",
   "metadata": {
    "scrolled": true
   },
   "outputs": [
    {
     "data": {
      "text/html": [
       "<div>\n",
       "<style scoped>\n",
       "    .dataframe tbody tr th:only-of-type {\n",
       "        vertical-align: middle;\n",
       "    }\n",
       "\n",
       "    .dataframe tbody tr th {\n",
       "        vertical-align: top;\n",
       "    }\n",
       "\n",
       "    .dataframe thead th {\n",
       "        text-align: right;\n",
       "    }\n",
       "</style>\n",
       "<table border=\"1\" class=\"dataframe\">\n",
       "  <thead>\n",
       "    <tr style=\"text-align: right;\">\n",
       "      <th></th>\n",
       "      <th>f_place</th>\n",
       "      <th>pred_isp</th>\n",
       "    </tr>\n",
       "  </thead>\n",
       "  <tbody>\n",
       "    <tr>\n",
       "      <th>70000</th>\n",
       "      <td>0</td>\n",
       "      <td>13.0</td>\n",
       "    </tr>\n",
       "    <tr>\n",
       "      <th>70001</th>\n",
       "      <td>0</td>\n",
       "      <td>17.0</td>\n",
       "    </tr>\n",
       "    <tr>\n",
       "      <th>70002</th>\n",
       "      <td>0</td>\n",
       "      <td>17.0</td>\n",
       "    </tr>\n",
       "    <tr>\n",
       "      <th>70003</th>\n",
       "      <td>0</td>\n",
       "      <td>21.0</td>\n",
       "    </tr>\n",
       "    <tr>\n",
       "      <th>70004</th>\n",
       "      <td>1</td>\n",
       "      <td>6.0</td>\n",
       "    </tr>\n",
       "  </tbody>\n",
       "</table>\n",
       "</div>"
      ],
      "text/plain": [
       "       f_place  pred_isp\n",
       "70000        0      13.0\n",
       "70001        0      17.0\n",
       "70002        0      17.0\n",
       "70003        0      21.0\n",
       "70004        1       6.0"
      ]
     },
     "execution_count": 13,
     "metadata": {},
     "output_type": "execute_result"
    }
   ],
   "source": [
    "y_test.head()"
   ]
  },
  {
   "cell_type": "code",
   "execution_count": 14,
   "id": "6dca1a71",
   "metadata": {
    "scrolled": true
   },
   "outputs": [
    {
     "data": {
      "text/plain": [
       "(32875, 2)"
      ]
     },
     "execution_count": 14,
     "metadata": {},
     "output_type": "execute_result"
    }
   ],
   "source": [
    "y_test.shape"
   ]
  },
  {
   "cell_type": "code",
   "execution_count": null,
   "id": "73c2b939",
   "metadata": {},
   "outputs": [],
   "source": []
  },
  {
   "cell_type": "code",
   "execution_count": 15,
   "id": "36af1023",
   "metadata": {},
   "outputs": [],
   "source": [
    "# def odds_loss(y_true, y_pred):\n",
    "#     \"\"\"\n",
    "#     The function implements the custom loss function\n",
    "    \n",
    "#     Inputs\n",
    "#     true : a vector of dimension batch_size, 7. A label encoded version of the output and the backp1_a and backp1_b\n",
    "#     pred : a vector of probabilities of dimension batch_size , 5.\n",
    "    \n",
    "#     Returns \n",
    "#     the loss value\n",
    "#     \"\"\"\n",
    "#     win_home_team = y_true[:, 0:1]\n",
    "#     win_home_or_draw = y_true[:, 1:2]\n",
    "#     win_away = y_true[:, 2:3]\n",
    "#     win_away_or_draw = y_true[:, 3:4]\n",
    "#     draw = y_true[:, 4:5]\n",
    "#     no_bet = y_true[:, 5:6]\n",
    "#     odds_a = y_true[:, 6:7]\n",
    "#     odds_b = y_true[:, 7:8]\n",
    "#     gain_loss_vector = K.concatenate([win_home_team * (odds_a - 1) + (1 - win_home_team) * -1,\n",
    "#       win_home_or_draw * (1/(1 -1/odds_b) - 1) + (1 - win_home_or_draw) * -1,\n",
    "#       win_away * (odds_b - 1) + (1 - win_away) * -1,\n",
    "#       win_away_or_draw * (1/(1 -1/odds_a) - 1) + (1 - win_away_or_draw) * -1,\n",
    "#       draw * (1/(1 - 1/odds_a - 1/odds_b) - 1) + (1 - draw) * -1,\n",
    "#       K.zeros_like(odds_a)], axis=1)\n",
    "#     return -1 * K.mean(K.sum(gain_loss_vector * y_pred, axis=1))"
   ]
  },
  {
   "cell_type": "code",
   "execution_count": 16,
   "id": "370118c0",
   "metadata": {},
   "outputs": [],
   "source": [
    "# def get_data():\n",
    "#     data = pd.read_csv('extract-betsentiment-com.csv')\n",
    "#     X = data.values[:, 5:-5]\n",
    "#     y = data.values[:, -1]\n",
    "#     y_full = np.zeros((X.shape[0], 8))\n",
    "#     for i, y_i in enumerate(y):\n",
    "#         if y_i == 1:\n",
    "#             y_full[i, 0] = 1.0\n",
    "#             y_full[i, 1] = 1.0\n",
    "#         if y_i == 2:\n",
    "#             y_full[i, 2] = 1.0\n",
    "#             y_full[i, 3] = 1.0\n",
    "#         if y_i == 3:\n",
    "#             y_full[i, 1] = 1.0\n",
    "#             y_full[i, 3] = 1.0\n",
    "#             y_full[i, 4] = 1.0\n",
    "#         y_full[i, 6] = X[i, 1] # ADD ODDS OF HOME TEAM\n",
    "#         y_full[i, 7] = X[i, 2] # ADD ODDS OF AWAY TEAM\n",
    "#     return X, y_full, y\n",
    "# X, y, outcome = get_data()\n",
    "# # SPLIT THE DATA IN TRAIN AND TEST DATASET.\n",
    "# train_x, test_x, train_y, test_y, = train_test_split(X,  y)"
   ]
  },
  {
   "cell_type": "code",
   "execution_count": 17,
   "id": "8c2cc856",
   "metadata": {},
   "outputs": [],
   "source": [
    "from keras.utils import get_custom_objects\n",
    "import tensorflow as tf\n",
    "from keras import backend as K\n",
    "\n",
    "\n",
    "def custom_loss_function(y_true, y_pred):\n",
    "    y_true = tf.cast(y_true, dtype=tf.float32)  # Convert y_true to float32\n",
    "    y_pred = tf.cast(y_pred, dtype=tf.float32)\n",
    "    \n",
    "    win_horse = y_true[:, 0:1]\n",
    "    win_odds = y_true[:, 1:2]\n",
    "    gain_loss_vector = K.concatenate([win_horse * (win_odds - 1) + (1 - win_horse) * -1,\n",
    "    K.zeros_like(win_odds)], axis=1)\n",
    "    return -0.05 * K.mean(K.sum(gain_loss_vector * y_pred, axis=1))\n",
    "    #return -1 * tf.reduce_mean(tf.reduce_sum(gain_loss_vector * y_pred, axis=1))\n",
    "\n",
    "get_custom_objects().update({\"custom_loss_function\": custom_loss_function})"
   ]
  },
  {
   "cell_type": "code",
   "execution_count": 18,
   "id": "3d580cd9",
   "metadata": {},
   "outputs": [],
   "source": [
    "# convert labels to a one-hot vector\n",
    "# from tensorflow.keras.utils import to_categorical\n",
    "\n",
    "# train_labels = to_categorical(train_labels)\n",
    "# test_labels = to_categorical(test_labels)\n",
    "\n",
    "# define network architecture\n",
    "from tensorflow.keras.models import Sequential\n",
    "from tensorflow.keras.layers import InputLayer\n",
    "from tensorflow.keras.layers import Dense, Dropout\n",
    "from tensorflow.keras.metrics import Precision, Accuracy, Recall, F1Score\n",
    "from tensorflow.keras.losses import Poisson\n",
    "from tensorflow.keras.optimizers import Adam\n",
    "\n",
    "MLP2 = Sequential()\n",
    "MLP2.add(InputLayer(input_shape=(7, ))) # input layer\n",
    "MLP2.add(Dense(32, activation='relu')) # hidden layer 1\n",
    "MLP2.add(Dense(2, activation='softmax')) # output layer\n"
   ]
  },
  {
   "cell_type": "code",
   "execution_count": 19,
   "id": "655d5fc4",
   "metadata": {
    "scrolled": false
   },
   "outputs": [],
   "source": [
    "# from tensorflow.keras.models import Sequential\n",
    "# from tensorflow.keras.layers import InputLayer\n",
    "# from tensorflow.keras.layers import Dense, Dropout\n",
    "# from tensorflow.keras.metrics import Precision, Accuracy, Recall, F1Score\n",
    "# from tensorflow.keras.losses import Poisson\n",
    "# from tensorflow.keras.optimizers import Adam\n",
    "# from tensorflow.keras.layers import Input\n",
    "# from tensorflow.keras.layers import BatchNormalization\n",
    "# from tensorflow.keras import Model\n",
    "# from tensorflow.keras.callbacks import EarlyStopping, ModelCheckpoint\n",
    "\n",
    "# def get_model(input_dim, output_dim, base=1000, multiplier=0.25, p=0.2):\n",
    "#     inputs = Input(shape=(input_dim,))\n",
    "#     l = BatchNormalization()(inputs)\n",
    "#     l = Dropout(p)(l)\n",
    "#     n = base\n",
    "#     l = Dense(n, activation='relu')(l)\n",
    "#     l = BatchNormalization()(l)\n",
    "#     l = Dropout(p)(l)\n",
    "#     n = int(n * multiplier)\n",
    "#     l = Dense(n, activation='relu')(l)\n",
    "#     l = BatchNormalization()(l)\n",
    "#     l = Dropout(p)(l)\n",
    "#     n = int(n * multiplier)\n",
    "#     l = Dense(n, activation='relu')(l)\n",
    "#     outputs = Dense(output_dim, activation='softmax')(l)\n",
    "#     model = Model(inputs=inputs, outputs=outputs)\n",
    "#     model.compile(optimizer='Nadam', loss=custom_loss_function)\n",
    "#     return model\n",
    "# model = get_model(7, 2, 1000, 0.5, 0.2)\n",
    "# history = model.fit(X_train, y_train, validation_data=(X_val, y_val),\n",
    "#           epochs=200, batch_size=5, callbacks=[EarlyStopping(patience=2),ModelCheckpoint('odds_loss.hdf5',save_best_only=True)])"
   ]
  },
  {
   "cell_type": "code",
   "execution_count": 20,
   "id": "36e81d85",
   "metadata": {},
   "outputs": [
    {
     "name": "stderr",
     "output_type": "stream",
     "text": [
      "WARNING:absl:At this time, the v2.11+ optimizer `tf.keras.optimizers.Adam` runs slowly on M1/M2 Macs, please use the legacy Keras optimizer instead, located at `tf.keras.optimizers.legacy.Adam`.\n",
      "WARNING:absl:There is a known slowdown when using v2.11+ Keras optimizers on M1/M2 Macs. Falling back to the legacy Keras optimizer, i.e., `tf.keras.optimizers.legacy.Adam`.\n"
     ]
    }
   ],
   "source": [
    "# optimization\n",
    "MLP2.compile(loss='custom_loss_function',\n",
    "            optimizer=Adam(learning_rate = 0.0005))"
   ]
  },
  {
   "cell_type": "code",
   "execution_count": 21,
   "id": "9b45eab9",
   "metadata": {},
   "outputs": [
    {
     "name": "stdout",
     "output_type": "stream",
     "text": [
      "Epoch 1/200\n",
      "1250/1250 [==============================] - 1s 407us/step - loss: -0.1432 - val_loss: -0.0017\n",
      "Epoch 2/200\n",
      "1250/1250 [==============================] - 0s 369us/step - loss: -0.2007 - val_loss: -0.0021\n",
      "Epoch 3/200\n",
      "1250/1250 [==============================] - 0s 369us/step - loss: -0.2306 - val_loss: -0.0021\n",
      "Epoch 4/200\n",
      "1250/1250 [==============================] - 0s 363us/step - loss: -0.2402 - val_loss: -0.0021\n",
      "Epoch 5/200\n",
      "1250/1250 [==============================] - 0s 363us/step - loss: -0.2433 - val_loss: -0.0021\n",
      "Epoch 6/200\n",
      "1250/1250 [==============================] - 0s 362us/step - loss: -0.2445 - val_loss: -0.0021\n",
      "Epoch 7/200\n",
      "1250/1250 [==============================] - 0s 361us/step - loss: -0.2450 - val_loss: -0.0021\n",
      "Epoch 8/200\n",
      "1250/1250 [==============================] - 0s 361us/step - loss: -0.2453 - val_loss: -0.0022\n",
      "Epoch 9/200\n",
      "1250/1250 [==============================] - 0s 361us/step - loss: -0.2455 - val_loss: -0.0023\n",
      "Epoch 10/200\n",
      "1250/1250 [==============================] - 0s 360us/step - loss: -0.2458 - val_loss: -0.0028\n",
      "Epoch 11/200\n",
      "1250/1250 [==============================] - 0s 360us/step - loss: -0.2462 - val_loss: -0.0035\n",
      "Epoch 12/200\n",
      "1250/1250 [==============================] - 0s 360us/step - loss: -0.2468 - val_loss: -0.0039\n",
      "Epoch 13/200\n",
      "1250/1250 [==============================] - 0s 358us/step - loss: -0.2472 - val_loss: -0.0043\n",
      "Epoch 14/200\n",
      "1250/1250 [==============================] - 0s 359us/step - loss: -0.2476 - val_loss: -0.0047\n",
      "Epoch 15/200\n",
      "1250/1250 [==============================] - 0s 360us/step - loss: -0.2480 - val_loss: -0.0053\n",
      "Epoch 16/200\n",
      "1250/1250 [==============================] - 0s 361us/step - loss: -0.2484 - val_loss: -0.0054\n",
      "Epoch 17/200\n",
      "1250/1250 [==============================] - 0s 359us/step - loss: -0.2487 - val_loss: -0.0060\n",
      "Epoch 18/200\n",
      "1250/1250 [==============================] - 0s 359us/step - loss: -0.2489 - val_loss: -0.0058\n",
      "Epoch 19/200\n",
      "1250/1250 [==============================] - 0s 359us/step - loss: -0.2491 - val_loss: -0.0061\n",
      "Epoch 20/200\n",
      "1250/1250 [==============================] - 0s 359us/step - loss: -0.2493 - val_loss: -0.0064\n",
      "Epoch 21/200\n",
      "1250/1250 [==============================] - 0s 360us/step - loss: -0.2495 - val_loss: -0.0064\n",
      "Epoch 22/200\n",
      "1250/1250 [==============================] - 0s 359us/step - loss: -0.2495 - val_loss: -0.0065\n",
      "Epoch 23/200\n",
      "1250/1250 [==============================] - 0s 359us/step - loss: -0.2496 - val_loss: -0.0066\n",
      "Epoch 24/200\n",
      "1250/1250 [==============================] - 0s 359us/step - loss: -0.2497 - val_loss: -0.0068\n",
      "Epoch 25/200\n",
      "1250/1250 [==============================] - 0s 368us/step - loss: -0.2498 - val_loss: -0.0068\n",
      "Epoch 26/200\n",
      "1250/1250 [==============================] - 0s 359us/step - loss: -0.2498 - val_loss: -0.0069\n",
      "Epoch 27/200\n",
      "1250/1250 [==============================] - 0s 359us/step - loss: -0.2499 - val_loss: -0.0069\n",
      "Epoch 28/200\n",
      "1250/1250 [==============================] - 0s 359us/step - loss: -0.2499 - val_loss: -0.0068\n",
      "Epoch 29/200\n",
      "1250/1250 [==============================] - 0s 359us/step - loss: -0.2500 - val_loss: -0.0070\n",
      "Epoch 30/200\n",
      "1250/1250 [==============================] - 0s 359us/step - loss: -0.2500 - val_loss: -0.0070\n",
      "Epoch 31/200\n",
      "1250/1250 [==============================] - 0s 361us/step - loss: -0.2500 - val_loss: -0.0071\n",
      "Epoch 32/200\n",
      "1250/1250 [==============================] - 0s 360us/step - loss: -0.2501 - val_loss: -0.0069\n",
      "Epoch 33/200\n",
      "1250/1250 [==============================] - 0s 361us/step - loss: -0.2501 - val_loss: -0.0070\n",
      "Epoch 34/200\n",
      "1250/1250 [==============================] - 0s 360us/step - loss: -0.2501 - val_loss: -0.0070\n",
      "Epoch 35/200\n",
      "1250/1250 [==============================] - 0s 360us/step - loss: -0.2501 - val_loss: -0.0071\n",
      "Epoch 36/200\n",
      "1250/1250 [==============================] - 0s 361us/step - loss: -0.2502 - val_loss: -0.0070\n"
     ]
    }
   ],
   "source": [
    "from tensorflow.keras.callbacks import EarlyStopping\n",
    "# train (fit)\n",
    "\n",
    "es = EarlyStopping(patience=5, restore_best_weights=True)\n",
    "\n",
    "history = MLP2.fit(X_train, y_train, \n",
    "                  epochs=200, batch_size=32, verbose=1,\n",
    "                  validation_data=(X_val, y_val), callbacks = [es], shuffle = True)"
   ]
  },
  {
   "cell_type": "code",
   "execution_count": 22,
   "id": "30458bb3",
   "metadata": {},
   "outputs": [
    {
     "name": "stdout",
     "output_type": "stream",
     "text": [
      "1028/1028 [==============================] - 0s 213us/step - loss: -0.0169\n"
     ]
    },
    {
     "data": {
      "text/plain": [
       "-0.01691337488591671"
      ]
     },
     "execution_count": 22,
     "metadata": {},
     "output_type": "execute_result"
    }
   ],
   "source": [
    "# evaluate performance on test data\n",
    "a = MLP2.evaluate(X_test, y_test,\n",
    "                                         verbose=1)\n",
    "a"
   ]
  },
  {
   "cell_type": "code",
   "execution_count": 23,
   "id": "1105c327",
   "metadata": {},
   "outputs": [
    {
     "name": "stdout",
     "output_type": "stream",
     "text": [
      "1028/1028 [==============================] - 0s 183us/step\n"
     ]
    }
   ],
   "source": [
    "y_pred = MLP2.predict(X_test)"
   ]
  },
  {
   "cell_type": "code",
   "execution_count": 24,
   "id": "4a64e563",
   "metadata": {},
   "outputs": [
    {
     "data": {
      "text/plain": [
       "array([[0.02684282, 0.97315717],\n",
       "       [0.50485104, 0.49514902],\n",
       "       [0.3790634 , 0.62093663],\n",
       "       ...,\n",
       "       [0.02305307, 0.976947  ],\n",
       "       [0.1909528 , 0.80904716],\n",
       "       [0.06064329, 0.93935674]], dtype=float32)"
      ]
     },
     "execution_count": 24,
     "metadata": {},
     "output_type": "execute_result"
    }
   ],
   "source": [
    "y_pred"
   ]
  },
  {
   "cell_type": "code",
   "execution_count": 25,
   "id": "0f22f9e2",
   "metadata": {
    "scrolled": true
   },
   "outputs": [
    {
     "data": {
      "text/plain": [
       "array([0.02684282, 0.50485104, 0.3790634 , ..., 0.02305307, 0.1909528 ,\n",
       "       0.06064329], dtype=float32)"
      ]
     },
     "execution_count": 25,
     "metadata": {},
     "output_type": "execute_result"
    }
   ],
   "source": [
    "y_pred[:, 0]"
   ]
  },
  {
   "cell_type": "code",
   "execution_count": 26,
   "id": "f540b3ea",
   "metadata": {},
   "outputs": [
    {
     "data": {
      "text/plain": [
       "<Axes: ylabel='Count'>"
      ]
     },
     "execution_count": 26,
     "metadata": {},
     "output_type": "execute_result"
    },
    {
     "data": {
      "image/png": "[encoded data removed]",
      "text/plain": [
       "<Figure size 640x480 with 1 Axes>"
      ]
     },
     "metadata": {},
     "output_type": "display_data"
    }
   ],
   "source": [
    "import seaborn as sns\n",
    "sns.histplot(y_pred[:, 0:1], bins = 50, kde=True)"
   ]
  },
  {
   "cell_type": "code",
   "execution_count": 27,
   "id": "e33467fc",
   "metadata": {},
   "outputs": [
    {
     "name": "stderr",
     "output_type": "stream",
     "text": [
      "/var/folders/w6/wdkqbmf17b90n_r35p0cb7x00000gn/T/ipykernel_25042/3707614411.py:1: SettingWithCopyWarning: \n",
      "A value is trying to be set on a copy of a slice from a DataFrame.\n",
      "Try using .loc[row_indexer,col_indexer] = value instead\n",
      "\n",
      "See the caveats in the documentation: https://pandas.pydata.org/pandas-docs/stable/user_guide/indexing.html#returning-a-view-versus-a-copy\n",
      "  backtest_test['model_preds'] = y_pred[:, 0:1]\n",
      "/var/folders/w6/wdkqbmf17b90n_r35p0cb7x00000gn/T/ipykernel_25042/3707614411.py:2: SettingWithCopyWarning: \n",
      "A value is trying to be set on a copy of a slice from a DataFrame.\n",
      "Try using .loc[row_indexer,col_indexer] = value instead\n",
      "\n",
      "See the caveats in the documentation: https://pandas.pydata.org/pandas-docs/stable/user_guide/indexing.html#returning-a-view-versus-a-copy\n",
      "  backtest_test['odds_preds'] = 1/ backtest_test['f_pm_01m']\n",
      "/var/folders/w6/wdkqbmf17b90n_r35p0cb7x00000gn/T/ipykernel_25042/3707614411.py:3: SettingWithCopyWarning: \n",
      "A value is trying to be set on a copy of a slice from a DataFrame.\n",
      "Try using .loc[row_indexer,col_indexer] = value instead\n",
      "\n",
      "See the caveats in the documentation: https://pandas.pydata.org/pandas-docs/stable/user_guide/indexing.html#returning-a-view-versus-a-copy\n",
      "  backtest_test['model_edge_basic'] = backtest_test['model_preds'] - backtest_test['odds_preds']\n",
      "/var/folders/w6/wdkqbmf17b90n_r35p0cb7x00000gn/T/ipykernel_25042/3707614411.py:4: SettingWithCopyWarning: \n",
      "A value is trying to be set on a copy of a slice from a DataFrame.\n",
      "Try using .loc[row_indexer,col_indexer] = value instead\n",
      "\n",
      "See the caveats in the documentation: https://pandas.pydata.org/pandas-docs/stable/user_guide/indexing.html#returning-a-view-versus-a-copy\n",
      "  backtest_test['model_edge_proportionate'] = backtest_test['model_preds'] / backtest_test['odds_preds']\n"
     ]
    }
   ],
   "source": [
    "backtest_test['model_preds'] = y_pred[:, 0:1]\n",
    "backtest_test['odds_preds'] = 1/ backtest_test['f_pm_01m']\n",
    "backtest_test['model_edge_basic'] = backtest_test['model_preds'] - backtest_test['odds_preds']\n",
    "backtest_test['model_edge_proportionate'] = backtest_test['model_preds'] / backtest_test['odds_preds']"
   ]
  },
  {
   "cell_type": "code",
   "execution_count": 28,
   "id": "f764a21d",
   "metadata": {},
   "outputs": [
    {
     "name": "stderr",
     "output_type": "stream",
     "text": [
      "/var/folders/w6/wdkqbmf17b90n_r35p0cb7x00000gn/T/ipykernel_25042/502887811.py:6: SettingWithCopyWarning: \n",
      "A value is trying to be set on a copy of a slice from a DataFrame.\n",
      "Try using .loc[row_indexer,col_indexer] = value instead\n",
      "\n",
      "See the caveats in the documentation: https://pandas.pydata.org/pandas-docs/stable/user_guide/indexing.html#returning-a-view-versus-a-copy\n",
      "  backtest_test['race_model_preds'] = backtest_test['f_id'].map(dict_race_preds)\n",
      "/var/folders/w6/wdkqbmf17b90n_r35p0cb7x00000gn/T/ipykernel_25042/502887811.py:7: SettingWithCopyWarning: \n",
      "A value is trying to be set on a copy of a slice from a DataFrame.\n",
      "Try using .loc[row_indexer,col_indexer] = value instead\n",
      "\n",
      "See the caveats in the documentation: https://pandas.pydata.org/pandas-docs/stable/user_guide/indexing.html#returning-a-view-versus-a-copy\n",
      "  backtest_test['race_odds_preds'] = backtest_test['f_id'].map(dict_odds_preds)\n",
      "/var/folders/w6/wdkqbmf17b90n_r35p0cb7x00000gn/T/ipykernel_25042/502887811.py:8: SettingWithCopyWarning: \n",
      "A value is trying to be set on a copy of a slice from a DataFrame.\n",
      "Try using .loc[row_indexer,col_indexer] = value instead\n",
      "\n",
      "See the caveats in the documentation: https://pandas.pydata.org/pandas-docs/stable/user_guide/indexing.html#returning-a-view-versus-a-copy\n",
      "  backtest_test['model_preds_scaled'] = (backtest_test['model_preds'] / backtest_test['race_model_preds']) * backtest_test['race_odds_preds']\n",
      "/var/folders/w6/wdkqbmf17b90n_r35p0cb7x00000gn/T/ipykernel_25042/502887811.py:9: SettingWithCopyWarning: \n",
      "A value is trying to be set on a copy of a slice from a DataFrame.\n",
      "Try using .loc[row_indexer,col_indexer] = value instead\n",
      "\n",
      "See the caveats in the documentation: https://pandas.pydata.org/pandas-docs/stable/user_guide/indexing.html#returning-a-view-versus-a-copy\n",
      "  backtest_test['model_edge_basic_scaled'] = backtest_test['model_preds_scaled'] - backtest_test['odds_preds']\n",
      "/var/folders/w6/wdkqbmf17b90n_r35p0cb7x00000gn/T/ipykernel_25042/502887811.py:10: SettingWithCopyWarning: \n",
      "A value is trying to be set on a copy of a slice from a DataFrame.\n",
      "Try using .loc[row_indexer,col_indexer] = value instead\n",
      "\n",
      "See the caveats in the documentation: https://pandas.pydata.org/pandas-docs/stable/user_guide/indexing.html#returning-a-view-versus-a-copy\n",
      "  backtest_test['model_edge_prop_scaled'] = backtest_test['model_preds_scaled'] / backtest_test['odds_preds']\n"
     ]
    }
   ],
   "source": [
    "#backtest_test = backtest_test.drop(columns=['f_ko'])\n",
    "model_preds_race = backtest_test.groupby('f_id').sum().reset_index()\n",
    "model_preds_race2 = model_preds_race[['f_id', 'model_preds', 'odds_preds']]\n",
    "dict_odds_preds = model_preds_race2.set_index('f_id')['odds_preds'].to_dict()\n",
    "dict_race_preds = model_preds_race2.set_index('f_id')['model_preds'].to_dict()\n",
    "backtest_test['race_model_preds'] = backtest_test['f_id'].map(dict_race_preds)\n",
    "backtest_test['race_odds_preds'] = backtest_test['f_id'].map(dict_odds_preds)\n",
    "backtest_test['model_preds_scaled'] = (backtest_test['model_preds'] / backtest_test['race_model_preds']) * backtest_test['race_odds_preds']\n",
    "backtest_test['model_edge_basic_scaled'] = backtest_test['model_preds_scaled'] - backtest_test['odds_preds']\n",
    "backtest_test['model_edge_prop_scaled'] = backtest_test['model_preds_scaled'] / backtest_test['odds_preds']"
   ]
  },
  {
   "cell_type": "code",
   "execution_count": 29,
   "id": "89b2cec9",
   "metadata": {
    "scrolled": false
   },
   "outputs": [
    {
     "name": "stderr",
     "output_type": "stream",
     "text": [
      "/var/folders/w6/wdkqbmf17b90n_r35p0cb7x00000gn/T/ipykernel_25042/2474238632.py:1: SettingWithCopyWarning: \n",
      "A value is trying to be set on a copy of a slice from a DataFrame.\n",
      "Try using .loc[row_indexer,col_indexer] = value instead\n",
      "\n",
      "See the caveats in the documentation: https://pandas.pydata.org/pandas-docs/stable/user_guide/indexing.html#returning-a-view-versus-a-copy\n",
      "  backtest_test['model_preds'] = round(backtest_test['model_preds'],2)\n"
     ]
    }
   ],
   "source": [
    "backtest_test['model_preds'] = round(backtest_test['model_preds'],2)"
   ]
  },
  {
   "cell_type": "code",
   "execution_count": 30,
   "id": "d3629228",
   "metadata": {},
   "outputs": [
    {
     "data": {
      "text/html": [
       "<div>\n",
       "<style scoped>\n",
       "    .dataframe tbody tr th:only-of-type {\n",
       "        vertical-align: middle;\n",
       "    }\n",
       "\n",
       "    .dataframe tbody tr th {\n",
       "        vertical-align: top;\n",
       "    }\n",
       "\n",
       "    .dataframe thead th {\n",
       "        text-align: right;\n",
       "    }\n",
       "</style>\n",
       "<table border=\"1\" class=\"dataframe\">\n",
       "  <thead>\n",
       "    <tr style=\"text-align: right;\">\n",
       "      <th></th>\n",
       "      <th>f_ko</th>\n",
       "      <th>f_id</th>\n",
       "      <th>id</th>\n",
       "      <th>f_horse</th>\n",
       "      <th>f_pm_01m</th>\n",
       "      <th>linear_target</th>\n",
       "      <th>f_place</th>\n",
       "      <th>model_preds</th>\n",
       "      <th>odds_preds</th>\n",
       "      <th>model_edge_basic</th>\n",
       "      <th>model_edge_proportionate</th>\n",
       "      <th>race_model_preds</th>\n",
       "      <th>race_odds_preds</th>\n",
       "      <th>model_preds_scaled</th>\n",
       "      <th>model_edge_basic_scaled</th>\n",
       "      <th>model_edge_prop_scaled</th>\n",
       "    </tr>\n",
       "  </thead>\n",
       "  <tbody>\n",
       "    <tr>\n",
       "      <th>70000</th>\n",
       "      <td>2022-10-13 15:50:00</td>\n",
       "      <td>16656726000006</td>\n",
       "      <td>16656726000330</td>\n",
       "      <td>Rita Rana</td>\n",
       "      <td>22.0</td>\n",
       "      <td>-1.0</td>\n",
       "      <td>0</td>\n",
       "      <td>0.03</td>\n",
       "      <td>0.045455</td>\n",
       "      <td>-0.018612</td>\n",
       "      <td>0.590542</td>\n",
       "      <td>1.775157</td>\n",
       "      <td>0.238826</td>\n",
       "      <td>0.003611</td>\n",
       "      <td>-0.041843</td>\n",
       "      <td>0.079450</td>\n",
       "    </tr>\n",
       "    <tr>\n",
       "      <th>70001</th>\n",
       "      <td>2022-10-13 15:50:00</td>\n",
       "      <td>16656726000006</td>\n",
       "      <td>16656726000378</td>\n",
       "      <td>Sonnetina</td>\n",
       "      <td>7.2</td>\n",
       "      <td>-1.0</td>\n",
       "      <td>0</td>\n",
       "      <td>0.50</td>\n",
       "      <td>0.138889</td>\n",
       "      <td>0.365962</td>\n",
       "      <td>3.634928</td>\n",
       "      <td>1.775157</td>\n",
       "      <td>0.238826</td>\n",
       "      <td>0.067922</td>\n",
       "      <td>-0.070967</td>\n",
       "      <td>0.489036</td>\n",
       "    </tr>\n",
       "  </tbody>\n",
       "</table>\n",
       "</div>"
      ],
      "text/plain": [
       "                      f_ko            f_id              id    f_horse  \\\n",
       "70000  2022-10-13 15:50:00  16656726000006  16656726000330  Rita Rana   \n",
       "70001  2022-10-13 15:50:00  16656726000006  16656726000378  Sonnetina   \n",
       "\n",
       "       f_pm_01m  linear_target  f_place  model_preds  odds_preds  \\\n",
       "70000      22.0           -1.0        0         0.03    0.045455   \n",
       "70001       7.2           -1.0        0         0.50    0.138889   \n",
       "\n",
       "       model_edge_basic  model_edge_proportionate  race_model_preds  \\\n",
       "70000         -0.018612                  0.590542          1.775157   \n",
       "70001          0.365962                  3.634928          1.775157   \n",
       "\n",
       "       race_odds_preds  model_preds_scaled  model_edge_basic_scaled  \\\n",
       "70000         0.238826            0.003611                -0.041843   \n",
       "70001         0.238826            0.067922                -0.070967   \n",
       "\n",
       "       model_edge_prop_scaled  \n",
       "70000                0.079450  \n",
       "70001                0.489036  "
      ]
     },
     "execution_count": 30,
     "metadata": {},
     "output_type": "execute_result"
    }
   ],
   "source": [
    "backtest_test.head(2)"
   ]
  },
  {
   "cell_type": "code",
   "execution_count": 31,
   "id": "c7e76b2d",
   "metadata": {},
   "outputs": [
    {
     "name": "stderr",
     "output_type": "stream",
     "text": [
      "/var/folders/w6/wdkqbmf17b90n_r35p0cb7x00000gn/T/ipykernel_25042/748938632.py:14: SettingWithCopyWarning: \n",
      "A value is trying to be set on a copy of a slice from a DataFrame.\n",
      "Try using .loc[row_indexer,col_indexer] = value instead\n",
      "\n",
      "See the caveats in the documentation: https://pandas.pydata.org/pandas-docs/stable/user_guide/indexing.html#returning-a-view-versus-a-copy\n",
      "  dfall['cumulative_profit'] = dfall['linear_target'].cumsum()\n",
      "/var/folders/w6/wdkqbmf17b90n_r35p0cb7x00000gn/T/ipykernel_25042/748938632.py:20: SettingWithCopyWarning: \n",
      "A value is trying to be set on a copy of a slice from a DataFrame.\n",
      "Try using .loc[row_indexer,col_indexer] = value instead\n",
      "\n",
      "See the caveats in the documentation: https://pandas.pydata.org/pandas-docs/stable/user_guide/indexing.html#returning-a-view-versus-a-copy\n",
      "  df5['cumulative_profit'] = df5['linear_target'].cumsum()\n",
      "/var/folders/w6/wdkqbmf17b90n_r35p0cb7x00000gn/T/ipykernel_25042/748938632.py:23: SettingWithCopyWarning: \n",
      "A value is trying to be set on a copy of a slice from a DataFrame.\n",
      "Try using .loc[row_indexer,col_indexer] = value instead\n",
      "\n",
      "See the caveats in the documentation: https://pandas.pydata.org/pandas-docs/stable/user_guide/indexing.html#returning-a-view-versus-a-copy\n",
      "  df10['cumulative_profit'] = df10['linear_target'].cumsum()\n",
      "/var/folders/w6/wdkqbmf17b90n_r35p0cb7x00000gn/T/ipykernel_25042/748938632.py:26: SettingWithCopyWarning: \n",
      "A value is trying to be set on a copy of a slice from a DataFrame.\n",
      "Try using .loc[row_indexer,col_indexer] = value instead\n",
      "\n",
      "See the caveats in the documentation: https://pandas.pydata.org/pandas-docs/stable/user_guide/indexing.html#returning-a-view-versus-a-copy\n",
      "  df15['cumulative_profit'] = df15['linear_target'].cumsum()\n",
      "/var/folders/w6/wdkqbmf17b90n_r35p0cb7x00000gn/T/ipykernel_25042/748938632.py:29: SettingWithCopyWarning: \n",
      "A value is trying to be set on a copy of a slice from a DataFrame.\n",
      "Try using .loc[row_indexer,col_indexer] = value instead\n",
      "\n",
      "See the caveats in the documentation: https://pandas.pydata.org/pandas-docs/stable/user_guide/indexing.html#returning-a-view-versus-a-copy\n",
      "  df20['cumulative_profit'] = df20['linear_target'].cumsum()\n",
      "/var/folders/w6/wdkqbmf17b90n_r35p0cb7x00000gn/T/ipykernel_25042/748938632.py:32: SettingWithCopyWarning: \n",
      "A value is trying to be set on a copy of a slice from a DataFrame.\n",
      "Try using .loc[row_indexer,col_indexer] = value instead\n",
      "\n",
      "See the caveats in the documentation: https://pandas.pydata.org/pandas-docs/stable/user_guide/indexing.html#returning-a-view-versus-a-copy\n",
      "  df30['cumulative_profit'] = df30['linear_target'].cumsum()\n"
     ]
    },
    {
     "data": {
      "image/png": "[encoded data removed]",
      "text/plain": [
       "<Figure size 1000x600 with 1 Axes>"
      ]
     },
     "metadata": {},
     "output_type": "display_data"
    }
   ],
   "source": [
    "# Create dataframes of horses above specific proba_difference thresholds\n",
    "\n",
    "all_bets = backtest_test\n",
    "above0 = backtest_test[(backtest_test['model_preds'] >= 0.5) & (backtest_test['f_pm_01m'] < 2)]\n",
    "above5 = backtest_test[(backtest_test['model_preds'] >= 0.5) & (backtest_test['f_pm_01m'] >= 2) & (backtest_test['f_pm_01m'] < 5)]\n",
    "above10 = backtest_test[(backtest_test['model_preds'] >= 0.5) & (backtest_test['f_pm_01m'] >= 5) & (backtest_test['f_pm_01m'] < 10)]\n",
    "above15 = backtest_test[(backtest_test['model_preds'] >= 0.5) & (backtest_test['f_pm_01m'] >= 10) & (backtest_test['f_pm_01m'] < 25)]\n",
    "above20 = backtest_test[(backtest_test['model_preds'] >= 0.5) & (backtest_test['f_pm_01m'] >= 25) & (backtest_test['f_pm_01m'] < 51)]\n",
    "above30 = backtest_test[backtest_test['model_preds'] >= 0.5]\n",
    "\n",
    "# Calculate evolutions of profits for each threshold\n",
    "\n",
    "dfall = all_bets\n",
    "dfall['cumulative_profit'] = dfall['linear_target'].cumsum()\n",
    "\n",
    "df0 = above0\n",
    "df0['cumulative_profit'] = df0['linear_target'].cumsum()\n",
    "\n",
    "df5 = above5\n",
    "df5['cumulative_profit'] = df5['linear_target'].cumsum()\n",
    "\n",
    "df10 = above10\n",
    "df10['cumulative_profit'] = df10['linear_target'].cumsum()\n",
    "\n",
    "df15 = above15\n",
    "df15['cumulative_profit'] = df15['linear_target'].cumsum()\n",
    "\n",
    "df20 = above20\n",
    "df20['cumulative_profit'] = df20['linear_target'].cumsum()\n",
    "\n",
    "df30 = above30\n",
    "df30['cumulative_profit'] = df30['linear_target'].cumsum()\n",
    "\n",
    "import matplotlib.pyplot as plt\n",
    "# Plot\n",
    "plt.figure(figsize=(10,6))\n",
    "#plt.plot(range(1, len(dfall) + 1), dfall['cumulative_profit'], label='all bets')\n",
    "plt.plot(range(1, len(df0) + 1), df0['cumulative_profit'], label='<2 odds')\n",
    "plt.plot(range(1, len(df5) + 1), df5['cumulative_profit'], label='2-5 odds')\n",
    "plt.plot(range(1, len(df10) + 1), df10['cumulative_profit'], label='5-10 odds')\n",
    "plt.plot(range(1, len(df15) + 1), df15['cumulative_profit'], label='10-25 odds')\n",
    "plt.plot(range(1, len(df20) + 1), df20['cumulative_profit'], label='25-50 odds')\n",
    "#plt.plot(range(1, len(df30) + 1), df30['cumulative_profit'], label='0.875 threshold')\n",
    "\n",
    "plt.title(\"xxx\")\n",
    "plt.xlabel(\"number of bets\")\n",
    "plt.ylabel(\"profit (£)\")\n",
    "plt.legend()\n",
    "plt.grid(True)\n",
    "plt.tight_layout()\n",
    "plt.show()"
   ]
  },
  {
   "cell_type": "code",
   "execution_count": null,
   "id": "b2d0612b",
   "metadata": {},
   "outputs": [],
   "source": [
    "plt.plot(history.history['loss'], label = 'loss')\n",
    "plt.plot(history.history[\"val_loss\"])\n",
    "plt.show()"
   ]
  },
  {
   "cell_type": "code",
   "execution_count": null,
   "id": "8be5644c",
   "metadata": {},
   "outputs": [],
   "source": []
  },
  {
   "cell_type": "code",
   "execution_count": null,
   "id": "3116b111",
   "metadata": {},
   "outputs": [],
   "source": []
  },
  {
   "cell_type": "code",
   "execution_count": null,
   "id": "f51aec81",
   "metadata": {},
   "outputs": [],
   "source": [
    "#MLP2.save_weights(\"custom_scorer0.05_7input_l16\")"
   ]
  },
  {
   "cell_type": "code",
   "execution_count": null,
   "id": "7f5594a4",
   "metadata": {},
   "outputs": [],
   "source": [
    "# Create dataframes of horses above specific proba_difference thresholds\n",
    "\n",
    "all_bets = backtest_test\n",
    "above0 = backtest_test[backtest_test['model_edge_basic_scaled'] >= 0]\n",
    "above5 = backtest_test[backtest_test['model_edge_basic_scaled'] >= 0.025]\n",
    "above10 = backtest_test[backtest_test['model_edge_basic_scaled'] >= 0.05]\n",
    "above15 = backtest_test[backtest_test['model_edge_basic_scaled'] >= 0.075]\n",
    "above20 = backtest_test[backtest_test['model_edge_basic_scaled'] >= 0.10]\n",
    "above30 = backtest_test[backtest_test['model_edge_basic_scaled'] >= 0.20]\n",
    "\n",
    "# Calculate evolutions of profits for each threshold\n",
    "\n",
    "dfall = all_bets\n",
    "dfall['cumulative_profit'] = dfall['linear_target'].cumsum()\n",
    "\n",
    "df0 = above0\n",
    "df0['cumulative_profit'] = df0['linear_target'].cumsum()\n",
    "\n",
    "df5 = above5\n",
    "df5['cumulative_profit'] = df5['linear_target'].cumsum()\n",
    "\n",
    "df10 = above10\n",
    "df10['cumulative_profit'] = df10['linear_target'].cumsum()\n",
    "\n",
    "df15 = above15\n",
    "df15['cumulative_profit'] = df15['linear_target'].cumsum()\n",
    "\n",
    "df20 = above20\n",
    "df20['cumulative_profit'] = df20['linear_target'].cumsum()\n",
    "\n",
    "df30 = above30\n",
    "df30['cumulative_profit'] = df30['linear_target'].cumsum()"
   ]
  },
  {
   "cell_type": "code",
   "execution_count": null,
   "id": "3e4eff44",
   "metadata": {},
   "outputs": [],
   "source": [
    "# Create dataframes of horses above specific proba_difference thresholds\n",
    "\n",
    "all_bets = backtest_test\n",
    "above0b = backtest_test[backtest_test['model_edge_basic'] >= 0]\n",
    "above5b = backtest_test[backtest_test['model_edge_basic'] >= 0.05]\n",
    "above10b = backtest_test[backtest_test['model_edge_basic'] >= 0.1]\n",
    "above15b = backtest_test[backtest_test['model_edge_basic'] >= 0.15]\n",
    "above20b = backtest_test[backtest_test['model_edge_basic'] >= 0.20]\n",
    "above30b = backtest_test[backtest_test['model_edge_basic'] >= 0.30]\n",
    "\n",
    "# Calculate evolutions of profits for each threshold\n",
    "\n",
    "dfall = all_bets\n",
    "dfall['cumulative_profit'] = dfall['linear_target'].cumsum()\n",
    "\n",
    "df0b = above0b\n",
    "df0b['cumulative_profit'] = df0b['linear_target'].cumsum()\n",
    "\n",
    "df5b = above5b\n",
    "df5b['cumulative_profit'] = df5b['linear_target'].cumsum()\n",
    "\n",
    "df10b = above10b\n",
    "df10b['cumulative_profit'] = df10b['linear_target'].cumsum()\n",
    "\n",
    "df15b = above15b\n",
    "df15b['cumulative_profit'] = df15b['linear_target'].cumsum()\n",
    "\n",
    "df20b = above20b\n",
    "df20b['cumulative_profit'] = df20b['linear_target'].cumsum()\n",
    "\n",
    "df30b = above30b\n",
    "df30b['cumulative_profit'] = df30b['linear_target'].cumsum()"
   ]
  },
  {
   "cell_type": "code",
   "execution_count": null,
   "id": "a76d2bd4",
   "metadata": {},
   "outputs": [],
   "source": [
    "import matplotlib.pyplot as plt\n",
    "# Plot\n",
    "plt.figure(figsize=(10,6))\n",
    "#plt.plot(range(1, len(dfall) + 1), dfall['cumulative_profit'], label='all bets')\n",
    "#plt.plot(range(1, len(df0) + 1), df0['cumulative_profit'], label='0 threshold')\n",
    "plt.plot(range(1, len(df5) + 1), df5['cumulative_profit'], label='2.5 threshold')\n",
    "plt.plot(range(1, len(df10) + 1), df10['cumulative_profit'], label='5 threshold')\n",
    "plt.plot(range(1, len(df15) + 1), df15['cumulative_profit'], label='7.5 threshold')\n",
    "plt.plot(range(1, len(df20) + 1), df20['cumulative_profit'], label='10 threshold')\n",
    "plt.plot(range(1, len(df30) + 1), df30['cumulative_profit'], label='20 threshold')\n",
    "#plt.plot(range(1, len(df5b) + 1), df5b['cumulative_profit'], label='5 threshold unscaled')\n",
    "#plt.plot(range(1, len(df10b) + 1), df10b['cumulative_profit'], label='10 threshold unscaled')\n",
    "#plt.plot(range(1, len(df15b) + 1), df15b['cumulative_profit'], label='15 threshold unscaled')\n",
    "#plt.plot(range(1, len(df20b) + 1), df20b['cumulative_profit'], label='20 threshold unscaled')\n",
    "#plt.plot(range(1, len(df30b) + 1), df30b['cumulative_profit'], label='30 threshold unscaled')\n",
    "\n",
    "plt.title(\"xxx\")\n",
    "plt.xlabel(\"number of bets\")\n",
    "plt.ylabel(\"profit (£)\")\n",
    "plt.legend()\n",
    "plt.grid(True)\n",
    "plt.tight_layout()\n",
    "plt.show()"
   ]
  },
  {
   "cell_type": "code",
   "execution_count": null,
   "id": "ba5e6645",
   "metadata": {},
   "outputs": [],
   "source": [
    "plt.hist(backtest_test['model_edge_proportionate'])"
   ]
  },
  {
   "cell_type": "code",
   "execution_count": null,
   "id": "20e87f13",
   "metadata": {},
   "outputs": [],
   "source": [
    "# Create dataframes of horses above specific proba_difference thresholds\n",
    "\n",
    "all_bets = backtest_test\n",
    "above0c = backtest_test[backtest_test['model_edge_proportionate'] >= 1]\n",
    "above5c = backtest_test[backtest_test['model_edge_proportionate'] >= 1.125]\n",
    "above10c = backtest_test[backtest_test['model_edge_proportionate'] >= 1.25]\n",
    "above15c = backtest_test[backtest_test['model_edge_proportionate'] >= 1.375]\n",
    "above20c = backtest_test[backtest_test['model_edge_proportionate'] >= 1.5]\n",
    "above30c = backtest_test[backtest_test['model_edge_proportionate'] >= 1.75]\n",
    "\n",
    "# Calculate evolutions of profits for each threshold\n",
    "\n",
    "dfall = all_bets\n",
    "dfall['cumulative_profit'] = dfall['linear_target'].cumsum()\n",
    "\n",
    "df0c = above0c\n",
    "df0c['cumulative_profit'] = df0c['linear_target'].cumsum()\n",
    "\n",
    "df5c = above5c\n",
    "df5c['cumulative_profit'] = df5c['linear_target'].cumsum()\n",
    "\n",
    "df10c = above10c\n",
    "df10c['cumulative_profit'] = df10c['linear_target'].cumsum()\n",
    "\n",
    "df15c = above15c\n",
    "df15c['cumulative_profit'] = df15c['linear_target'].cumsum()\n",
    "\n",
    "df20c = above20c\n",
    "df20c['cumulative_profit'] = df20c['linear_target'].cumsum()\n",
    "\n",
    "df30c = above30c\n",
    "df30c['cumulative_profit'] = df30c['linear_target'].cumsum()"
   ]
  },
  {
   "cell_type": "code",
   "execution_count": null,
   "id": "b79d8e75",
   "metadata": {},
   "outputs": [],
   "source": [
    "# Create dataframes of horses above specific proba_difference thresholds\n",
    "\n",
    "all_bets = backtest_test\n",
    "above0d = backtest_test[backtest_test['model_edge_prop_scaled'] >= 1]\n",
    "above5d = backtest_test[backtest_test['model_edge_prop_scaled'] >= 1.05]\n",
    "above10d = backtest_test[backtest_test['model_edge_prop_scaled'] >= 1.1]\n",
    "above15d = backtest_test[backtest_test['model_edge_prop_scaled'] >= 1.15]\n",
    "above20d = backtest_test[backtest_test['model_edge_prop_scaled'] >= 1.2]\n",
    "above30d = backtest_test[backtest_test['model_edge_prop_scaled'] >= 1.25]\n",
    "\n",
    "# Calculate evolutions of profits for each threshold\n",
    "\n",
    "dfall = all_bets\n",
    "dfall['cumulative_profit'] = dfall['linear_target'].cumsum()\n",
    "\n",
    "df0d = above0d\n",
    "df0d['cumulative_profit'] = df0c['linear_target'].cumsum()\n",
    "\n",
    "df5d = above5d\n",
    "df5d['cumulative_profit'] = df5c['linear_target'].cumsum()\n",
    "\n",
    "df10d = above10d\n",
    "df10d['cumulative_profit'] = df10c['linear_target'].cumsum()\n",
    "\n",
    "df15d = above15d\n",
    "df15d['cumulative_profit'] = df15c['linear_target'].cumsum()\n",
    "\n",
    "df20d = above20d\n",
    "df20d['cumulative_profit'] = df20c['linear_target'].cumsum()\n",
    "\n",
    "df30d = above30d\n",
    "df30d['cumulative_profit'] = df30c['linear_target'].cumsum()"
   ]
  },
  {
   "cell_type": "code",
   "execution_count": null,
   "id": "e92931cb",
   "metadata": {
    "scrolled": true
   },
   "outputs": [],
   "source": [
    "import matplotlib.pyplot as plt\n",
    "# Plot\n",
    "plt.figure(figsize=(10,6))\n",
    "#plt.plot(range(1, len(dfall) + 1), dfall['cumulative_profit'], label='all bets')\n",
    "#plt.plot(range(1, len(df0d) + 1), df0d['cumulative_profit'], label='1 threshold')\n",
    "#plt.plot(range(1, len(df5d) + 1), df5d['cumulative_profit'], label='1.125 threshold')\n",
    "plt.plot(range(1, len(df10d) + 1), df10d['cumulative_profit'], label='1.25 threshold')\n",
    "plt.plot(range(1, len(df15d) + 1), df15d['cumulative_profit'], label='1.375 threshold')\n",
    "plt.plot(range(1, len(df20d) + 1), df20d['cumulative_profit'], label='1.5 threshold')\n",
    "plt.plot(range(1, len(df30d) + 1), df30d['cumulative_profit'], label='1.75 threshold')\n",
    "#plt.plot(range(1, len(df5c) + 1), df5c['cumulative_profit'], label='1.05 threshold unscaled')\n",
    "#plt.plot(range(1, len(df10c) + 1), df10c['cumulative_profit'], label='1.1 threshold unscaled')\n",
    "#plt.plot(range(1, len(df15c) + 1), df15c['cumulative_profit'], label='1.15 threshold unscaled')\n",
    "#plt.plot(range(1, len(df20c) + 1), df20c['cumulative_profit'], label='1.2 threshold unscaled')\n",
    "#plt.plot(range(1, len(df30c) + 1), df30c['cumulative_profit'], label='1.25 threshold unscaled')\n",
    "\n",
    "plt.title(\"xxx\")\n",
    "plt.xlabel(\"number of bets\")\n",
    "plt.ylabel(\"profit (£)\")\n",
    "plt.legend()\n",
    "plt.grid(True)\n",
    "plt.tight_layout()\n",
    "plt.show()"
   ]
  },
  {
   "cell_type": "code",
   "execution_count": null,
   "id": "6f65066c",
   "metadata": {},
   "outputs": [],
   "source": [
    "backtest_test"
   ]
  },
  {
   "cell_type": "code",
   "execution_count": null,
   "id": "06d6f4d4",
   "metadata": {},
   "outputs": [],
   "source": []
  }
 ],
 "metadata": {
  "kernelspec": {
   "display_name": "Python 3 (ipykernel)",
   "language": "python",
   "name": "python3"
  },
  "language_info": {
   "codemirror_mode": {
    "name": "ipython",
    "version": 3
   },
   "file_extension": ".py",
   "mimetype": "text/x-python",
   "name": "python",
   "nbconvert_exporter": "python",
   "pygments_lexer": "ipython3",
   "version": "3.11.4"
  },
  "toc": {
   "base_numbering": 1,
   "nav_menu": {},
   "number_sections": true,
   "sideBar": true,
   "skip_h1_title": false,
   "title_cell": "Table of Contents",
   "title_sidebar": "Contents",
   "toc_cell": false,
   "toc_position": {},
   "toc_section_display": true,
   "toc_window_display": false
  }
 },
 "nbformat": 4,
 "nbformat_minor": 5
}
